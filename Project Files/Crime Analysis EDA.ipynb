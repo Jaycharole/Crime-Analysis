{
 "cells": [
  {
   "cell_type": "markdown",
   "id": "d73f0530",
   "metadata": {},
   "source": [
    "<center><h2>EDA on Crime Dataset</h2></center>"
   ]
  },
  {
   "cell_type": "markdown",
   "id": "58cd8921",
   "metadata": {},
   "source": [
    "<a id='1'></a>\n",
    "### Import Standard Libraries "
   ]
  },
  {
   "cell_type": "code",
   "execution_count": 31,
   "id": "3981437f",
   "metadata": {},
   "outputs": [],
   "source": [
    "import numpy as np\n",
    "import pandas as pd\n",
    "import matplotlib.pyplot as plt\n",
    "import seaborn as sns\n",
    "import plotly.express as px\n",
    "import warnings\n",
    "warnings.filterwarnings(action='ignore')"
   ]
  },
  {
   "cell_type": "code",
   "execution_count": 32,
   "id": "c5bf502a",
   "metadata": {},
   "outputs": [
    {
     "data": {
      "text/html": [
       "<div>\n",
       "<style scoped>\n",
       "    .dataframe tbody tr th:only-of-type {\n",
       "        vertical-align: middle;\n",
       "    }\n",
       "\n",
       "    .dataframe tbody tr th {\n",
       "        vertical-align: top;\n",
       "    }\n",
       "\n",
       "    .dataframe thead th {\n",
       "        text-align: right;\n",
       "    }\n",
       "</style>\n",
       "<table border=\"1\" class=\"dataframe\">\n",
       "  <thead>\n",
       "    <tr style=\"text-align: right;\">\n",
       "      <th></th>\n",
       "      <th>FILE NUMBER</th>\n",
       "      <th>OFFENSE DATE</th>\n",
       "      <th>OFFENSE TIME</th>\n",
       "      <th>CRIME</th>\n",
       "      <th>COMMITTED</th>\n",
       "      <th>OFFENSE</th>\n",
       "      <th>OFFENSE DESCRIPTION</th>\n",
       "      <th>FULL ADDRESS</th>\n",
       "      <th>ADDRESS NUMBER</th>\n",
       "      <th>STREET DIRECTION</th>\n",
       "      <th>...</th>\n",
       "      <th>CITY</th>\n",
       "      <th>STATE</th>\n",
       "      <th>ZIP CODE</th>\n",
       "      <th>DISTRICT</th>\n",
       "      <th>ZONE</th>\n",
       "      <th>SUBZONE</th>\n",
       "      <th>COMPLETE DISTRICT</th>\n",
       "      <th>COUNCIL DISTRICT</th>\n",
       "      <th>CRIME PREVENTION DISTRICT</th>\n",
       "      <th>GEOLOCATION</th>\n",
       "    </tr>\n",
       "  </thead>\n",
       "  <tbody>\n",
       "    <tr>\n",
       "      <th>0</th>\n",
       "      <td>NaN</td>\n",
       "      <td>04/11/2020</td>\n",
       "      <td>1645</td>\n",
       "      <td>SEXUAL ASSAULT</td>\n",
       "      <td>COMMITTED</td>\n",
       "      <td>14:43.1</td>\n",
       "      <td>BATT/SEXUAL</td>\n",
       "      <td>NaN</td>\n",
       "      <td>NaN</td>\n",
       "      <td>NaN</td>\n",
       "      <td>...</td>\n",
       "      <td>NaN</td>\n",
       "      <td>NaN</td>\n",
       "      <td>70802.0</td>\n",
       "      <td>2</td>\n",
       "      <td>C</td>\n",
       "      <td>1</td>\n",
       "      <td>2C1</td>\n",
       "      <td>10.0</td>\n",
       "      <td>NONE</td>\n",
       "      <td>NaN</td>\n",
       "    </tr>\n",
       "    <tr>\n",
       "      <th>1</th>\n",
       "      <td>NaN</td>\n",
       "      <td>10/28/2019</td>\n",
       "      <td>2248</td>\n",
       "      <td>JUVENILE</td>\n",
       "      <td>COMMITTED</td>\n",
       "      <td>14:81</td>\n",
       "      <td>IND BEHAVIOR W/JUV</td>\n",
       "      <td>NaN</td>\n",
       "      <td>NaN</td>\n",
       "      <td>NaN</td>\n",
       "      <td>...</td>\n",
       "      <td>NaN</td>\n",
       "      <td>NaN</td>\n",
       "      <td>70807.0</td>\n",
       "      <td>4</td>\n",
       "      <td>B</td>\n",
       "      <td>3</td>\n",
       "      <td>4B3</td>\n",
       "      <td>2.0</td>\n",
       "      <td>NONE</td>\n",
       "      <td>NaN</td>\n",
       "    </tr>\n",
       "    <tr>\n",
       "      <th>2</th>\n",
       "      <td>NaN</td>\n",
       "      <td>11/05/2019</td>\n",
       "      <td>537</td>\n",
       "      <td>SEXUAL ASSAULT</td>\n",
       "      <td>COMMITTED</td>\n",
       "      <td>14:43.1</td>\n",
       "      <td>BATT/SEXUAL</td>\n",
       "      <td>NaN</td>\n",
       "      <td>NaN</td>\n",
       "      <td>NaN</td>\n",
       "      <td>...</td>\n",
       "      <td>NaN</td>\n",
       "      <td>NaN</td>\n",
       "      <td>70802.0</td>\n",
       "      <td>1</td>\n",
       "      <td>A</td>\n",
       "      <td>1</td>\n",
       "      <td>1A1</td>\n",
       "      <td>10.0</td>\n",
       "      <td>NONE</td>\n",
       "      <td>NaN</td>\n",
       "    </tr>\n",
       "    <tr>\n",
       "      <th>3</th>\n",
       "      <td>NaN</td>\n",
       "      <td>11/09/2019</td>\n",
       "      <td>2345</td>\n",
       "      <td>SEXUAL ASSAULT</td>\n",
       "      <td>ATTEMPTED</td>\n",
       "      <td>14:42.1/B</td>\n",
       "      <td>RAPE/ATT FORCIBLE</td>\n",
       "      <td>NaN</td>\n",
       "      <td>NaN</td>\n",
       "      <td>NaN</td>\n",
       "      <td>...</td>\n",
       "      <td>NaN</td>\n",
       "      <td>NaN</td>\n",
       "      <td>70816.0</td>\n",
       "      <td>3</td>\n",
       "      <td>E</td>\n",
       "      <td>5</td>\n",
       "      <td>3E5</td>\n",
       "      <td>8.0</td>\n",
       "      <td>NONE</td>\n",
       "      <td>NaN</td>\n",
       "    </tr>\n",
       "    <tr>\n",
       "      <th>4</th>\n",
       "      <td>NaN</td>\n",
       "      <td>03/14/2020</td>\n",
       "      <td>1657</td>\n",
       "      <td>JUVENILE</td>\n",
       "      <td>COMMITTED</td>\n",
       "      <td>14:81</td>\n",
       "      <td>IND BEHAVIOR W/JUV</td>\n",
       "      <td>NaN</td>\n",
       "      <td>NaN</td>\n",
       "      <td>NaN</td>\n",
       "      <td>...</td>\n",
       "      <td>NaN</td>\n",
       "      <td>NaN</td>\n",
       "      <td>70805.0</td>\n",
       "      <td>NaN</td>\n",
       "      <td>NaN</td>\n",
       "      <td>NaN</td>\n",
       "      <td>NaN</td>\n",
       "      <td>7.0</td>\n",
       "      <td>NONE</td>\n",
       "      <td>NaN</td>\n",
       "    </tr>\n",
       "  </tbody>\n",
       "</table>\n",
       "<p>5 rows × 22 columns</p>\n",
       "</div>"
      ],
      "text/plain": [
       "   FILE NUMBER OFFENSE DATE OFFENSE TIME           CRIME  COMMITTED  \\\n",
       "0          NaN   04/11/2020         1645  SEXUAL ASSAULT  COMMITTED   \n",
       "1          NaN   10/28/2019         2248        JUVENILE  COMMITTED   \n",
       "2          NaN   11/05/2019          537  SEXUAL ASSAULT  COMMITTED   \n",
       "3          NaN   11/09/2019         2345  SEXUAL ASSAULT  ATTEMPTED   \n",
       "4          NaN   03/14/2020         1657        JUVENILE  COMMITTED   \n",
       "\n",
       "     OFFENSE OFFENSE DESCRIPTION FULL ADDRESS  ADDRESS NUMBER  \\\n",
       "0    14:43.1         BATT/SEXUAL          NaN             NaN   \n",
       "1      14:81  IND BEHAVIOR W/JUV          NaN             NaN   \n",
       "2    14:43.1         BATT/SEXUAL          NaN             NaN   \n",
       "3  14:42.1/B   RAPE/ATT FORCIBLE          NaN             NaN   \n",
       "4      14:81  IND BEHAVIOR W/JUV          NaN             NaN   \n",
       "\n",
       "  STREET DIRECTION  ... CITY STATE ZIP CODE DISTRICT  ZONE SUBZONE  \\\n",
       "0              NaN  ...  NaN   NaN  70802.0        2     C       1   \n",
       "1              NaN  ...  NaN   NaN  70807.0        4     B       3   \n",
       "2              NaN  ...  NaN   NaN  70802.0        1     A       1   \n",
       "3              NaN  ...  NaN   NaN  70816.0        3     E       5   \n",
       "4              NaN  ...  NaN   NaN  70805.0      NaN   NaN     NaN   \n",
       "\n",
       "  COMPLETE DISTRICT COUNCIL DISTRICT CRIME PREVENTION DISTRICT  GEOLOCATION  \n",
       "0               2C1             10.0                      NONE          NaN  \n",
       "1               4B3              2.0                      NONE          NaN  \n",
       "2               1A1             10.0                      NONE          NaN  \n",
       "3               3E5              8.0                      NONE          NaN  \n",
       "4               NaN              7.0                      NONE          NaN  \n",
       "\n",
       "[5 rows x 22 columns]"
      ]
     },
     "execution_count": 32,
     "metadata": {},
     "output_type": "execute_result"
    }
   ],
   "source": [
    "crime_df = pd.read_csv('Crime_Incidents_data.csv')\n",
    "crime_df.head()"
   ]
  },
  {
   "cell_type": "markdown",
   "id": "9ccd67a4",
   "metadata": {},
   "source": [
    "Let's see the different columns available, number of records, null values if any"
   ]
  },
  {
   "cell_type": "code",
   "execution_count": 33,
   "id": "57e950db",
   "metadata": {},
   "outputs": [
    {
     "data": {
      "text/plain": [
       "Index(['FILE NUMBER', 'OFFENSE DATE', 'OFFENSE TIME', 'CRIME', 'COMMITTED',\n",
       "       'OFFENSE', 'OFFENSE DESCRIPTION', 'FULL ADDRESS', 'ADDRESS NUMBER',\n",
       "       'STREET DIRECTION', 'STREET NAME', 'STREET TYPE', 'CITY', 'STATE',\n",
       "       'ZIP CODE', 'DISTRICT', 'ZONE', 'SUBZONE', 'COMPLETE DISTRICT',\n",
       "       'COUNCIL DISTRICT', 'CRIME PREVENTION DISTRICT', 'GEOLOCATION'],\n",
       "      dtype='object')"
      ]
     },
     "execution_count": 33,
     "metadata": {},
     "output_type": "execute_result"
    }
   ],
   "source": [
    "crime_df.columns"
   ]
  },
  {
   "cell_type": "code",
   "execution_count": 34,
   "id": "1adb5911",
   "metadata": {},
   "outputs": [
    {
     "data": {
      "text/plain": [
       "(490578, 22)"
      ]
     },
     "execution_count": 34,
     "metadata": {},
     "output_type": "execute_result"
    }
   ],
   "source": [
    "crime_df.shape"
   ]
  },
  {
   "cell_type": "markdown",
   "id": "234d0f6f",
   "metadata": {},
   "source": [
    "So this dataset contains around `500K` records spanned across `22` columns."
   ]
  },
  {
   "cell_type": "code",
   "execution_count": 35,
   "id": "1ad4f6ad",
   "metadata": {},
   "outputs": [
    {
     "name": "stdout",
     "output_type": "stream",
     "text": [
      "<class 'pandas.core.frame.DataFrame'>\n",
      "RangeIndex: 490578 entries, 0 to 490577\n",
      "Data columns (total 22 columns):\n",
      " #   Column                     Non-Null Count   Dtype  \n",
      "---  ------                     --------------   -----  \n",
      " 0   FILE NUMBER                483265 non-null  float64\n",
      " 1   OFFENSE DATE               490578 non-null  object \n",
      " 2   OFFENSE TIME               490578 non-null  object \n",
      " 3   CRIME                      490578 non-null  object \n",
      " 4   COMMITTED                  490578 non-null  object \n",
      " 5   OFFENSE                    490578 non-null  object \n",
      " 6   OFFENSE DESCRIPTION        490578 non-null  object \n",
      " 7   FULL ADDRESS               483265 non-null  object \n",
      " 8   ADDRESS NUMBER             482448 non-null  float64\n",
      " 9   STREET DIRECTION           80244 non-null   object \n",
      " 10  STREET NAME                483265 non-null  object \n",
      " 11  STREET TYPE                466665 non-null  object \n",
      " 12  CITY                       483265 non-null  object \n",
      " 13  STATE                      483265 non-null  object \n",
      " 14  ZIP CODE                   487531 non-null  float64\n",
      " 15  DISTRICT                   467456 non-null  object \n",
      " 16  ZONE                       467456 non-null  object \n",
      " 17  SUBZONE                    467456 non-null  object \n",
      " 18  COMPLETE DISTRICT          467456 non-null  object \n",
      " 19  COUNCIL DISTRICT           487263 non-null  float64\n",
      " 20  CRIME PREVENTION DISTRICT  487273 non-null  object \n",
      " 21  GEOLOCATION                483265 non-null  object \n",
      "dtypes: float64(4), object(18)\n",
      "memory usage: 82.3+ MB\n"
     ]
    }
   ],
   "source": [
    "crime_df.info()"
   ]
  },
  {
   "cell_type": "markdown",
   "id": "1fb24785",
   "metadata": {},
   "source": [
    "[Index](#Index)\n",
    "<a id='2'></a>\n",
    "### Dealing with Null values"
   ]
  },
  {
   "cell_type": "code",
   "execution_count": 36,
   "id": "40aa9edc",
   "metadata": {},
   "outputs": [
    {
     "data": {
      "text/plain": [
       "True"
      ]
     },
     "execution_count": 36,
     "metadata": {},
     "output_type": "execute_result"
    }
   ],
   "source": [
    "crime_df.isnull().values.any()"
   ]
  },
  {
   "cell_type": "markdown",
   "id": "8d03dd97",
   "metadata": {},
   "source": [
    "So we've null values present in this dataset, we'll calculate how many(%) null values are there in each column."
   ]
  },
  {
   "cell_type": "code",
   "execution_count": 37,
   "id": "a33d41a7",
   "metadata": {},
   "outputs": [
    {
     "data": {
      "text/plain": [
       "FILE NUMBER                   1.490691\n",
       "OFFENSE DATE                  0.000000\n",
       "OFFENSE TIME                  0.000000\n",
       "CRIME                         0.000000\n",
       "COMMITTED                     0.000000\n",
       "OFFENSE                       0.000000\n",
       "OFFENSE DESCRIPTION           0.000000\n",
       "FULL ADDRESS                  1.490691\n",
       "ADDRESS NUMBER                1.657229\n",
       "STREET DIRECTION             83.642968\n",
       "STREET NAME                   1.490691\n",
       "STREET TYPE                   4.874454\n",
       "CITY                          1.490691\n",
       "STATE                         1.490691\n",
       "ZIP CODE                      0.621104\n",
       "DISTRICT                      4.713216\n",
       "ZONE                          4.713216\n",
       "SUBZONE                       4.713216\n",
       "COMPLETE DISTRICT             4.713216\n",
       "COUNCIL DISTRICT              0.675734\n",
       "CRIME PREVENTION DISTRICT     0.673695\n",
       "GEOLOCATION                   1.490691\n",
       "dtype: float64"
      ]
     },
     "execution_count": 37,
     "metadata": {},
     "output_type": "execute_result"
    }
   ],
   "source": [
    "crime_df.isna().sum() / len(crime_df) * 100"
   ]
  },
  {
   "cell_type": "markdown",
   "id": "3338dc8f",
   "metadata": {},
   "source": [
    "Few columns have null values from 0.5 to 1.5%, other few have upto 5%, whereas `STREET DIRECTION` column has most null values which is 83.6% of the total records.<br><br>\n",
    "Dropping the `STREET DIRECTION` column cause it contains most null values, which makes it less useful, and storing it in a different variable so we can have a reference to the original dataframe."
   ]
  },
  {
   "cell_type": "code",
   "execution_count": 38,
   "id": "2d637134",
   "metadata": {},
   "outputs": [],
   "source": [
    "crime_df2 = crime_df.drop('STREET DIRECTION', axis=1)"
   ]
  },
  {
   "cell_type": "code",
   "execution_count": 39,
   "id": "d0b341d2",
   "metadata": {},
   "outputs": [],
   "source": [
    "crime_df2 = crime_df2.dropna(axis=0)"
   ]
  },
  {
   "cell_type": "code",
   "execution_count": 40,
   "id": "733a217a",
   "metadata": {},
   "outputs": [
    {
     "data": {
      "text/plain": [
       "(442300, 21)"
      ]
     },
     "execution_count": 40,
     "metadata": {},
     "output_type": "execute_result"
    }
   ],
   "source": [
    "crime_df2.shape"
   ]
  },
  {
   "cell_type": "code",
   "execution_count": 41,
   "id": "8e179e13",
   "metadata": {},
   "outputs": [
    {
     "data": {
      "text/plain": [
       "False"
      ]
     },
     "execution_count": 41,
     "metadata": {},
     "output_type": "execute_result"
    }
   ],
   "source": [
    "crime_df2.isnull().values.any()"
   ]
  },
  {
   "cell_type": "markdown",
   "id": "3a7c4419",
   "metadata": {},
   "source": [
    "Checking for duplicate values if any"
   ]
  },
  {
   "cell_type": "code",
   "execution_count": 42,
   "id": "116600e7",
   "metadata": {},
   "outputs": [
    {
     "data": {
      "text/plain": [
       "7"
      ]
     },
     "execution_count": 42,
     "metadata": {},
     "output_type": "execute_result"
    }
   ],
   "source": [
    "crime_df2.duplicated().sum()"
   ]
  },
  {
   "cell_type": "code",
   "execution_count": 43,
   "id": "dbda9fd9",
   "metadata": {},
   "outputs": [],
   "source": [
    "crime_df2 = crime_df2.drop_duplicates()\n",
    "crime_df2 = crime_df2.reset_index(drop=True)"
   ]
  },
  {
   "cell_type": "code",
   "execution_count": 44,
   "id": "5101017e",
   "metadata": {},
   "outputs": [
    {
     "data": {
      "text/plain": [
       "0"
      ]
     },
     "execution_count": 44,
     "metadata": {},
     "output_type": "execute_result"
    }
   ],
   "source": [
    "crime_df2.duplicated().sum()"
   ]
  },
  {
   "cell_type": "markdown",
   "id": "a23b22e7",
   "metadata": {},
   "source": [
    "Now we don't have any null or duplicated values so we can proceed further on exploring the dataset in depth."
   ]
  },
  {
   "cell_type": "markdown",
   "id": "ce841ca6",
   "metadata": {},
   "source": [
    "<a id='3'></a>\n",
    "[Index](#Index)\n",
    "### Exploring Data"
   ]
  },
  {
   "cell_type": "code",
   "execution_count": 45,
   "id": "acb3baa5",
   "metadata": {},
   "outputs": [
    {
     "data": {
      "text/html": [
       "<div>\n",
       "<style scoped>\n",
       "    .dataframe tbody tr th:only-of-type {\n",
       "        vertical-align: middle;\n",
       "    }\n",
       "\n",
       "    .dataframe tbody tr th {\n",
       "        vertical-align: top;\n",
       "    }\n",
       "\n",
       "    .dataframe thead th {\n",
       "        text-align: right;\n",
       "    }\n",
       "</style>\n",
       "<table border=\"1\" class=\"dataframe\">\n",
       "  <thead>\n",
       "    <tr style=\"text-align: right;\">\n",
       "      <th></th>\n",
       "      <th>FILE NUMBER</th>\n",
       "      <th>OFFENSE DATE</th>\n",
       "      <th>OFFENSE TIME</th>\n",
       "      <th>CRIME</th>\n",
       "      <th>COMMITTED</th>\n",
       "      <th>OFFENSE</th>\n",
       "      <th>OFFENSE DESCRIPTION</th>\n",
       "      <th>FULL ADDRESS</th>\n",
       "      <th>ADDRESS NUMBER</th>\n",
       "      <th>STREET NAME</th>\n",
       "      <th>...</th>\n",
       "      <th>CITY</th>\n",
       "      <th>STATE</th>\n",
       "      <th>ZIP CODE</th>\n",
       "      <th>DISTRICT</th>\n",
       "      <th>ZONE</th>\n",
       "      <th>SUBZONE</th>\n",
       "      <th>COMPLETE DISTRICT</th>\n",
       "      <th>COUNCIL DISTRICT</th>\n",
       "      <th>CRIME PREVENTION DISTRICT</th>\n",
       "      <th>GEOLOCATION</th>\n",
       "    </tr>\n",
       "  </thead>\n",
       "  <tbody>\n",
       "    <tr>\n",
       "      <th>0</th>\n",
       "      <td>1.900120e+09</td>\n",
       "      <td>12/01/2019</td>\n",
       "      <td>0</td>\n",
       "      <td>THEFT</td>\n",
       "      <td>COMMITTED</td>\n",
       "      <td>13:67</td>\n",
       "      <td>THEFT/MISD/CC</td>\n",
       "      <td>10391 AIRLINE HW</td>\n",
       "      <td>10391.0</td>\n",
       "      <td>AIRLINE</td>\n",
       "      <td>...</td>\n",
       "      <td>BATON ROUGE</td>\n",
       "      <td>LA</td>\n",
       "      <td>70816.0</td>\n",
       "      <td>3</td>\n",
       "      <td>C</td>\n",
       "      <td>3</td>\n",
       "      <td>3C3</td>\n",
       "      <td>8.0</td>\n",
       "      <td>NONE</td>\n",
       "      <td>10391 AIRLINE HW\\nBATON ROUGE, LA 70815</td>\n",
       "    </tr>\n",
       "    <tr>\n",
       "      <th>1</th>\n",
       "      <td>2.000001e+09</td>\n",
       "      <td>01/04/2020</td>\n",
       "      <td>228</td>\n",
       "      <td>OTHER</td>\n",
       "      <td>COMMITTED</td>\n",
       "      <td>11:140</td>\n",
       "      <td>D W I /CC</td>\n",
       "      <td>3400 FLORIDA BL</td>\n",
       "      <td>3400.0</td>\n",
       "      <td>FLORIDA</td>\n",
       "      <td>...</td>\n",
       "      <td>BATON ROUGE</td>\n",
       "      <td>LA</td>\n",
       "      <td>70806.0</td>\n",
       "      <td>1</td>\n",
       "      <td>B</td>\n",
       "      <td>1</td>\n",
       "      <td>1B1</td>\n",
       "      <td>7.0</td>\n",
       "      <td>NONE</td>\n",
       "      <td>3400 FLORIDA BL\\nBATON ROUGE, LA</td>\n",
       "    </tr>\n",
       "    <tr>\n",
       "      <th>2</th>\n",
       "      <td>2.000006e+09</td>\n",
       "      <td>01/18/2020</td>\n",
       "      <td>1940</td>\n",
       "      <td>BATTERY</td>\n",
       "      <td>COMMITTED</td>\n",
       "      <td>14:34.1</td>\n",
       "      <td>BATT/2ND DEGREE</td>\n",
       "      <td>2136 LOBDELL BL</td>\n",
       "      <td>2136.0</td>\n",
       "      <td>LOBDELL</td>\n",
       "      <td>...</td>\n",
       "      <td>BATON ROUGE</td>\n",
       "      <td>LA</td>\n",
       "      <td>70806.0</td>\n",
       "      <td>1</td>\n",
       "      <td>D</td>\n",
       "      <td>2</td>\n",
       "      <td>1D2</td>\n",
       "      <td>6.0</td>\n",
       "      <td>NONE</td>\n",
       "      <td>2136 LOBDELL BL\\nBATON ROUGE, LA 70805</td>\n",
       "    </tr>\n",
       "    <tr>\n",
       "      <th>3</th>\n",
       "      <td>1.300056e+09</td>\n",
       "      <td>06/29/2013</td>\n",
       "      <td>1917</td>\n",
       "      <td>OTHER</td>\n",
       "      <td>COMMITTED</td>\n",
       "      <td>11:140</td>\n",
       "      <td>D W I /CC</td>\n",
       "      <td>200 NORTH I110 HW</td>\n",
       "      <td>200.0</td>\n",
       "      <td>NORTH I-110</td>\n",
       "      <td>...</td>\n",
       "      <td>BATON ROUGE</td>\n",
       "      <td>LA</td>\n",
       "      <td>70802.0</td>\n",
       "      <td>2</td>\n",
       "      <td>A</td>\n",
       "      <td>2</td>\n",
       "      <td>2A2</td>\n",
       "      <td>10.0</td>\n",
       "      <td>NONE</td>\n",
       "      <td>200 NORTH I110 HW\\nBATON ROUGE, LA</td>\n",
       "    </tr>\n",
       "    <tr>\n",
       "      <th>4</th>\n",
       "      <td>2.000010e+09</td>\n",
       "      <td>02/01/2020</td>\n",
       "      <td>1824</td>\n",
       "      <td>OTHER</td>\n",
       "      <td>COMMITTED</td>\n",
       "      <td>14:52</td>\n",
       "      <td>ARSON/SIMPLE</td>\n",
       "      <td>8464 AIRLINE HW</td>\n",
       "      <td>8464.0</td>\n",
       "      <td>AIRLINE</td>\n",
       "      <td>...</td>\n",
       "      <td>BATON ROUGE</td>\n",
       "      <td>LA</td>\n",
       "      <td>70806.0</td>\n",
       "      <td>1</td>\n",
       "      <td>D</td>\n",
       "      <td>2</td>\n",
       "      <td>1D2</td>\n",
       "      <td>6.0</td>\n",
       "      <td>NONE</td>\n",
       "      <td>8464 AIRLINE HW\\nBATON ROUGE, LA 70812</td>\n",
       "    </tr>\n",
       "  </tbody>\n",
       "</table>\n",
       "<p>5 rows × 21 columns</p>\n",
       "</div>"
      ],
      "text/plain": [
       "    FILE NUMBER OFFENSE DATE OFFENSE TIME    CRIME  COMMITTED  OFFENSE  \\\n",
       "0  1.900120e+09   12/01/2019            0    THEFT  COMMITTED    13:67   \n",
       "1  2.000001e+09   01/04/2020          228    OTHER  COMMITTED   11:140   \n",
       "2  2.000006e+09   01/18/2020         1940  BATTERY  COMMITTED  14:34.1   \n",
       "3  1.300056e+09   06/29/2013         1917    OTHER  COMMITTED   11:140   \n",
       "4  2.000010e+09   02/01/2020         1824    OTHER  COMMITTED    14:52   \n",
       "\n",
       "  OFFENSE DESCRIPTION       FULL ADDRESS  ADDRESS NUMBER  STREET NAME  ...  \\\n",
       "0       THEFT/MISD/CC   10391 AIRLINE HW         10391.0      AIRLINE  ...   \n",
       "1           D W I /CC    3400 FLORIDA BL          3400.0      FLORIDA  ...   \n",
       "2     BATT/2ND DEGREE    2136 LOBDELL BL          2136.0      LOBDELL  ...   \n",
       "3           D W I /CC  200 NORTH I110 HW           200.0  NORTH I-110  ...   \n",
       "4        ARSON/SIMPLE    8464 AIRLINE HW          8464.0      AIRLINE  ...   \n",
       "\n",
       "          CITY STATE ZIP CODE  DISTRICT ZONE SUBZONE COMPLETE DISTRICT  \\\n",
       "0  BATON ROUGE    LA  70816.0         3    C       3               3C3   \n",
       "1  BATON ROUGE    LA  70806.0         1    B       1               1B1   \n",
       "2  BATON ROUGE    LA  70806.0         1    D       2               1D2   \n",
       "3  BATON ROUGE    LA  70802.0         2    A       2               2A2   \n",
       "4  BATON ROUGE    LA  70806.0         1    D       2               1D2   \n",
       "\n",
       "  COUNCIL DISTRICT  CRIME PREVENTION DISTRICT  \\\n",
       "0              8.0                       NONE   \n",
       "1              7.0                       NONE   \n",
       "2              6.0                       NONE   \n",
       "3             10.0                       NONE   \n",
       "4              6.0                       NONE   \n",
       "\n",
       "                               GEOLOCATION  \n",
       "0  10391 AIRLINE HW\\nBATON ROUGE, LA 70815  \n",
       "1         3400 FLORIDA BL\\nBATON ROUGE, LA  \n",
       "2   2136 LOBDELL BL\\nBATON ROUGE, LA 70805  \n",
       "3       200 NORTH I110 HW\\nBATON ROUGE, LA  \n",
       "4   8464 AIRLINE HW\\nBATON ROUGE, LA 70812  \n",
       "\n",
       "[5 rows x 21 columns]"
      ]
     },
     "execution_count": 45,
     "metadata": {},
     "output_type": "execute_result"
    }
   ],
   "source": [
    "crime_df2.head()"
   ]
  },
  {
   "cell_type": "markdown",
   "id": "464f81ca",
   "metadata": {},
   "source": [
    "Let's find out how many different crimes categories are there with their value counts."
   ]
  },
  {
   "cell_type": "code",
   "execution_count": 46,
   "id": "1628db62",
   "metadata": {},
   "outputs": [],
   "source": [
    "crime_categories = crime_df2['CRIME'].value_counts()"
   ]
  },
  {
   "cell_type": "code",
   "execution_count": 47,
   "id": "03dbe525",
   "metadata": {},
   "outputs": [
    {
     "data": {
      "application/vnd.plotly.v1+json": {
       "config": {
        "plotlyServerURL": "https://plot.ly"
       },
       "data": [
        {
         "alignmentgroup": "True",
         "hovertemplate": "CRIME=%{x}<br>Count=%{y}<br>color=%{marker.color}<extra></extra>",
         "legendgroup": "",
         "marker": {
          "color": [
           119770,
           96166,
           39909,
           39104,
           34581,
           24349,
           19178,
           15298,
           14957,
           14842,
           11046,
           6654,
           3804,
           1750,
           885
          ],
          "coloraxis": "coloraxis",
          "pattern": {
           "shape": ""
          }
         },
         "name": "",
         "offsetgroup": "",
         "orientation": "v",
         "showlegend": false,
         "textposition": "auto",
         "type": "bar",
         "x": [
          "OTHER",
          "THEFT",
          "BATTERY",
          "NARCOTICS",
          "CRIMINAL DAMAGE TO PROPERTY",
          "VEHICLE BURGLARY",
          "ASSAULT",
          "FIREARM",
          "NON-RESIDENTIAL BURGLARY",
          "RESIDENTIAL BURGLARY",
          "NUISANCE",
          "INDIVIDUAL ROBBERY",
          "HOMICIDE",
          "VICE",
          "BUSINESS ROBBERY"
         ],
         "xaxis": "x",
         "y": [
          119770,
          96166,
          39909,
          39104,
          34581,
          24349,
          19178,
          15298,
          14957,
          14842,
          11046,
          6654,
          3804,
          1750,
          885
         ],
         "yaxis": "y"
        }
       ],
       "layout": {
        "barmode": "relative",
        "coloraxis": {
         "colorbar": {
          "title": {
           "text": "color"
          }
         },
         "colorscale": [
          [
           0,
           "#0d0887"
          ],
          [
           0.1111111111111111,
           "#46039f"
          ],
          [
           0.2222222222222222,
           "#7201a8"
          ],
          [
           0.3333333333333333,
           "#9c179e"
          ],
          [
           0.4444444444444444,
           "#bd3786"
          ],
          [
           0.5555555555555556,
           "#d8576b"
          ],
          [
           0.6666666666666666,
           "#ed7953"
          ],
          [
           0.7777777777777778,
           "#fb9f3a"
          ],
          [
           0.8888888888888888,
           "#fdca26"
          ],
          [
           1,
           "#f0f921"
          ]
         ],
         "showscale": false
        },
        "height": 500,
        "legend": {
         "tracegroupgap": 0
        },
        "template": {
         "data": {
          "bar": [
           {
            "error_x": {
             "color": "#2a3f5f"
            },
            "error_y": {
             "color": "#2a3f5f"
            },
            "marker": {
             "line": {
              "color": "#E5ECF6",
              "width": 0.5
             },
             "pattern": {
              "fillmode": "overlay",
              "size": 10,
              "solidity": 0.2
             }
            },
            "type": "bar"
           }
          ],
          "barpolar": [
           {
            "marker": {
             "line": {
              "color": "#E5ECF6",
              "width": 0.5
             },
             "pattern": {
              "fillmode": "overlay",
              "size": 10,
              "solidity": 0.2
             }
            },
            "type": "barpolar"
           }
          ],
          "carpet": [
           {
            "aaxis": {
             "endlinecolor": "#2a3f5f",
             "gridcolor": "white",
             "linecolor": "white",
             "minorgridcolor": "white",
             "startlinecolor": "#2a3f5f"
            },
            "baxis": {
             "endlinecolor": "#2a3f5f",
             "gridcolor": "white",
             "linecolor": "white",
             "minorgridcolor": "white",
             "startlinecolor": "#2a3f5f"
            },
            "type": "carpet"
           }
          ],
          "choropleth": [
           {
            "colorbar": {
             "outlinewidth": 0,
             "ticks": ""
            },
            "type": "choropleth"
           }
          ],
          "contour": [
           {
            "colorbar": {
             "outlinewidth": 0,
             "ticks": ""
            },
            "colorscale": [
             [
              0,
              "#0d0887"
             ],
             [
              0.1111111111111111,
              "#46039f"
             ],
             [
              0.2222222222222222,
              "#7201a8"
             ],
             [
              0.3333333333333333,
              "#9c179e"
             ],
             [
              0.4444444444444444,
              "#bd3786"
             ],
             [
              0.5555555555555556,
              "#d8576b"
             ],
             [
              0.6666666666666666,
              "#ed7953"
             ],
             [
              0.7777777777777778,
              "#fb9f3a"
             ],
             [
              0.8888888888888888,
              "#fdca26"
             ],
             [
              1,
              "#f0f921"
             ]
            ],
            "type": "contour"
           }
          ],
          "contourcarpet": [
           {
            "colorbar": {
             "outlinewidth": 0,
             "ticks": ""
            },
            "type": "contourcarpet"
           }
          ],
          "heatmap": [
           {
            "colorbar": {
             "outlinewidth": 0,
             "ticks": ""
            },
            "colorscale": [
             [
              0,
              "#0d0887"
             ],
             [
              0.1111111111111111,
              "#46039f"
             ],
             [
              0.2222222222222222,
              "#7201a8"
             ],
             [
              0.3333333333333333,
              "#9c179e"
             ],
             [
              0.4444444444444444,
              "#bd3786"
             ],
             [
              0.5555555555555556,
              "#d8576b"
             ],
             [
              0.6666666666666666,
              "#ed7953"
             ],
             [
              0.7777777777777778,
              "#fb9f3a"
             ],
             [
              0.8888888888888888,
              "#fdca26"
             ],
             [
              1,
              "#f0f921"
             ]
            ],
            "type": "heatmap"
           }
          ],
          "heatmapgl": [
           {
            "colorbar": {
             "outlinewidth": 0,
             "ticks": ""
            },
            "colorscale": [
             [
              0,
              "#0d0887"
             ],
             [
              0.1111111111111111,
              "#46039f"
             ],
             [
              0.2222222222222222,
              "#7201a8"
             ],
             [
              0.3333333333333333,
              "#9c179e"
             ],
             [
              0.4444444444444444,
              "#bd3786"
             ],
             [
              0.5555555555555556,
              "#d8576b"
             ],
             [
              0.6666666666666666,
              "#ed7953"
             ],
             [
              0.7777777777777778,
              "#fb9f3a"
             ],
             [
              0.8888888888888888,
              "#fdca26"
             ],
             [
              1,
              "#f0f921"
             ]
            ],
            "type": "heatmapgl"
           }
          ],
          "histogram": [
           {
            "marker": {
             "pattern": {
              "fillmode": "overlay",
              "size": 10,
              "solidity": 0.2
             }
            },
            "type": "histogram"
           }
          ],
          "histogram2d": [
           {
            "colorbar": {
             "outlinewidth": 0,
             "ticks": ""
            },
            "colorscale": [
             [
              0,
              "#0d0887"
             ],
             [
              0.1111111111111111,
              "#46039f"
             ],
             [
              0.2222222222222222,
              "#7201a8"
             ],
             [
              0.3333333333333333,
              "#9c179e"
             ],
             [
              0.4444444444444444,
              "#bd3786"
             ],
             [
              0.5555555555555556,
              "#d8576b"
             ],
             [
              0.6666666666666666,
              "#ed7953"
             ],
             [
              0.7777777777777778,
              "#fb9f3a"
             ],
             [
              0.8888888888888888,
              "#fdca26"
             ],
             [
              1,
              "#f0f921"
             ]
            ],
            "type": "histogram2d"
           }
          ],
          "histogram2dcontour": [
           {
            "colorbar": {
             "outlinewidth": 0,
             "ticks": ""
            },
            "colorscale": [
             [
              0,
              "#0d0887"
             ],
             [
              0.1111111111111111,
              "#46039f"
             ],
             [
              0.2222222222222222,
              "#7201a8"
             ],
             [
              0.3333333333333333,
              "#9c179e"
             ],
             [
              0.4444444444444444,
              "#bd3786"
             ],
             [
              0.5555555555555556,
              "#d8576b"
             ],
             [
              0.6666666666666666,
              "#ed7953"
             ],
             [
              0.7777777777777778,
              "#fb9f3a"
             ],
             [
              0.8888888888888888,
              "#fdca26"
             ],
             [
              1,
              "#f0f921"
             ]
            ],
            "type": "histogram2dcontour"
           }
          ],
          "mesh3d": [
           {
            "colorbar": {
             "outlinewidth": 0,
             "ticks": ""
            },
            "type": "mesh3d"
           }
          ],
          "parcoords": [
           {
            "line": {
             "colorbar": {
              "outlinewidth": 0,
              "ticks": ""
             }
            },
            "type": "parcoords"
           }
          ],
          "pie": [
           {
            "automargin": true,
            "type": "pie"
           }
          ],
          "scatter": [
           {
            "fillpattern": {
             "fillmode": "overlay",
             "size": 10,
             "solidity": 0.2
            },
            "type": "scatter"
           }
          ],
          "scatter3d": [
           {
            "line": {
             "colorbar": {
              "outlinewidth": 0,
              "ticks": ""
             }
            },
            "marker": {
             "colorbar": {
              "outlinewidth": 0,
              "ticks": ""
             }
            },
            "type": "scatter3d"
           }
          ],
          "scattercarpet": [
           {
            "marker": {
             "colorbar": {
              "outlinewidth": 0,
              "ticks": ""
             }
            },
            "type": "scattercarpet"
           }
          ],
          "scattergeo": [
           {
            "marker": {
             "colorbar": {
              "outlinewidth": 0,
              "ticks": ""
             }
            },
            "type": "scattergeo"
           }
          ],
          "scattergl": [
           {
            "marker": {
             "colorbar": {
              "outlinewidth": 0,
              "ticks": ""
             }
            },
            "type": "scattergl"
           }
          ],
          "scattermapbox": [
           {
            "marker": {
             "colorbar": {
              "outlinewidth": 0,
              "ticks": ""
             }
            },
            "type": "scattermapbox"
           }
          ],
          "scatterpolar": [
           {
            "marker": {
             "colorbar": {
              "outlinewidth": 0,
              "ticks": ""
             }
            },
            "type": "scatterpolar"
           }
          ],
          "scatterpolargl": [
           {
            "marker": {
             "colorbar": {
              "outlinewidth": 0,
              "ticks": ""
             }
            },
            "type": "scatterpolargl"
           }
          ],
          "scatterternary": [
           {
            "marker": {
             "colorbar": {
              "outlinewidth": 0,
              "ticks": ""
             }
            },
            "type": "scatterternary"
           }
          ],
          "surface": [
           {
            "colorbar": {
             "outlinewidth": 0,
             "ticks": ""
            },
            "colorscale": [
             [
              0,
              "#0d0887"
             ],
             [
              0.1111111111111111,
              "#46039f"
             ],
             [
              0.2222222222222222,
              "#7201a8"
             ],
             [
              0.3333333333333333,
              "#9c179e"
             ],
             [
              0.4444444444444444,
              "#bd3786"
             ],
             [
              0.5555555555555556,
              "#d8576b"
             ],
             [
              0.6666666666666666,
              "#ed7953"
             ],
             [
              0.7777777777777778,
              "#fb9f3a"
             ],
             [
              0.8888888888888888,
              "#fdca26"
             ],
             [
              1,
              "#f0f921"
             ]
            ],
            "type": "surface"
           }
          ],
          "table": [
           {
            "cells": {
             "fill": {
              "color": "#EBF0F8"
             },
             "line": {
              "color": "white"
             }
            },
            "header": {
             "fill": {
              "color": "#C8D4E3"
             },
             "line": {
              "color": "white"
             }
            },
            "type": "table"
           }
          ]
         },
         "layout": {
          "annotationdefaults": {
           "arrowcolor": "#2a3f5f",
           "arrowhead": 0,
           "arrowwidth": 1
          },
          "autotypenumbers": "strict",
          "coloraxis": {
           "colorbar": {
            "outlinewidth": 0,
            "ticks": ""
           }
          },
          "colorscale": {
           "diverging": [
            [
             0,
             "#8e0152"
            ],
            [
             0.1,
             "#c51b7d"
            ],
            [
             0.2,
             "#de77ae"
            ],
            [
             0.3,
             "#f1b6da"
            ],
            [
             0.4,
             "#fde0ef"
            ],
            [
             0.5,
             "#f7f7f7"
            ],
            [
             0.6,
             "#e6f5d0"
            ],
            [
             0.7,
             "#b8e186"
            ],
            [
             0.8,
             "#7fbc41"
            ],
            [
             0.9,
             "#4d9221"
            ],
            [
             1,
             "#276419"
            ]
           ],
           "sequential": [
            [
             0,
             "#0d0887"
            ],
            [
             0.1111111111111111,
             "#46039f"
            ],
            [
             0.2222222222222222,
             "#7201a8"
            ],
            [
             0.3333333333333333,
             "#9c179e"
            ],
            [
             0.4444444444444444,
             "#bd3786"
            ],
            [
             0.5555555555555556,
             "#d8576b"
            ],
            [
             0.6666666666666666,
             "#ed7953"
            ],
            [
             0.7777777777777778,
             "#fb9f3a"
            ],
            [
             0.8888888888888888,
             "#fdca26"
            ],
            [
             1,
             "#f0f921"
            ]
           ],
           "sequentialminus": [
            [
             0,
             "#0d0887"
            ],
            [
             0.1111111111111111,
             "#46039f"
            ],
            [
             0.2222222222222222,
             "#7201a8"
            ],
            [
             0.3333333333333333,
             "#9c179e"
            ],
            [
             0.4444444444444444,
             "#bd3786"
            ],
            [
             0.5555555555555556,
             "#d8576b"
            ],
            [
             0.6666666666666666,
             "#ed7953"
            ],
            [
             0.7777777777777778,
             "#fb9f3a"
            ],
            [
             0.8888888888888888,
             "#fdca26"
            ],
            [
             1,
             "#f0f921"
            ]
           ]
          },
          "colorway": [
           "#636efa",
           "#EF553B",
           "#00cc96",
           "#ab63fa",
           "#FFA15A",
           "#19d3f3",
           "#FF6692",
           "#B6E880",
           "#FF97FF",
           "#FECB52"
          ],
          "font": {
           "color": "#2a3f5f"
          },
          "geo": {
           "bgcolor": "white",
           "lakecolor": "white",
           "landcolor": "#E5ECF6",
           "showlakes": true,
           "showland": true,
           "subunitcolor": "white"
          },
          "hoverlabel": {
           "align": "left"
          },
          "hovermode": "closest",
          "mapbox": {
           "style": "light"
          },
          "paper_bgcolor": "white",
          "plot_bgcolor": "#E5ECF6",
          "polar": {
           "angularaxis": {
            "gridcolor": "white",
            "linecolor": "white",
            "ticks": ""
           },
           "bgcolor": "#E5ECF6",
           "radialaxis": {
            "gridcolor": "white",
            "linecolor": "white",
            "ticks": ""
           }
          },
          "scene": {
           "xaxis": {
            "backgroundcolor": "#E5ECF6",
            "gridcolor": "white",
            "gridwidth": 2,
            "linecolor": "white",
            "showbackground": true,
            "ticks": "",
            "zerolinecolor": "white"
           },
           "yaxis": {
            "backgroundcolor": "#E5ECF6",
            "gridcolor": "white",
            "gridwidth": 2,
            "linecolor": "white",
            "showbackground": true,
            "ticks": "",
            "zerolinecolor": "white"
           },
           "zaxis": {
            "backgroundcolor": "#E5ECF6",
            "gridcolor": "white",
            "gridwidth": 2,
            "linecolor": "white",
            "showbackground": true,
            "ticks": "",
            "zerolinecolor": "white"
           }
          },
          "shapedefaults": {
           "line": {
            "color": "#2a3f5f"
           }
          },
          "ternary": {
           "aaxis": {
            "gridcolor": "white",
            "linecolor": "white",
            "ticks": ""
           },
           "baxis": {
            "gridcolor": "white",
            "linecolor": "white",
            "ticks": ""
           },
           "bgcolor": "#E5ECF6",
           "caxis": {
            "gridcolor": "white",
            "linecolor": "white",
            "ticks": ""
           }
          },
          "title": {
           "x": 0.05
          },
          "xaxis": {
           "automargin": true,
           "gridcolor": "white",
           "linecolor": "white",
           "ticks": "",
           "title": {
            "standoff": 15
           },
           "zerolinecolor": "white",
           "zerolinewidth": 2
          },
          "yaxis": {
           "automargin": true,
           "gridcolor": "white",
           "linecolor": "white",
           "ticks": "",
           "title": {
            "standoff": 15
           },
           "zerolinecolor": "white",
           "zerolinewidth": 2
          }
         }
        },
        "title": {
         "text": "CRIME Categories by Count"
        },
        "width": 800,
        "xaxis": {
         "anchor": "y",
         "domain": [
          0,
          1
         ],
         "title": {
          "text": "CRIME"
         }
        },
        "yaxis": {
         "anchor": "x",
         "domain": [
          0,
          1
         ],
         "title": {
          "text": "Count"
         }
        }
       }
      },
      "text/html": [
       "<div>                            <div id=\"95d87ea0-0e81-438c-b35c-c395c1218550\" class=\"plotly-graph-div\" style=\"height:500px; width:800px;\"></div>            <script type=\"text/javascript\">                require([\"plotly\"], function(Plotly) {                    window.PLOTLYENV=window.PLOTLYENV || {};                                    if (document.getElementById(\"95d87ea0-0e81-438c-b35c-c395c1218550\")) {                    Plotly.newPlot(                        \"95d87ea0-0e81-438c-b35c-c395c1218550\",                        [{\"alignmentgroup\":\"True\",\"hovertemplate\":\"CRIME=%{x}<br>Count=%{y}<br>color=%{marker.color}<extra></extra>\",\"legendgroup\":\"\",\"marker\":{\"color\":[119770,96166,39909,39104,34581,24349,19178,15298,14957,14842,11046,6654,3804,1750,885],\"coloraxis\":\"coloraxis\",\"pattern\":{\"shape\":\"\"}},\"name\":\"\",\"offsetgroup\":\"\",\"orientation\":\"v\",\"showlegend\":false,\"textposition\":\"auto\",\"x\":[\"OTHER\",\"THEFT\",\"BATTERY\",\"NARCOTICS\",\"CRIMINAL DAMAGE TO PROPERTY\",\"VEHICLE BURGLARY\",\"ASSAULT\",\"FIREARM\",\"NON-RESIDENTIAL BURGLARY\",\"RESIDENTIAL BURGLARY\",\"NUISANCE\",\"INDIVIDUAL ROBBERY\",\"HOMICIDE\",\"VICE\",\"BUSINESS ROBBERY\"],\"xaxis\":\"x\",\"y\":[119770,96166,39909,39104,34581,24349,19178,15298,14957,14842,11046,6654,3804,1750,885],\"yaxis\":\"y\",\"type\":\"bar\"}],                        {\"template\":{\"data\":{\"histogram2dcontour\":[{\"type\":\"histogram2dcontour\",\"colorbar\":{\"outlinewidth\":0,\"ticks\":\"\"},\"colorscale\":[[0.0,\"#0d0887\"],[0.1111111111111111,\"#46039f\"],[0.2222222222222222,\"#7201a8\"],[0.3333333333333333,\"#9c179e\"],[0.4444444444444444,\"#bd3786\"],[0.5555555555555556,\"#d8576b\"],[0.6666666666666666,\"#ed7953\"],[0.7777777777777778,\"#fb9f3a\"],[0.8888888888888888,\"#fdca26\"],[1.0,\"#f0f921\"]]}],\"choropleth\":[{\"type\":\"choropleth\",\"colorbar\":{\"outlinewidth\":0,\"ticks\":\"\"}}],\"histogram2d\":[{\"type\":\"histogram2d\",\"colorbar\":{\"outlinewidth\":0,\"ticks\":\"\"},\"colorscale\":[[0.0,\"#0d0887\"],[0.1111111111111111,\"#46039f\"],[0.2222222222222222,\"#7201a8\"],[0.3333333333333333,\"#9c179e\"],[0.4444444444444444,\"#bd3786\"],[0.5555555555555556,\"#d8576b\"],[0.6666666666666666,\"#ed7953\"],[0.7777777777777778,\"#fb9f3a\"],[0.8888888888888888,\"#fdca26\"],[1.0,\"#f0f921\"]]}],\"heatmap\":[{\"type\":\"heatmap\",\"colorbar\":{\"outlinewidth\":0,\"ticks\":\"\"},\"colorscale\":[[0.0,\"#0d0887\"],[0.1111111111111111,\"#46039f\"],[0.2222222222222222,\"#7201a8\"],[0.3333333333333333,\"#9c179e\"],[0.4444444444444444,\"#bd3786\"],[0.5555555555555556,\"#d8576b\"],[0.6666666666666666,\"#ed7953\"],[0.7777777777777778,\"#fb9f3a\"],[0.8888888888888888,\"#fdca26\"],[1.0,\"#f0f921\"]]}],\"heatmapgl\":[{\"type\":\"heatmapgl\",\"colorbar\":{\"outlinewidth\":0,\"ticks\":\"\"},\"colorscale\":[[0.0,\"#0d0887\"],[0.1111111111111111,\"#46039f\"],[0.2222222222222222,\"#7201a8\"],[0.3333333333333333,\"#9c179e\"],[0.4444444444444444,\"#bd3786\"],[0.5555555555555556,\"#d8576b\"],[0.6666666666666666,\"#ed7953\"],[0.7777777777777778,\"#fb9f3a\"],[0.8888888888888888,\"#fdca26\"],[1.0,\"#f0f921\"]]}],\"contourcarpet\":[{\"type\":\"contourcarpet\",\"colorbar\":{\"outlinewidth\":0,\"ticks\":\"\"}}],\"contour\":[{\"type\":\"contour\",\"colorbar\":{\"outlinewidth\":0,\"ticks\":\"\"},\"colorscale\":[[0.0,\"#0d0887\"],[0.1111111111111111,\"#46039f\"],[0.2222222222222222,\"#7201a8\"],[0.3333333333333333,\"#9c179e\"],[0.4444444444444444,\"#bd3786\"],[0.5555555555555556,\"#d8576b\"],[0.6666666666666666,\"#ed7953\"],[0.7777777777777778,\"#fb9f3a\"],[0.8888888888888888,\"#fdca26\"],[1.0,\"#f0f921\"]]}],\"surface\":[{\"type\":\"surface\",\"colorbar\":{\"outlinewidth\":0,\"ticks\":\"\"},\"colorscale\":[[0.0,\"#0d0887\"],[0.1111111111111111,\"#46039f\"],[0.2222222222222222,\"#7201a8\"],[0.3333333333333333,\"#9c179e\"],[0.4444444444444444,\"#bd3786\"],[0.5555555555555556,\"#d8576b\"],[0.6666666666666666,\"#ed7953\"],[0.7777777777777778,\"#fb9f3a\"],[0.8888888888888888,\"#fdca26\"],[1.0,\"#f0f921\"]]}],\"mesh3d\":[{\"type\":\"mesh3d\",\"colorbar\":{\"outlinewidth\":0,\"ticks\":\"\"}}],\"scatter\":[{\"fillpattern\":{\"fillmode\":\"overlay\",\"size\":10,\"solidity\":0.2},\"type\":\"scatter\"}],\"parcoords\":[{\"type\":\"parcoords\",\"line\":{\"colorbar\":{\"outlinewidth\":0,\"ticks\":\"\"}}}],\"scatterpolargl\":[{\"type\":\"scatterpolargl\",\"marker\":{\"colorbar\":{\"outlinewidth\":0,\"ticks\":\"\"}}}],\"bar\":[{\"error_x\":{\"color\":\"#2a3f5f\"},\"error_y\":{\"color\":\"#2a3f5f\"},\"marker\":{\"line\":{\"color\":\"#E5ECF6\",\"width\":0.5},\"pattern\":{\"fillmode\":\"overlay\",\"size\":10,\"solidity\":0.2}},\"type\":\"bar\"}],\"scattergeo\":[{\"type\":\"scattergeo\",\"marker\":{\"colorbar\":{\"outlinewidth\":0,\"ticks\":\"\"}}}],\"scatterpolar\":[{\"type\":\"scatterpolar\",\"marker\":{\"colorbar\":{\"outlinewidth\":0,\"ticks\":\"\"}}}],\"histogram\":[{\"marker\":{\"pattern\":{\"fillmode\":\"overlay\",\"size\":10,\"solidity\":0.2}},\"type\":\"histogram\"}],\"scattergl\":[{\"type\":\"scattergl\",\"marker\":{\"colorbar\":{\"outlinewidth\":0,\"ticks\":\"\"}}}],\"scatter3d\":[{\"type\":\"scatter3d\",\"line\":{\"colorbar\":{\"outlinewidth\":0,\"ticks\":\"\"}},\"marker\":{\"colorbar\":{\"outlinewidth\":0,\"ticks\":\"\"}}}],\"scattermapbox\":[{\"type\":\"scattermapbox\",\"marker\":{\"colorbar\":{\"outlinewidth\":0,\"ticks\":\"\"}}}],\"scatterternary\":[{\"type\":\"scatterternary\",\"marker\":{\"colorbar\":{\"outlinewidth\":0,\"ticks\":\"\"}}}],\"scattercarpet\":[{\"type\":\"scattercarpet\",\"marker\":{\"colorbar\":{\"outlinewidth\":0,\"ticks\":\"\"}}}],\"carpet\":[{\"aaxis\":{\"endlinecolor\":\"#2a3f5f\",\"gridcolor\":\"white\",\"linecolor\":\"white\",\"minorgridcolor\":\"white\",\"startlinecolor\":\"#2a3f5f\"},\"baxis\":{\"endlinecolor\":\"#2a3f5f\",\"gridcolor\":\"white\",\"linecolor\":\"white\",\"minorgridcolor\":\"white\",\"startlinecolor\":\"#2a3f5f\"},\"type\":\"carpet\"}],\"table\":[{\"cells\":{\"fill\":{\"color\":\"#EBF0F8\"},\"line\":{\"color\":\"white\"}},\"header\":{\"fill\":{\"color\":\"#C8D4E3\"},\"line\":{\"color\":\"white\"}},\"type\":\"table\"}],\"barpolar\":[{\"marker\":{\"line\":{\"color\":\"#E5ECF6\",\"width\":0.5},\"pattern\":{\"fillmode\":\"overlay\",\"size\":10,\"solidity\":0.2}},\"type\":\"barpolar\"}],\"pie\":[{\"automargin\":true,\"type\":\"pie\"}]},\"layout\":{\"autotypenumbers\":\"strict\",\"colorway\":[\"#636efa\",\"#EF553B\",\"#00cc96\",\"#ab63fa\",\"#FFA15A\",\"#19d3f3\",\"#FF6692\",\"#B6E880\",\"#FF97FF\",\"#FECB52\"],\"font\":{\"color\":\"#2a3f5f\"},\"hovermode\":\"closest\",\"hoverlabel\":{\"align\":\"left\"},\"paper_bgcolor\":\"white\",\"plot_bgcolor\":\"#E5ECF6\",\"polar\":{\"bgcolor\":\"#E5ECF6\",\"angularaxis\":{\"gridcolor\":\"white\",\"linecolor\":\"white\",\"ticks\":\"\"},\"radialaxis\":{\"gridcolor\":\"white\",\"linecolor\":\"white\",\"ticks\":\"\"}},\"ternary\":{\"bgcolor\":\"#E5ECF6\",\"aaxis\":{\"gridcolor\":\"white\",\"linecolor\":\"white\",\"ticks\":\"\"},\"baxis\":{\"gridcolor\":\"white\",\"linecolor\":\"white\",\"ticks\":\"\"},\"caxis\":{\"gridcolor\":\"white\",\"linecolor\":\"white\",\"ticks\":\"\"}},\"coloraxis\":{\"colorbar\":{\"outlinewidth\":0,\"ticks\":\"\"}},\"colorscale\":{\"sequential\":[[0.0,\"#0d0887\"],[0.1111111111111111,\"#46039f\"],[0.2222222222222222,\"#7201a8\"],[0.3333333333333333,\"#9c179e\"],[0.4444444444444444,\"#bd3786\"],[0.5555555555555556,\"#d8576b\"],[0.6666666666666666,\"#ed7953\"],[0.7777777777777778,\"#fb9f3a\"],[0.8888888888888888,\"#fdca26\"],[1.0,\"#f0f921\"]],\"sequentialminus\":[[0.0,\"#0d0887\"],[0.1111111111111111,\"#46039f\"],[0.2222222222222222,\"#7201a8\"],[0.3333333333333333,\"#9c179e\"],[0.4444444444444444,\"#bd3786\"],[0.5555555555555556,\"#d8576b\"],[0.6666666666666666,\"#ed7953\"],[0.7777777777777778,\"#fb9f3a\"],[0.8888888888888888,\"#fdca26\"],[1.0,\"#f0f921\"]],\"diverging\":[[0,\"#8e0152\"],[0.1,\"#c51b7d\"],[0.2,\"#de77ae\"],[0.3,\"#f1b6da\"],[0.4,\"#fde0ef\"],[0.5,\"#f7f7f7\"],[0.6,\"#e6f5d0\"],[0.7,\"#b8e186\"],[0.8,\"#7fbc41\"],[0.9,\"#4d9221\"],[1,\"#276419\"]]},\"xaxis\":{\"gridcolor\":\"white\",\"linecolor\":\"white\",\"ticks\":\"\",\"title\":{\"standoff\":15},\"zerolinecolor\":\"white\",\"automargin\":true,\"zerolinewidth\":2},\"yaxis\":{\"gridcolor\":\"white\",\"linecolor\":\"white\",\"ticks\":\"\",\"title\":{\"standoff\":15},\"zerolinecolor\":\"white\",\"automargin\":true,\"zerolinewidth\":2},\"scene\":{\"xaxis\":{\"backgroundcolor\":\"#E5ECF6\",\"gridcolor\":\"white\",\"linecolor\":\"white\",\"showbackground\":true,\"ticks\":\"\",\"zerolinecolor\":\"white\",\"gridwidth\":2},\"yaxis\":{\"backgroundcolor\":\"#E5ECF6\",\"gridcolor\":\"white\",\"linecolor\":\"white\",\"showbackground\":true,\"ticks\":\"\",\"zerolinecolor\":\"white\",\"gridwidth\":2},\"zaxis\":{\"backgroundcolor\":\"#E5ECF6\",\"gridcolor\":\"white\",\"linecolor\":\"white\",\"showbackground\":true,\"ticks\":\"\",\"zerolinecolor\":\"white\",\"gridwidth\":2}},\"shapedefaults\":{\"line\":{\"color\":\"#2a3f5f\"}},\"annotationdefaults\":{\"arrowcolor\":\"#2a3f5f\",\"arrowhead\":0,\"arrowwidth\":1},\"geo\":{\"bgcolor\":\"white\",\"landcolor\":\"#E5ECF6\",\"subunitcolor\":\"white\",\"showland\":true,\"showlakes\":true,\"lakecolor\":\"white\"},\"title\":{\"x\":0.05},\"mapbox\":{\"style\":\"light\"}}},\"xaxis\":{\"anchor\":\"y\",\"domain\":[0.0,1.0],\"title\":{\"text\":\"CRIME\"}},\"yaxis\":{\"anchor\":\"x\",\"domain\":[0.0,1.0],\"title\":{\"text\":\"Count\"}},\"coloraxis\":{\"colorbar\":{\"title\":{\"text\":\"color\"}},\"colorscale\":[[0.0,\"#0d0887\"],[0.1111111111111111,\"#46039f\"],[0.2222222222222222,\"#7201a8\"],[0.3333333333333333,\"#9c179e\"],[0.4444444444444444,\"#bd3786\"],[0.5555555555555556,\"#d8576b\"],[0.6666666666666666,\"#ed7953\"],[0.7777777777777778,\"#fb9f3a\"],[0.8888888888888888,\"#fdca26\"],[1.0,\"#f0f921\"]],\"showscale\":false},\"legend\":{\"tracegroupgap\":0},\"title\":{\"text\":\"CRIME Categories by Count\"},\"barmode\":\"relative\",\"height\":500,\"width\":800},                        {\"responsive\": true}                    ).then(function(){\n",
       "                            \n",
       "var gd = document.getElementById('95d87ea0-0e81-438c-b35c-c395c1218550');\n",
       "var x = new MutationObserver(function (mutations, observer) {{\n",
       "        var display = window.getComputedStyle(gd).display;\n",
       "        if (!display || display === 'none') {{\n",
       "            console.log([gd, 'removed!']);\n",
       "            Plotly.purge(gd);\n",
       "            observer.disconnect();\n",
       "        }}\n",
       "}});\n",
       "\n",
       "// Listen for the removal of the full notebook cells\n",
       "var notebookContainer = gd.closest('#notebook-container');\n",
       "if (notebookContainer) {{\n",
       "    x.observe(notebookContainer, {childList: true});\n",
       "}}\n",
       "\n",
       "// Listen for the clearing of the current output cell\n",
       "var outputEl = gd.closest('.output');\n",
       "if (outputEl) {{\n",
       "    x.observe(outputEl, {childList: true});\n",
       "}}\n",
       "\n",
       "                        })                };                });            </script>        </div>"
      ]
     },
     "metadata": {},
     "output_type": "display_data"
    }
   ],
   "source": [
    "fig = px.bar(data_frame=crime_categories, \n",
    "             x=crime_categories.keys(), \n",
    "             y=crime_categories.values, \n",
    "             width=800, \n",
    "             height=500, \n",
    "             title='CRIME Categories by Count',\n",
    "             labels={'index': 'CRIME',\n",
    "                     'y': 'Count'},\n",
    "             color=crime_categories.values)\n",
    "\n",
    "fig.update(layout_coloraxis_showscale=False)\n",
    "fig.show()"
   ]
  },
  {
   "cell_type": "markdown",
   "id": "000913e5",
   "metadata": {},
   "source": [
    "So the top most committed crimes other than the sum of `OTHER` category are `THEFT`, `BATTERY`, `NARCOTICS` and so...on"
   ]
  },
  {
   "cell_type": "code",
   "execution_count": 48,
   "id": "06fdd25c",
   "metadata": {},
   "outputs": [
    {
     "data": {
      "text/plain": [
       "LA    442293\n",
       "Name: STATE, dtype: int64"
      ]
     },
     "execution_count": 48,
     "metadata": {},
     "output_type": "execute_result"
    }
   ],
   "source": [
    "crime_df2['STATE'].value_counts()"
   ]
  },
  {
   "cell_type": "markdown",
   "id": "5cd82647",
   "metadata": {},
   "source": [
    "The `STATE` column only consists one value i.e 'LA' that means this dataset only has records that happened in Los Angeles, USA. "
   ]
  },
  {
   "cell_type": "code",
   "execution_count": 49,
   "id": "299c9edf",
   "metadata": {},
   "outputs": [
    {
     "data": {
      "image/png": "[encoded data removed]",
      "text/plain": [
       "<Figure size 400x300 with 1 Axes>"
      ]
     },
     "metadata": {
      "needs_background": "light"
     },
     "output_type": "display_data"
    }
   ],
   "source": [
    "crime_categories2 = crime_df2['COMMITTED'].value_counts()\n",
    "\n",
    "plt.figure(figsize=(4, 3), dpi=100)\n",
    "plt.bar(crime_categories2.keys(),\n",
    "        crime_categories2.values,\n",
    "        color=['gold', 'lightgreen'])\n",
    "plt.show()"
   ]
  },
  {
   "cell_type": "markdown",
   "id": "f7f6650e",
   "metadata": {},
   "source": [
    "The above bar chart shows that **88%** of crimes recorded are **committed**, only **12%** of them were going to **attempt** and got caught."
   ]
  },
  {
   "cell_type": "code",
   "execution_count": 50,
   "id": "73905fa5",
   "metadata": {},
   "outputs": [
    {
     "data": {
      "application/vnd.plotly.v1+json": {
       "config": {
        "plotlyServerURL": "https://plot.ly"
       },
       "data": [
        {
         "alignmentgroup": "True",
         "hovertemplate": "Count=%{x}<br>OFFENSE=%{y}<br>color=%{marker.color}<extra></extra>",
         "legendgroup": "",
         "marker": {
          "color": [
           5830,
           6125,
           6381,
           7058,
           7660,
           7962,
           9494,
           11340,
           11639,
           13388,
           13868,
           13933,
           17066,
           19537,
           24695
          ],
          "coloraxis": "coloraxis",
          "pattern": {
           "shape": ""
          }
         },
         "name": "",
         "offsetgroup": "",
         "orientation": "h",
         "showlegend": false,
         "textposition": "auto",
         "type": "bar",
         "x": [
          5830,
          6125,
          6381,
          7058,
          7660,
          7962,
          9494,
          11340,
          11639,
          13388,
          13868,
          13933,
          17066,
          19537,
          24695
         ],
         "xaxis": "x",
         "y": [
          "BURGLARY/S INHAB DWELLING",
          "BURG/AUTO UNDER $50",
          "DOMESTIC ABUSE BATTERY/CC",
          "THEFT OF MOTOR VEHICLE",
          "FUGITIVE",
          "D W I /CC",
          "BURGLARY/SIMPLE",
          "CRIM DAM TO PROP/SIMPLE",
          "POSS MARIJUANA/CC",
          "BURG/AUTO OVER $200",
          "THEFT/MISD/SHOPLIFTING/CC",
          "THEFT OVER $200 ALL OTHER",
          "BATT/SIMPLE/CC",
          "CRIM DAM TO PROP/SIMPLE/CC",
          "THEFT/MISD/CC"
         ],
         "yaxis": "y"
        }
       ],
       "layout": {
        "barmode": "relative",
        "coloraxis": {
         "colorbar": {
          "title": {
           "text": "color"
          }
         },
         "colorscale": [
          [
           0,
           "#0d0887"
          ],
          [
           0.1111111111111111,
           "#46039f"
          ],
          [
           0.2222222222222222,
           "#7201a8"
          ],
          [
           0.3333333333333333,
           "#9c179e"
          ],
          [
           0.4444444444444444,
           "#bd3786"
          ],
          [
           0.5555555555555556,
           "#d8576b"
          ],
          [
           0.6666666666666666,
           "#ed7953"
          ],
          [
           0.7777777777777778,
           "#fb9f3a"
          ],
          [
           0.8888888888888888,
           "#fdca26"
          ],
          [
           1,
           "#f0f921"
          ]
         ],
         "showscale": false
        },
        "height": 500,
        "legend": {
         "tracegroupgap": 0
        },
        "template": {
         "data": {
          "bar": [
           {
            "error_x": {
             "color": "#2a3f5f"
            },
            "error_y": {
             "color": "#2a3f5f"
            },
            "marker": {
             "line": {
              "color": "#E5ECF6",
              "width": 0.5
             },
             "pattern": {
              "fillmode": "overlay",
              "size": 10,
              "solidity": 0.2
             }
            },
            "type": "bar"
           }
          ],
          "barpolar": [
           {
            "marker": {
             "line": {
              "color": "#E5ECF6",
              "width": 0.5
             },
             "pattern": {
              "fillmode": "overlay",
              "size": 10,
              "solidity": 0.2
             }
            },
            "type": "barpolar"
           }
          ],
          "carpet": [
           {
            "aaxis": {
             "endlinecolor": "#2a3f5f",
             "gridcolor": "white",
             "linecolor": "white",
             "minorgridcolor": "white",
             "startlinecolor": "#2a3f5f"
            },
            "baxis": {
             "endlinecolor": "#2a3f5f",
             "gridcolor": "white",
             "linecolor": "white",
             "minorgridcolor": "white",
             "startlinecolor": "#2a3f5f"
            },
            "type": "carpet"
           }
          ],
          "choropleth": [
           {
            "colorbar": {
             "outlinewidth": 0,
             "ticks": ""
            },
            "type": "choropleth"
           }
          ],
          "contour": [
           {
            "colorbar": {
             "outlinewidth": 0,
             "ticks": ""
            },
            "colorscale": [
             [
              0,
              "#0d0887"
             ],
             [
              0.1111111111111111,
              "#46039f"
             ],
             [
              0.2222222222222222,
              "#7201a8"
             ],
             [
              0.3333333333333333,
              "#9c179e"
             ],
             [
              0.4444444444444444,
              "#bd3786"
             ],
             [
              0.5555555555555556,
              "#d8576b"
             ],
             [
              0.6666666666666666,
              "#ed7953"
             ],
             [
              0.7777777777777778,
              "#fb9f3a"
             ],
             [
              0.8888888888888888,
              "#fdca26"
             ],
             [
              1,
              "#f0f921"
             ]
            ],
            "type": "contour"
           }
          ],
          "contourcarpet": [
           {
            "colorbar": {
             "outlinewidth": 0,
             "ticks": ""
            },
            "type": "contourcarpet"
           }
          ],
          "heatmap": [
           {
            "colorbar": {
             "outlinewidth": 0,
             "ticks": ""
            },
            "colorscale": [
             [
              0,
              "#0d0887"
             ],
             [
              0.1111111111111111,
              "#46039f"
             ],
             [
              0.2222222222222222,
              "#7201a8"
             ],
             [
              0.3333333333333333,
              "#9c179e"
             ],
             [
              0.4444444444444444,
              "#bd3786"
             ],
             [
              0.5555555555555556,
              "#d8576b"
             ],
             [
              0.6666666666666666,
              "#ed7953"
             ],
             [
              0.7777777777777778,
              "#fb9f3a"
             ],
             [
              0.8888888888888888,
              "#fdca26"
             ],
             [
              1,
              "#f0f921"
             ]
            ],
            "type": "heatmap"
           }
          ],
          "heatmapgl": [
           {
            "colorbar": {
             "outlinewidth": 0,
             "ticks": ""
            },
            "colorscale": [
             [
              0,
              "#0d0887"
             ],
             [
              0.1111111111111111,
              "#46039f"
             ],
             [
              0.2222222222222222,
              "#7201a8"
             ],
             [
              0.3333333333333333,
              "#9c179e"
             ],
             [
              0.4444444444444444,
              "#bd3786"
             ],
             [
              0.5555555555555556,
              "#d8576b"
             ],
             [
              0.6666666666666666,
              "#ed7953"
             ],
             [
              0.7777777777777778,
              "#fb9f3a"
             ],
             [
              0.8888888888888888,
              "#fdca26"
             ],
             [
              1,
              "#f0f921"
             ]
            ],
            "type": "heatmapgl"
           }
          ],
          "histogram": [
           {
            "marker": {
             "pattern": {
              "fillmode": "overlay",
              "size": 10,
              "solidity": 0.2
             }
            },
            "type": "histogram"
           }
          ],
          "histogram2d": [
           {
            "colorbar": {
             "outlinewidth": 0,
             "ticks": ""
            },
            "colorscale": [
             [
              0,
              "#0d0887"
             ],
             [
              0.1111111111111111,
              "#46039f"
             ],
             [
              0.2222222222222222,
              "#7201a8"
             ],
             [
              0.3333333333333333,
              "#9c179e"
             ],
             [
              0.4444444444444444,
              "#bd3786"
             ],
             [
              0.5555555555555556,
              "#d8576b"
             ],
             [
              0.6666666666666666,
              "#ed7953"
             ],
             [
              0.7777777777777778,
              "#fb9f3a"
             ],
             [
              0.8888888888888888,
              "#fdca26"
             ],
             [
              1,
              "#f0f921"
             ]
            ],
            "type": "histogram2d"
           }
          ],
          "histogram2dcontour": [
           {
            "colorbar": {
             "outlinewidth": 0,
             "ticks": ""
            },
            "colorscale": [
             [
              0,
              "#0d0887"
             ],
             [
              0.1111111111111111,
              "#46039f"
             ],
             [
              0.2222222222222222,
              "#7201a8"
             ],
             [
              0.3333333333333333,
              "#9c179e"
             ],
             [
              0.4444444444444444,
              "#bd3786"
             ],
             [
              0.5555555555555556,
              "#d8576b"
             ],
             [
              0.6666666666666666,
              "#ed7953"
             ],
             [
              0.7777777777777778,
              "#fb9f3a"
             ],
             [
              0.8888888888888888,
              "#fdca26"
             ],
             [
              1,
              "#f0f921"
             ]
            ],
            "type": "histogram2dcontour"
           }
          ],
          "mesh3d": [
           {
            "colorbar": {
             "outlinewidth": 0,
             "ticks": ""
            },
            "type": "mesh3d"
           }
          ],
          "parcoords": [
           {
            "line": {
             "colorbar": {
              "outlinewidth": 0,
              "ticks": ""
             }
            },
            "type": "parcoords"
           }
          ],
          "pie": [
           {
            "automargin": true,
            "type": "pie"
           }
          ],
          "scatter": [
           {
            "fillpattern": {
             "fillmode": "overlay",
             "size": 10,
             "solidity": 0.2
            },
            "type": "scatter"
           }
          ],
          "scatter3d": [
           {
            "line": {
             "colorbar": {
              "outlinewidth": 0,
              "ticks": ""
             }
            },
            "marker": {
             "colorbar": {
              "outlinewidth": 0,
              "ticks": ""
             }
            },
            "type": "scatter3d"
           }
          ],
          "scattercarpet": [
           {
            "marker": {
             "colorbar": {
              "outlinewidth": 0,
              "ticks": ""
             }
            },
            "type": "scattercarpet"
           }
          ],
          "scattergeo": [
           {
            "marker": {
             "colorbar": {
              "outlinewidth": 0,
              "ticks": ""
             }
            },
            "type": "scattergeo"
           }
          ],
          "scattergl": [
           {
            "marker": {
             "colorbar": {
              "outlinewidth": 0,
              "ticks": ""
             }
            },
            "type": "scattergl"
           }
          ],
          "scattermapbox": [
           {
            "marker": {
             "colorbar": {
              "outlinewidth": 0,
              "ticks": ""
             }
            },
            "type": "scattermapbox"
           }
          ],
          "scatterpolar": [
           {
            "marker": {
             "colorbar": {
              "outlinewidth": 0,
              "ticks": ""
             }
            },
            "type": "scatterpolar"
           }
          ],
          "scatterpolargl": [
           {
            "marker": {
             "colorbar": {
              "outlinewidth": 0,
              "ticks": ""
             }
            },
            "type": "scatterpolargl"
           }
          ],
          "scatterternary": [
           {
            "marker": {
             "colorbar": {
              "outlinewidth": 0,
              "ticks": ""
             }
            },
            "type": "scatterternary"
           }
          ],
          "surface": [
           {
            "colorbar": {
             "outlinewidth": 0,
             "ticks": ""
            },
            "colorscale": [
             [
              0,
              "#0d0887"
             ],
             [
              0.1111111111111111,
              "#46039f"
             ],
             [
              0.2222222222222222,
              "#7201a8"
             ],
             [
              0.3333333333333333,
              "#9c179e"
             ],
             [
              0.4444444444444444,
              "#bd3786"
             ],
             [
              0.5555555555555556,
              "#d8576b"
             ],
             [
              0.6666666666666666,
              "#ed7953"
             ],
             [
              0.7777777777777778,
              "#fb9f3a"
             ],
             [
              0.8888888888888888,
              "#fdca26"
             ],
             [
              1,
              "#f0f921"
             ]
            ],
            "type": "surface"
           }
          ],
          "table": [
           {
            "cells": {
             "fill": {
              "color": "#EBF0F8"
             },
             "line": {
              "color": "white"
             }
            },
            "header": {
             "fill": {
              "color": "#C8D4E3"
             },
             "line": {
              "color": "white"
             }
            },
            "type": "table"
           }
          ]
         },
         "layout": {
          "annotationdefaults": {
           "arrowcolor": "#2a3f5f",
           "arrowhead": 0,
           "arrowwidth": 1
          },
          "autotypenumbers": "strict",
          "coloraxis": {
           "colorbar": {
            "outlinewidth": 0,
            "ticks": ""
           }
          },
          "colorscale": {
           "diverging": [
            [
             0,
             "#8e0152"
            ],
            [
             0.1,
             "#c51b7d"
            ],
            [
             0.2,
             "#de77ae"
            ],
            [
             0.3,
             "#f1b6da"
            ],
            [
             0.4,
             "#fde0ef"
            ],
            [
             0.5,
             "#f7f7f7"
            ],
            [
             0.6,
             "#e6f5d0"
            ],
            [
             0.7,
             "#b8e186"
            ],
            [
             0.8,
             "#7fbc41"
            ],
            [
             0.9,
             "#4d9221"
            ],
            [
             1,
             "#276419"
            ]
           ],
           "sequential": [
            [
             0,
             "#0d0887"
            ],
            [
             0.1111111111111111,
             "#46039f"
            ],
            [
             0.2222222222222222,
             "#7201a8"
            ],
            [
             0.3333333333333333,
             "#9c179e"
            ],
            [
             0.4444444444444444,
             "#bd3786"
            ],
            [
             0.5555555555555556,
             "#d8576b"
            ],
            [
             0.6666666666666666,
             "#ed7953"
            ],
            [
             0.7777777777777778,
             "#fb9f3a"
            ],
            [
             0.8888888888888888,
             "#fdca26"
            ],
            [
             1,
             "#f0f921"
            ]
           ],
           "sequentialminus": [
            [
             0,
             "#0d0887"
            ],
            [
             0.1111111111111111,
             "#46039f"
            ],
            [
             0.2222222222222222,
             "#7201a8"
            ],
            [
             0.3333333333333333,
             "#9c179e"
            ],
            [
             0.4444444444444444,
             "#bd3786"
            ],
            [
             0.5555555555555556,
             "#d8576b"
            ],
            [
             0.6666666666666666,
             "#ed7953"
            ],
            [
             0.7777777777777778,
             "#fb9f3a"
            ],
            [
             0.8888888888888888,
             "#fdca26"
            ],
            [
             1,
             "#f0f921"
            ]
           ]
          },
          "colorway": [
           "#636efa",
           "#EF553B",
           "#00cc96",
           "#ab63fa",
           "#FFA15A",
           "#19d3f3",
           "#FF6692",
           "#B6E880",
           "#FF97FF",
           "#FECB52"
          ],
          "font": {
           "color": "#2a3f5f"
          },
          "geo": {
           "bgcolor": "white",
           "lakecolor": "white",
           "landcolor": "#E5ECF6",
           "showlakes": true,
           "showland": true,
           "subunitcolor": "white"
          },
          "hoverlabel": {
           "align": "left"
          },
          "hovermode": "closest",
          "mapbox": {
           "style": "light"
          },
          "paper_bgcolor": "white",
          "plot_bgcolor": "#E5ECF6",
          "polar": {
           "angularaxis": {
            "gridcolor": "white",
            "linecolor": "white",
            "ticks": ""
           },
           "bgcolor": "#E5ECF6",
           "radialaxis": {
            "gridcolor": "white",
            "linecolor": "white",
            "ticks": ""
           }
          },
          "scene": {
           "xaxis": {
            "backgroundcolor": "#E5ECF6",
            "gridcolor": "white",
            "gridwidth": 2,
            "linecolor": "white",
            "showbackground": true,
            "ticks": "",
            "zerolinecolor": "white"
           },
           "yaxis": {
            "backgroundcolor": "#E5ECF6",
            "gridcolor": "white",
            "gridwidth": 2,
            "linecolor": "white",
            "showbackground": true,
            "ticks": "",
            "zerolinecolor": "white"
           },
           "zaxis": {
            "backgroundcolor": "#E5ECF6",
            "gridcolor": "white",
            "gridwidth": 2,
            "linecolor": "white",
            "showbackground": true,
            "ticks": "",
            "zerolinecolor": "white"
           }
          },
          "shapedefaults": {
           "line": {
            "color": "#2a3f5f"
           }
          },
          "ternary": {
           "aaxis": {
            "gridcolor": "white",
            "linecolor": "white",
            "ticks": ""
           },
           "baxis": {
            "gridcolor": "white",
            "linecolor": "white",
            "ticks": ""
           },
           "bgcolor": "#E5ECF6",
           "caxis": {
            "gridcolor": "white",
            "linecolor": "white",
            "ticks": ""
           }
          },
          "title": {
           "x": 0.05
          },
          "xaxis": {
           "automargin": true,
           "gridcolor": "white",
           "linecolor": "white",
           "ticks": "",
           "title": {
            "standoff": 15
           },
           "zerolinecolor": "white",
           "zerolinewidth": 2
          },
          "yaxis": {
           "automargin": true,
           "gridcolor": "white",
           "linecolor": "white",
           "ticks": "",
           "title": {
            "standoff": 15
           },
           "zerolinecolor": "white",
           "zerolinewidth": 2
          }
         }
        },
        "title": {
         "text": "Top 15 Offense by Count"
        },
        "width": 800,
        "xaxis": {
         "anchor": "y",
         "domain": [
          0,
          1
         ],
         "title": {
          "text": "Count"
         }
        },
        "yaxis": {
         "anchor": "x",
         "domain": [
          0,
          1
         ],
         "title": {
          "text": "OFFENSE"
         }
        }
       }
      },
      "text/html": [
       "<div>                            <div id=\"d4d04e67-4452-4d5c-9666-3ddeafaac81a\" class=\"plotly-graph-div\" style=\"height:500px; width:800px;\"></div>            <script type=\"text/javascript\">                require([\"plotly\"], function(Plotly) {                    window.PLOTLYENV=window.PLOTLYENV || {};                                    if (document.getElementById(\"d4d04e67-4452-4d5c-9666-3ddeafaac81a\")) {                    Plotly.newPlot(                        \"d4d04e67-4452-4d5c-9666-3ddeafaac81a\",                        [{\"alignmentgroup\":\"True\",\"hovertemplate\":\"Count=%{x}<br>OFFENSE=%{y}<br>color=%{marker.color}<extra></extra>\",\"legendgroup\":\"\",\"marker\":{\"color\":[5830,6125,6381,7058,7660,7962,9494,11340,11639,13388,13868,13933,17066,19537,24695],\"coloraxis\":\"coloraxis\",\"pattern\":{\"shape\":\"\"}},\"name\":\"\",\"offsetgroup\":\"\",\"orientation\":\"h\",\"showlegend\":false,\"textposition\":\"auto\",\"x\":[5830,6125,6381,7058,7660,7962,9494,11340,11639,13388,13868,13933,17066,19537,24695],\"xaxis\":\"x\",\"y\":[\"BURGLARY/S INHAB DWELLING\",\"BURG/AUTO UNDER $50\",\"DOMESTIC ABUSE BATTERY/CC\",\"THEFT OF MOTOR VEHICLE\",\"FUGITIVE\",\"D W I /CC\",\"BURGLARY/SIMPLE\",\"CRIM DAM TO PROP/SIMPLE\",\"POSS MARIJUANA/CC\",\"BURG/AUTO OVER $200\",\"THEFT/MISD/SHOPLIFTING/CC\",\"THEFT OVER $200 ALL OTHER\",\"BATT/SIMPLE/CC\",\"CRIM DAM TO PROP/SIMPLE/CC\",\"THEFT/MISD/CC\"],\"yaxis\":\"y\",\"type\":\"bar\"}],                        {\"template\":{\"data\":{\"histogram2dcontour\":[{\"type\":\"histogram2dcontour\",\"colorbar\":{\"outlinewidth\":0,\"ticks\":\"\"},\"colorscale\":[[0.0,\"#0d0887\"],[0.1111111111111111,\"#46039f\"],[0.2222222222222222,\"#7201a8\"],[0.3333333333333333,\"#9c179e\"],[0.4444444444444444,\"#bd3786\"],[0.5555555555555556,\"#d8576b\"],[0.6666666666666666,\"#ed7953\"],[0.7777777777777778,\"#fb9f3a\"],[0.8888888888888888,\"#fdca26\"],[1.0,\"#f0f921\"]]}],\"choropleth\":[{\"type\":\"choropleth\",\"colorbar\":{\"outlinewidth\":0,\"ticks\":\"\"}}],\"histogram2d\":[{\"type\":\"histogram2d\",\"colorbar\":{\"outlinewidth\":0,\"ticks\":\"\"},\"colorscale\":[[0.0,\"#0d0887\"],[0.1111111111111111,\"#46039f\"],[0.2222222222222222,\"#7201a8\"],[0.3333333333333333,\"#9c179e\"],[0.4444444444444444,\"#bd3786\"],[0.5555555555555556,\"#d8576b\"],[0.6666666666666666,\"#ed7953\"],[0.7777777777777778,\"#fb9f3a\"],[0.8888888888888888,\"#fdca26\"],[1.0,\"#f0f921\"]]}],\"heatmap\":[{\"type\":\"heatmap\",\"colorbar\":{\"outlinewidth\":0,\"ticks\":\"\"},\"colorscale\":[[0.0,\"#0d0887\"],[0.1111111111111111,\"#46039f\"],[0.2222222222222222,\"#7201a8\"],[0.3333333333333333,\"#9c179e\"],[0.4444444444444444,\"#bd3786\"],[0.5555555555555556,\"#d8576b\"],[0.6666666666666666,\"#ed7953\"],[0.7777777777777778,\"#fb9f3a\"],[0.8888888888888888,\"#fdca26\"],[1.0,\"#f0f921\"]]}],\"heatmapgl\":[{\"type\":\"heatmapgl\",\"colorbar\":{\"outlinewidth\":0,\"ticks\":\"\"},\"colorscale\":[[0.0,\"#0d0887\"],[0.1111111111111111,\"#46039f\"],[0.2222222222222222,\"#7201a8\"],[0.3333333333333333,\"#9c179e\"],[0.4444444444444444,\"#bd3786\"],[0.5555555555555556,\"#d8576b\"],[0.6666666666666666,\"#ed7953\"],[0.7777777777777778,\"#fb9f3a\"],[0.8888888888888888,\"#fdca26\"],[1.0,\"#f0f921\"]]}],\"contourcarpet\":[{\"type\":\"contourcarpet\",\"colorbar\":{\"outlinewidth\":0,\"ticks\":\"\"}}],\"contour\":[{\"type\":\"contour\",\"colorbar\":{\"outlinewidth\":0,\"ticks\":\"\"},\"colorscale\":[[0.0,\"#0d0887\"],[0.1111111111111111,\"#46039f\"],[0.2222222222222222,\"#7201a8\"],[0.3333333333333333,\"#9c179e\"],[0.4444444444444444,\"#bd3786\"],[0.5555555555555556,\"#d8576b\"],[0.6666666666666666,\"#ed7953\"],[0.7777777777777778,\"#fb9f3a\"],[0.8888888888888888,\"#fdca26\"],[1.0,\"#f0f921\"]]}],\"surface\":[{\"type\":\"surface\",\"colorbar\":{\"outlinewidth\":0,\"ticks\":\"\"},\"colorscale\":[[0.0,\"#0d0887\"],[0.1111111111111111,\"#46039f\"],[0.2222222222222222,\"#7201a8\"],[0.3333333333333333,\"#9c179e\"],[0.4444444444444444,\"#bd3786\"],[0.5555555555555556,\"#d8576b\"],[0.6666666666666666,\"#ed7953\"],[0.7777777777777778,\"#fb9f3a\"],[0.8888888888888888,\"#fdca26\"],[1.0,\"#f0f921\"]]}],\"mesh3d\":[{\"type\":\"mesh3d\",\"colorbar\":{\"outlinewidth\":0,\"ticks\":\"\"}}],\"scatter\":[{\"fillpattern\":{\"fillmode\":\"overlay\",\"size\":10,\"solidity\":0.2},\"type\":\"scatter\"}],\"parcoords\":[{\"type\":\"parcoords\",\"line\":{\"colorbar\":{\"outlinewidth\":0,\"ticks\":\"\"}}}],\"scatterpolargl\":[{\"type\":\"scatterpolargl\",\"marker\":{\"colorbar\":{\"outlinewidth\":0,\"ticks\":\"\"}}}],\"bar\":[{\"error_x\":{\"color\":\"#2a3f5f\"},\"error_y\":{\"color\":\"#2a3f5f\"},\"marker\":{\"line\":{\"color\":\"#E5ECF6\",\"width\":0.5},\"pattern\":{\"fillmode\":\"overlay\",\"size\":10,\"solidity\":0.2}},\"type\":\"bar\"}],\"scattergeo\":[{\"type\":\"scattergeo\",\"marker\":{\"colorbar\":{\"outlinewidth\":0,\"ticks\":\"\"}}}],\"scatterpolar\":[{\"type\":\"scatterpolar\",\"marker\":{\"colorbar\":{\"outlinewidth\":0,\"ticks\":\"\"}}}],\"histogram\":[{\"marker\":{\"pattern\":{\"fillmode\":\"overlay\",\"size\":10,\"solidity\":0.2}},\"type\":\"histogram\"}],\"scattergl\":[{\"type\":\"scattergl\",\"marker\":{\"colorbar\":{\"outlinewidth\":0,\"ticks\":\"\"}}}],\"scatter3d\":[{\"type\":\"scatter3d\",\"line\":{\"colorbar\":{\"outlinewidth\":0,\"ticks\":\"\"}},\"marker\":{\"colorbar\":{\"outlinewidth\":0,\"ticks\":\"\"}}}],\"scattermapbox\":[{\"type\":\"scattermapbox\",\"marker\":{\"colorbar\":{\"outlinewidth\":0,\"ticks\":\"\"}}}],\"scatterternary\":[{\"type\":\"scatterternary\",\"marker\":{\"colorbar\":{\"outlinewidth\":0,\"ticks\":\"\"}}}],\"scattercarpet\":[{\"type\":\"scattercarpet\",\"marker\":{\"colorbar\":{\"outlinewidth\":0,\"ticks\":\"\"}}}],\"carpet\":[{\"aaxis\":{\"endlinecolor\":\"#2a3f5f\",\"gridcolor\":\"white\",\"linecolor\":\"white\",\"minorgridcolor\":\"white\",\"startlinecolor\":\"#2a3f5f\"},\"baxis\":{\"endlinecolor\":\"#2a3f5f\",\"gridcolor\":\"white\",\"linecolor\":\"white\",\"minorgridcolor\":\"white\",\"startlinecolor\":\"#2a3f5f\"},\"type\":\"carpet\"}],\"table\":[{\"cells\":{\"fill\":{\"color\":\"#EBF0F8\"},\"line\":{\"color\":\"white\"}},\"header\":{\"fill\":{\"color\":\"#C8D4E3\"},\"line\":{\"color\":\"white\"}},\"type\":\"table\"}],\"barpolar\":[{\"marker\":{\"line\":{\"color\":\"#E5ECF6\",\"width\":0.5},\"pattern\":{\"fillmode\":\"overlay\",\"size\":10,\"solidity\":0.2}},\"type\":\"barpolar\"}],\"pie\":[{\"automargin\":true,\"type\":\"pie\"}]},\"layout\":{\"autotypenumbers\":\"strict\",\"colorway\":[\"#636efa\",\"#EF553B\",\"#00cc96\",\"#ab63fa\",\"#FFA15A\",\"#19d3f3\",\"#FF6692\",\"#B6E880\",\"#FF97FF\",\"#FECB52\"],\"font\":{\"color\":\"#2a3f5f\"},\"hovermode\":\"closest\",\"hoverlabel\":{\"align\":\"left\"},\"paper_bgcolor\":\"white\",\"plot_bgcolor\":\"#E5ECF6\",\"polar\":{\"bgcolor\":\"#E5ECF6\",\"angularaxis\":{\"gridcolor\":\"white\",\"linecolor\":\"white\",\"ticks\":\"\"},\"radialaxis\":{\"gridcolor\":\"white\",\"linecolor\":\"white\",\"ticks\":\"\"}},\"ternary\":{\"bgcolor\":\"#E5ECF6\",\"aaxis\":{\"gridcolor\":\"white\",\"linecolor\":\"white\",\"ticks\":\"\"},\"baxis\":{\"gridcolor\":\"white\",\"linecolor\":\"white\",\"ticks\":\"\"},\"caxis\":{\"gridcolor\":\"white\",\"linecolor\":\"white\",\"ticks\":\"\"}},\"coloraxis\":{\"colorbar\":{\"outlinewidth\":0,\"ticks\":\"\"}},\"colorscale\":{\"sequential\":[[0.0,\"#0d0887\"],[0.1111111111111111,\"#46039f\"],[0.2222222222222222,\"#7201a8\"],[0.3333333333333333,\"#9c179e\"],[0.4444444444444444,\"#bd3786\"],[0.5555555555555556,\"#d8576b\"],[0.6666666666666666,\"#ed7953\"],[0.7777777777777778,\"#fb9f3a\"],[0.8888888888888888,\"#fdca26\"],[1.0,\"#f0f921\"]],\"sequentialminus\":[[0.0,\"#0d0887\"],[0.1111111111111111,\"#46039f\"],[0.2222222222222222,\"#7201a8\"],[0.3333333333333333,\"#9c179e\"],[0.4444444444444444,\"#bd3786\"],[0.5555555555555556,\"#d8576b\"],[0.6666666666666666,\"#ed7953\"],[0.7777777777777778,\"#fb9f3a\"],[0.8888888888888888,\"#fdca26\"],[1.0,\"#f0f921\"]],\"diverging\":[[0,\"#8e0152\"],[0.1,\"#c51b7d\"],[0.2,\"#de77ae\"],[0.3,\"#f1b6da\"],[0.4,\"#fde0ef\"],[0.5,\"#f7f7f7\"],[0.6,\"#e6f5d0\"],[0.7,\"#b8e186\"],[0.8,\"#7fbc41\"],[0.9,\"#4d9221\"],[1,\"#276419\"]]},\"xaxis\":{\"gridcolor\":\"white\",\"linecolor\":\"white\",\"ticks\":\"\",\"title\":{\"standoff\":15},\"zerolinecolor\":\"white\",\"automargin\":true,\"zerolinewidth\":2},\"yaxis\":{\"gridcolor\":\"white\",\"linecolor\":\"white\",\"ticks\":\"\",\"title\":{\"standoff\":15},\"zerolinecolor\":\"white\",\"automargin\":true,\"zerolinewidth\":2},\"scene\":{\"xaxis\":{\"backgroundcolor\":\"#E5ECF6\",\"gridcolor\":\"white\",\"linecolor\":\"white\",\"showbackground\":true,\"ticks\":\"\",\"zerolinecolor\":\"white\",\"gridwidth\":2},\"yaxis\":{\"backgroundcolor\":\"#E5ECF6\",\"gridcolor\":\"white\",\"linecolor\":\"white\",\"showbackground\":true,\"ticks\":\"\",\"zerolinecolor\":\"white\",\"gridwidth\":2},\"zaxis\":{\"backgroundcolor\":\"#E5ECF6\",\"gridcolor\":\"white\",\"linecolor\":\"white\",\"showbackground\":true,\"ticks\":\"\",\"zerolinecolor\":\"white\",\"gridwidth\":2}},\"shapedefaults\":{\"line\":{\"color\":\"#2a3f5f\"}},\"annotationdefaults\":{\"arrowcolor\":\"#2a3f5f\",\"arrowhead\":0,\"arrowwidth\":1},\"geo\":{\"bgcolor\":\"white\",\"landcolor\":\"#E5ECF6\",\"subunitcolor\":\"white\",\"showland\":true,\"showlakes\":true,\"lakecolor\":\"white\"},\"title\":{\"x\":0.05},\"mapbox\":{\"style\":\"light\"}}},\"xaxis\":{\"anchor\":\"y\",\"domain\":[0.0,1.0],\"title\":{\"text\":\"Count\"}},\"yaxis\":{\"anchor\":\"x\",\"domain\":[0.0,1.0],\"title\":{\"text\":\"OFFENSE\"}},\"coloraxis\":{\"colorbar\":{\"title\":{\"text\":\"color\"}},\"colorscale\":[[0.0,\"#0d0887\"],[0.1111111111111111,\"#46039f\"],[0.2222222222222222,\"#7201a8\"],[0.3333333333333333,\"#9c179e\"],[0.4444444444444444,\"#bd3786\"],[0.5555555555555556,\"#d8576b\"],[0.6666666666666666,\"#ed7953\"],[0.7777777777777778,\"#fb9f3a\"],[0.8888888888888888,\"#fdca26\"],[1.0,\"#f0f921\"]],\"showscale\":false},\"legend\":{\"tracegroupgap\":0},\"title\":{\"text\":\"Top 15 Offense by Count\"},\"barmode\":\"relative\",\"height\":500,\"width\":800},                        {\"responsive\": true}                    ).then(function(){\n",
       "                            \n",
       "var gd = document.getElementById('d4d04e67-4452-4d5c-9666-3ddeafaac81a');\n",
       "var x = new MutationObserver(function (mutations, observer) {{\n",
       "        var display = window.getComputedStyle(gd).display;\n",
       "        if (!display || display === 'none') {{\n",
       "            console.log([gd, 'removed!']);\n",
       "            Plotly.purge(gd);\n",
       "            observer.disconnect();\n",
       "        }}\n",
       "}});\n",
       "\n",
       "// Listen for the removal of the full notebook cells\n",
       "var notebookContainer = gd.closest('#notebook-container');\n",
       "if (notebookContainer) {{\n",
       "    x.observe(notebookContainer, {childList: true});\n",
       "}}\n",
       "\n",
       "// Listen for the clearing of the current output cell\n",
       "var outputEl = gd.closest('.output');\n",
       "if (outputEl) {{\n",
       "    x.observe(outputEl, {childList: true});\n",
       "}}\n",
       "\n",
       "                        })                };                });            </script>        </div>"
      ]
     },
     "metadata": {},
     "output_type": "display_data"
    }
   ],
   "source": [
    "offense_types = crime_df2['OFFENSE DESCRIPTION'].value_counts().sort_values(ascending=False)[:15]\n",
    "\n",
    "fig = px.bar(x=offense_types.values[::-1],\n",
    "             y=offense_types.keys()[::-1],\n",
    "             orientation='h',\n",
    "             width=800, \n",
    "             height=500,\n",
    "             color=offense_types.values[::-1],\n",
    "             labels={'x': 'Count',\n",
    "                     'y': 'OFFENSE'},\n",
    "             title='Top 15 Offense by Count')\n",
    "\n",
    "fig.update(layout_coloraxis_showscale=False)\n",
    "fig.show()"
   ]
  },
  {
   "cell_type": "markdown",
   "id": "2f53bcc8",
   "metadata": {},
   "source": [
    "The top most committed offenses are `THEFT`, `THEFT OF VEHICLE`, `DAMAGE TO PROPERTY`, `SHOPLIFTING`, `BURGLARY`, `POSSESSION OF MARIJUANA`. So if anyday you're wandering in the city, make sure to keep an eye on your valuable things."
   ]
  },
  {
   "cell_type": "code",
   "execution_count": 51,
   "id": "0da68f44",
   "metadata": {},
   "outputs": [],
   "source": [
    "# identify weekends\n",
    "def isWeekend(row):\n",
    "    if row.dayofweek == 5 or row.dayofweek == 6:\n",
    "        return True\n",
    "    else:\n",
    "        return False\n",
    "\n",
    "# identify seasons\n",
    "def getSeason(row):\n",
    "    if row.month == 11 or row.month == 0 or row.month == 1:\n",
    "        return 'Winter'\n",
    "    elif row.month == 2 or row.month == 3 or row.month == 4:\n",
    "        return 'Spring'\n",
    "    elif row.month == 5 or row.month == 6 or row.month == 7:\n",
    "        return 'Summer'\n",
    "    else:\n",
    "        return 'Fall'\n",
    "\n",
    "# determine the weekend and season from the 'Date' feature and add them to the data frame\n",
    "df['Weekend'] = df['OFFENSE DATE'].apply(isWeekend)\n",
    "df['Season'] = df['OFFENSE DATE'].apply(getSeason)"
   ]
  },
  {
   "cell_type": "code",
   "execution_count": 52,
   "id": "48aafc70",
   "metadata": {},
   "outputs": [
    {
     "name": "stdout",
     "output_type": "stream",
     "text": [
      "Crimes over the weekdays: 317174\n",
      "Crimes over the weekends: 125063\n",
      "\n",
      "Percentage of weekend crimes: 28.279632866539888\n"
     ]
    },
    {
     "data": {
      "image/png": "[encoded data removed]",
      "text/plain": [
       "<Figure size 432x288 with 1 Axes>"
      ]
     },
     "metadata": {},
     "output_type": "display_data"
    }
   ],
   "source": [
    "# weekday crimes\n",
    "weekday_crimes = df['Weekend'].value_counts()[0]\n",
    "print('Crimes over the weekdays: {}'.format(weekday_crimes))\n",
    "\n",
    "# weekend crimes\n",
    "weekend_crimes = df['Weekend'].value_counts()[1]\n",
    "print('Crimes over the weekends: {}'.format(weekend_crimes))\n",
    "\n",
    "# percentage of weekend crimes\n",
    "percentage = (100 * weekend_crimes) / (weekend_crimes + weekday_crimes)\n",
    "print('\\nPercentage of weekend crimes: {}'.format(percentage))\n",
    "\n",
    "#visualization\n",
    "plt.pie([weekday_crimes, weekend_crimes], labels = ['Weekdays', 'Weekends'], autopct='%.3f%%',startangle = 90)\n",
    "plt.show()"
   ]
  },
  {
   "cell_type": "code",
   "execution_count": 53,
   "id": "a8725674",
   "metadata": {},
   "outputs": [
    {
     "data": {
      "text/plain": [
       "<AxesSubplot:>"
      ]
     },
     "execution_count": 53,
     "metadata": {},
     "output_type": "execute_result"
    },
    {
     "data": {
      "image/png": "[encoded data removed]",
      "text/plain": [
       "<Figure size 1152x648 with 1 Axes>"
      ]
     },
     "metadata": {
      "needs_background": "light"
     },
     "output_type": "display_data"
    }
   ],
   "source": [
    "df['Season'].value_counts().plot(kind='bar', figsize=(16, 9), rot = 0)"
   ]
  },
  {
   "cell_type": "code",
   "execution_count": 54,
   "id": "3f82c3a2",
   "metadata": {},
   "outputs": [
    {
     "data": {
      "text/plain": [
       "<AxesSubplot:>"
      ]
     },
     "execution_count": 54,
     "metadata": {},
     "output_type": "execute_result"
    },
    {
     "data": {
      "image/png": "[encoded data removed]",
      "text/plain": [
       "<Figure size 1152x648 with 1 Axes>"
      ]
     },
     "metadata": {
      "needs_background": "light"
     },
     "output_type": "display_data"
    }
   ],
   "source": [
    "df['STREET NAME'].value_counts().head(10).plot(kind='bar', figsize=(16, 9), rot = 0)"
   ]
  },
  {
   "cell_type": "code",
   "execution_count": 55,
   "id": "41b43639",
   "metadata": {},
   "outputs": [
    {
     "data": {
      "text/plain": [
       "<AxesSubplot:>"
      ]
     },
     "execution_count": 55,
     "metadata": {},
     "output_type": "execute_result"
    },
    {
     "data": {
      "image/png": "[encoded data removed]",
      "text/plain": [
       "<Figure size 1152x648 with 1 Axes>"
      ]
     },
     "metadata": {
      "needs_background": "light"
     },
     "output_type": "display_data"
    }
   ],
   "source": [
    "# retrieving all thefts\n",
    "thefts = df[df['CRIME'] == 'THEFT']\n",
    "\n",
    "# identifying different categories of theft\n",
    "thefts_with_categories = thefts['OFFENSE DESCRIPTION'].value_counts().head(10)\n",
    "\n",
    "# visualization\n",
    "thefts_with_categories.plot(kind = 'bar', figsize = (16, 9))"
   ]
  },
  {
   "cell_type": "markdown",
   "id": "e25932b4",
   "metadata": {},
   "source": [
    "[Index](#Index)\n",
    "<a id='4'></a>\n",
    "### Time Perspective"
   ]
  },
  {
   "cell_type": "code",
   "execution_count": 21,
   "id": "538d9be0",
   "metadata": {},
   "outputs": [],
   "source": [
    "crime_df2['OFFENSE DATE'] = pd.to_datetime(crime_df2['OFFENSE DATE'])"
   ]
  },
  {
   "cell_type": "markdown",
   "id": "abd48119",
   "metadata": {},
   "source": [
    "Creating separate columns for Day of week, Date, Month, Year from OFFENSE DATE column to analyze from different time perspective."
   ]
  },
  {
   "cell_type": "code",
   "execution_count": 22,
   "id": "86f2b3c0",
   "metadata": {},
   "outputs": [],
   "source": [
    "crime_df2['YEAR'] = crime_df2['OFFENSE DATE'].dt.year\n",
    "crime_df2['MONTH'] = crime_df2['OFFENSE DATE'].dt.month\n",
    "crime_df2['DATE'] = crime_df2['OFFENSE DATE'].dt.day\n",
    "crime_df2['DAY'] = crime_df2['OFFENSE DATE'].dt.weekday"
   ]
  },
  {
   "cell_type": "code",
   "execution_count": 23,
   "id": "3b099971",
   "metadata": {},
   "outputs": [
    {
     "data": {
      "text/plain": [
       "(Timestamp('2011-01-01 00:00:00'), Timestamp('2021-01-06 00:00:00'))"
      ]
     },
     "execution_count": 23,
     "metadata": {},
     "output_type": "execute_result"
    }
   ],
   "source": [
    "np.min(crime_df2['OFFENSE DATE']), np.max(crime_df2['OFFENSE DATE'])"
   ]
  },
  {
   "cell_type": "markdown",
   "id": "53b8cc85",
   "metadata": {},
   "source": [
    "The dataset we've consists crime records from **Jan-2011** to **Jan-2021**."
   ]
  },
  {
   "cell_type": "code",
   "execution_count": 24,
   "id": "3e330e50",
   "metadata": {},
   "outputs": [
    {
     "data": {
      "text/html": [
       "<div>\n",
       "<style scoped>\n",
       "    .dataframe tbody tr th:only-of-type {\n",
       "        vertical-align: middle;\n",
       "    }\n",
       "\n",
       "    .dataframe tbody tr th {\n",
       "        vertical-align: top;\n",
       "    }\n",
       "\n",
       "    .dataframe thead th {\n",
       "        text-align: right;\n",
       "    }\n",
       "</style>\n",
       "<table border=\"1\" class=\"dataframe\">\n",
       "  <thead>\n",
       "    <tr style=\"text-align: right;\">\n",
       "      <th></th>\n",
       "      <th>FILE NUMBER</th>\n",
       "      <th>OFFENSE DATE</th>\n",
       "      <th>OFFENSE TIME</th>\n",
       "      <th>CRIME</th>\n",
       "      <th>COMMITTED</th>\n",
       "      <th>OFFENSE</th>\n",
       "      <th>OFFENSE DESCRIPTION</th>\n",
       "      <th>FULL ADDRESS</th>\n",
       "      <th>ADDRESS NUMBER</th>\n",
       "      <th>STREET NAME</th>\n",
       "      <th>...</th>\n",
       "      <th>ZONE</th>\n",
       "      <th>SUBZONE</th>\n",
       "      <th>COMPLETE DISTRICT</th>\n",
       "      <th>COUNCIL DISTRICT</th>\n",
       "      <th>CRIME PREVENTION DISTRICT</th>\n",
       "      <th>GEOLOCATION</th>\n",
       "      <th>YEAR</th>\n",
       "      <th>MONTH</th>\n",
       "      <th>DATE</th>\n",
       "      <th>DAY</th>\n",
       "    </tr>\n",
       "  </thead>\n",
       "  <tbody>\n",
       "    <tr>\n",
       "      <th>0</th>\n",
       "      <td>1.900120e+09</td>\n",
       "      <td>2019-12-01</td>\n",
       "      <td>0</td>\n",
       "      <td>THEFT</td>\n",
       "      <td>COMMITTED</td>\n",
       "      <td>13:67</td>\n",
       "      <td>THEFT/MISD/CC</td>\n",
       "      <td>10391 AIRLINE HW</td>\n",
       "      <td>10391.0</td>\n",
       "      <td>AIRLINE</td>\n",
       "      <td>...</td>\n",
       "      <td>C</td>\n",
       "      <td>3</td>\n",
       "      <td>3C3</td>\n",
       "      <td>8.0</td>\n",
       "      <td>NONE</td>\n",
       "      <td>10391 AIRLINE HW\\nBATON ROUGE, LA 70815</td>\n",
       "      <td>2019</td>\n",
       "      <td>12</td>\n",
       "      <td>1</td>\n",
       "      <td>6</td>\n",
       "    </tr>\n",
       "    <tr>\n",
       "      <th>1</th>\n",
       "      <td>2.000001e+09</td>\n",
       "      <td>2020-01-04</td>\n",
       "      <td>228</td>\n",
       "      <td>OTHER</td>\n",
       "      <td>COMMITTED</td>\n",
       "      <td>11:140</td>\n",
       "      <td>D W I /CC</td>\n",
       "      <td>3400 FLORIDA BL</td>\n",
       "      <td>3400.0</td>\n",
       "      <td>FLORIDA</td>\n",
       "      <td>...</td>\n",
       "      <td>B</td>\n",
       "      <td>1</td>\n",
       "      <td>1B1</td>\n",
       "      <td>7.0</td>\n",
       "      <td>NONE</td>\n",
       "      <td>3400 FLORIDA BL\\nBATON ROUGE, LA</td>\n",
       "      <td>2020</td>\n",
       "      <td>1</td>\n",
       "      <td>4</td>\n",
       "      <td>5</td>\n",
       "    </tr>\n",
       "    <tr>\n",
       "      <th>2</th>\n",
       "      <td>2.000006e+09</td>\n",
       "      <td>2020-01-18</td>\n",
       "      <td>1940</td>\n",
       "      <td>BATTERY</td>\n",
       "      <td>COMMITTED</td>\n",
       "      <td>14:34.1</td>\n",
       "      <td>BATT/2ND DEGREE</td>\n",
       "      <td>2136 LOBDELL BL</td>\n",
       "      <td>2136.0</td>\n",
       "      <td>LOBDELL</td>\n",
       "      <td>...</td>\n",
       "      <td>D</td>\n",
       "      <td>2</td>\n",
       "      <td>1D2</td>\n",
       "      <td>6.0</td>\n",
       "      <td>NONE</td>\n",
       "      <td>2136 LOBDELL BL\\nBATON ROUGE, LA 70805</td>\n",
       "      <td>2020</td>\n",
       "      <td>1</td>\n",
       "      <td>18</td>\n",
       "      <td>5</td>\n",
       "    </tr>\n",
       "    <tr>\n",
       "      <th>3</th>\n",
       "      <td>1.300056e+09</td>\n",
       "      <td>2013-06-29</td>\n",
       "      <td>1917</td>\n",
       "      <td>OTHER</td>\n",
       "      <td>COMMITTED</td>\n",
       "      <td>11:140</td>\n",
       "      <td>D W I /CC</td>\n",
       "      <td>200 NORTH I110 HW</td>\n",
       "      <td>200.0</td>\n",
       "      <td>NORTH I-110</td>\n",
       "      <td>...</td>\n",
       "      <td>A</td>\n",
       "      <td>2</td>\n",
       "      <td>2A2</td>\n",
       "      <td>10.0</td>\n",
       "      <td>NONE</td>\n",
       "      <td>200 NORTH I110 HW\\nBATON ROUGE, LA</td>\n",
       "      <td>2013</td>\n",
       "      <td>6</td>\n",
       "      <td>29</td>\n",
       "      <td>5</td>\n",
       "    </tr>\n",
       "    <tr>\n",
       "      <th>4</th>\n",
       "      <td>2.000010e+09</td>\n",
       "      <td>2020-02-01</td>\n",
       "      <td>1824</td>\n",
       "      <td>OTHER</td>\n",
       "      <td>COMMITTED</td>\n",
       "      <td>14:52</td>\n",
       "      <td>ARSON/SIMPLE</td>\n",
       "      <td>8464 AIRLINE HW</td>\n",
       "      <td>8464.0</td>\n",
       "      <td>AIRLINE</td>\n",
       "      <td>...</td>\n",
       "      <td>D</td>\n",
       "      <td>2</td>\n",
       "      <td>1D2</td>\n",
       "      <td>6.0</td>\n",
       "      <td>NONE</td>\n",
       "      <td>8464 AIRLINE HW\\nBATON ROUGE, LA 70812</td>\n",
       "      <td>2020</td>\n",
       "      <td>2</td>\n",
       "      <td>1</td>\n",
       "      <td>5</td>\n",
       "    </tr>\n",
       "  </tbody>\n",
       "</table>\n",
       "<p>5 rows × 25 columns</p>\n",
       "</div>"
      ],
      "text/plain": [
       "    FILE NUMBER OFFENSE DATE OFFENSE TIME    CRIME  COMMITTED  OFFENSE  \\\n",
       "0  1.900120e+09   2019-12-01            0    THEFT  COMMITTED    13:67   \n",
       "1  2.000001e+09   2020-01-04          228    OTHER  COMMITTED   11:140   \n",
       "2  2.000006e+09   2020-01-18         1940  BATTERY  COMMITTED  14:34.1   \n",
       "3  1.300056e+09   2013-06-29         1917    OTHER  COMMITTED   11:140   \n",
       "4  2.000010e+09   2020-02-01         1824    OTHER  COMMITTED    14:52   \n",
       "\n",
       "  OFFENSE DESCRIPTION       FULL ADDRESS  ADDRESS NUMBER  STREET NAME  ...  \\\n",
       "0       THEFT/MISD/CC   10391 AIRLINE HW         10391.0      AIRLINE  ...   \n",
       "1           D W I /CC    3400 FLORIDA BL          3400.0      FLORIDA  ...   \n",
       "2     BATT/2ND DEGREE    2136 LOBDELL BL          2136.0      LOBDELL  ...   \n",
       "3           D W I /CC  200 NORTH I110 HW           200.0  NORTH I-110  ...   \n",
       "4        ARSON/SIMPLE    8464 AIRLINE HW          8464.0      AIRLINE  ...   \n",
       "\n",
       "  ZONE SUBZONE COMPLETE DISTRICT  COUNCIL DISTRICT CRIME PREVENTION DISTRICT  \\\n",
       "0    C       3               3C3               8.0                      NONE   \n",
       "1    B       1               1B1               7.0                      NONE   \n",
       "2    D       2               1D2               6.0                      NONE   \n",
       "3    A       2               2A2              10.0                      NONE   \n",
       "4    D       2               1D2               6.0                      NONE   \n",
       "\n",
       "                               GEOLOCATION  YEAR MONTH  DATE DAY  \n",
       "0  10391 AIRLINE HW\\nBATON ROUGE, LA 70815  2019    12     1   6  \n",
       "1         3400 FLORIDA BL\\nBATON ROUGE, LA  2020     1     4   5  \n",
       "2   2136 LOBDELL BL\\nBATON ROUGE, LA 70805  2020     1    18   5  \n",
       "3       200 NORTH I110 HW\\nBATON ROUGE, LA  2013     6    29   5  \n",
       "4   8464 AIRLINE HW\\nBATON ROUGE, LA 70812  2020     2     1   5  \n",
       "\n",
       "[5 rows x 25 columns]"
      ]
     },
     "execution_count": 24,
     "metadata": {},
     "output_type": "execute_result"
    }
   ],
   "source": [
    "crime_df2.head()"
   ]
  },
  {
   "cell_type": "markdown",
   "id": "9719622b",
   "metadata": {},
   "source": [
    "Day of Week is in integer form i.e starting from Monday-0, Tuesday-1, ..., Saturday-6, Sunday-7, so I wrote a function to convert it into string form."
   ]
  },
  {
   "cell_type": "code",
   "execution_count": 25,
   "id": "277abeff",
   "metadata": {},
   "outputs": [],
   "source": [
    "def convert_weekday(column):\n",
    "    \n",
    "    new_weekdays = []\n",
    "    for c in column:\n",
    "        if c==0:\n",
    "            new_weekdays.append('Monday')\n",
    "        elif c==1:\n",
    "            new_weekdays.append('Tuesday')\n",
    "        elif c==2:\n",
    "            new_weekdays.append('Wednesday')\n",
    "        elif c==3:\n",
    "            new_weekdays.append('Thursday')\n",
    "        elif c==4:\n",
    "            new_weekdays.append('Friday')\n",
    "        elif c==5:\n",
    "            new_weekdays.append('Saturday')\n",
    "        elif c==6:\n",
    "            new_weekdays.append('Sunday')\n",
    "            \n",
    "    return new_weekdays"
   ]
  },
  {
   "cell_type": "code",
   "execution_count": 26,
   "id": "67d949a1",
   "metadata": {},
   "outputs": [],
   "source": [
    "crime_df2['DAY'] = convert_weekday(crime_df2['DAY'])"
   ]
  },
  {
   "cell_type": "code",
   "execution_count": 27,
   "id": "4ad92f7a",
   "metadata": {},
   "outputs": [
    {
     "data": {
      "text/html": [
       "<div>\n",
       "<style scoped>\n",
       "    .dataframe tbody tr th:only-of-type {\n",
       "        vertical-align: middle;\n",
       "    }\n",
       "\n",
       "    .dataframe tbody tr th {\n",
       "        vertical-align: top;\n",
       "    }\n",
       "\n",
       "    .dataframe thead th {\n",
       "        text-align: right;\n",
       "    }\n",
       "</style>\n",
       "<table border=\"1\" class=\"dataframe\">\n",
       "  <thead>\n",
       "    <tr style=\"text-align: right;\">\n",
       "      <th></th>\n",
       "      <th>FILE NUMBER</th>\n",
       "      <th>OFFENSE DATE</th>\n",
       "      <th>OFFENSE TIME</th>\n",
       "      <th>CRIME</th>\n",
       "      <th>COMMITTED</th>\n",
       "      <th>OFFENSE</th>\n",
       "      <th>OFFENSE DESCRIPTION</th>\n",
       "      <th>FULL ADDRESS</th>\n",
       "      <th>ADDRESS NUMBER</th>\n",
       "      <th>STREET NAME</th>\n",
       "      <th>...</th>\n",
       "      <th>ZONE</th>\n",
       "      <th>SUBZONE</th>\n",
       "      <th>COMPLETE DISTRICT</th>\n",
       "      <th>COUNCIL DISTRICT</th>\n",
       "      <th>CRIME PREVENTION DISTRICT</th>\n",
       "      <th>GEOLOCATION</th>\n",
       "      <th>YEAR</th>\n",
       "      <th>MONTH</th>\n",
       "      <th>DATE</th>\n",
       "      <th>DAY</th>\n",
       "    </tr>\n",
       "  </thead>\n",
       "  <tbody>\n",
       "    <tr>\n",
       "      <th>0</th>\n",
       "      <td>1.900120e+09</td>\n",
       "      <td>2019-12-01</td>\n",
       "      <td>0</td>\n",
       "      <td>THEFT</td>\n",
       "      <td>COMMITTED</td>\n",
       "      <td>13:67</td>\n",
       "      <td>THEFT/MISD/CC</td>\n",
       "      <td>10391 AIRLINE HW</td>\n",
       "      <td>10391.0</td>\n",
       "      <td>AIRLINE</td>\n",
       "      <td>...</td>\n",
       "      <td>C</td>\n",
       "      <td>3</td>\n",
       "      <td>3C3</td>\n",
       "      <td>8.0</td>\n",
       "      <td>NONE</td>\n",
       "      <td>10391 AIRLINE HW\\nBATON ROUGE, LA 70815</td>\n",
       "      <td>2019</td>\n",
       "      <td>12</td>\n",
       "      <td>1</td>\n",
       "      <td>Sunday</td>\n",
       "    </tr>\n",
       "    <tr>\n",
       "      <th>1</th>\n",
       "      <td>2.000001e+09</td>\n",
       "      <td>2020-01-04</td>\n",
       "      <td>228</td>\n",
       "      <td>OTHER</td>\n",
       "      <td>COMMITTED</td>\n",
       "      <td>11:140</td>\n",
       "      <td>D W I /CC</td>\n",
       "      <td>3400 FLORIDA BL</td>\n",
       "      <td>3400.0</td>\n",
       "      <td>FLORIDA</td>\n",
       "      <td>...</td>\n",
       "      <td>B</td>\n",
       "      <td>1</td>\n",
       "      <td>1B1</td>\n",
       "      <td>7.0</td>\n",
       "      <td>NONE</td>\n",
       "      <td>3400 FLORIDA BL\\nBATON ROUGE, LA</td>\n",
       "      <td>2020</td>\n",
       "      <td>1</td>\n",
       "      <td>4</td>\n",
       "      <td>Saturday</td>\n",
       "    </tr>\n",
       "    <tr>\n",
       "      <th>2</th>\n",
       "      <td>2.000006e+09</td>\n",
       "      <td>2020-01-18</td>\n",
       "      <td>1940</td>\n",
       "      <td>BATTERY</td>\n",
       "      <td>COMMITTED</td>\n",
       "      <td>14:34.1</td>\n",
       "      <td>BATT/2ND DEGREE</td>\n",
       "      <td>2136 LOBDELL BL</td>\n",
       "      <td>2136.0</td>\n",
       "      <td>LOBDELL</td>\n",
       "      <td>...</td>\n",
       "      <td>D</td>\n",
       "      <td>2</td>\n",
       "      <td>1D2</td>\n",
       "      <td>6.0</td>\n",
       "      <td>NONE</td>\n",
       "      <td>2136 LOBDELL BL\\nBATON ROUGE, LA 70805</td>\n",
       "      <td>2020</td>\n",
       "      <td>1</td>\n",
       "      <td>18</td>\n",
       "      <td>Saturday</td>\n",
       "    </tr>\n",
       "    <tr>\n",
       "      <th>3</th>\n",
       "      <td>1.300056e+09</td>\n",
       "      <td>2013-06-29</td>\n",
       "      <td>1917</td>\n",
       "      <td>OTHER</td>\n",
       "      <td>COMMITTED</td>\n",
       "      <td>11:140</td>\n",
       "      <td>D W I /CC</td>\n",
       "      <td>200 NORTH I110 HW</td>\n",
       "      <td>200.0</td>\n",
       "      <td>NORTH I-110</td>\n",
       "      <td>...</td>\n",
       "      <td>A</td>\n",
       "      <td>2</td>\n",
       "      <td>2A2</td>\n",
       "      <td>10.0</td>\n",
       "      <td>NONE</td>\n",
       "      <td>200 NORTH I110 HW\\nBATON ROUGE, LA</td>\n",
       "      <td>2013</td>\n",
       "      <td>6</td>\n",
       "      <td>29</td>\n",
       "      <td>Saturday</td>\n",
       "    </tr>\n",
       "    <tr>\n",
       "      <th>4</th>\n",
       "      <td>2.000010e+09</td>\n",
       "      <td>2020-02-01</td>\n",
       "      <td>1824</td>\n",
       "      <td>OTHER</td>\n",
       "      <td>COMMITTED</td>\n",
       "      <td>14:52</td>\n",
       "      <td>ARSON/SIMPLE</td>\n",
       "      <td>8464 AIRLINE HW</td>\n",
       "      <td>8464.0</td>\n",
       "      <td>AIRLINE</td>\n",
       "      <td>...</td>\n",
       "      <td>D</td>\n",
       "      <td>2</td>\n",
       "      <td>1D2</td>\n",
       "      <td>6.0</td>\n",
       "      <td>NONE</td>\n",
       "      <td>8464 AIRLINE HW\\nBATON ROUGE, LA 70812</td>\n",
       "      <td>2020</td>\n",
       "      <td>2</td>\n",
       "      <td>1</td>\n",
       "      <td>Saturday</td>\n",
       "    </tr>\n",
       "  </tbody>\n",
       "</table>\n",
       "<p>5 rows × 25 columns</p>\n",
       "</div>"
      ],
      "text/plain": [
       "    FILE NUMBER OFFENSE DATE OFFENSE TIME    CRIME  COMMITTED  OFFENSE  \\\n",
       "0  1.900120e+09   2019-12-01            0    THEFT  COMMITTED    13:67   \n",
       "1  2.000001e+09   2020-01-04          228    OTHER  COMMITTED   11:140   \n",
       "2  2.000006e+09   2020-01-18         1940  BATTERY  COMMITTED  14:34.1   \n",
       "3  1.300056e+09   2013-06-29         1917    OTHER  COMMITTED   11:140   \n",
       "4  2.000010e+09   2020-02-01         1824    OTHER  COMMITTED    14:52   \n",
       "\n",
       "  OFFENSE DESCRIPTION       FULL ADDRESS  ADDRESS NUMBER  STREET NAME  ...  \\\n",
       "0       THEFT/MISD/CC   10391 AIRLINE HW         10391.0      AIRLINE  ...   \n",
       "1           D W I /CC    3400 FLORIDA BL          3400.0      FLORIDA  ...   \n",
       "2     BATT/2ND DEGREE    2136 LOBDELL BL          2136.0      LOBDELL  ...   \n",
       "3           D W I /CC  200 NORTH I110 HW           200.0  NORTH I-110  ...   \n",
       "4        ARSON/SIMPLE    8464 AIRLINE HW          8464.0      AIRLINE  ...   \n",
       "\n",
       "  ZONE SUBZONE COMPLETE DISTRICT  COUNCIL DISTRICT CRIME PREVENTION DISTRICT  \\\n",
       "0    C       3               3C3               8.0                      NONE   \n",
       "1    B       1               1B1               7.0                      NONE   \n",
       "2    D       2               1D2               6.0                      NONE   \n",
       "3    A       2               2A2              10.0                      NONE   \n",
       "4    D       2               1D2               6.0                      NONE   \n",
       "\n",
       "                               GEOLOCATION  YEAR MONTH  DATE       DAY  \n",
       "0  10391 AIRLINE HW\\nBATON ROUGE, LA 70815  2019    12     1    Sunday  \n",
       "1         3400 FLORIDA BL\\nBATON ROUGE, LA  2020     1     4  Saturday  \n",
       "2   2136 LOBDELL BL\\nBATON ROUGE, LA 70805  2020     1    18  Saturday  \n",
       "3       200 NORTH I110 HW\\nBATON ROUGE, LA  2013     6    29  Saturday  \n",
       "4   8464 AIRLINE HW\\nBATON ROUGE, LA 70812  2020     2     1  Saturday  \n",
       "\n",
       "[5 rows x 25 columns]"
      ]
     },
     "execution_count": 27,
     "metadata": {},
     "output_type": "execute_result"
    }
   ],
   "source": [
    "crime_df2.head()"
   ]
  },
  {
   "cell_type": "code",
   "execution_count": 28,
   "id": "d7d33cf6",
   "metadata": {},
   "outputs": [
    {
     "data": {
      "image/png": "[encoded data removed]",
      "text/plain": [
       "<Figure size 800x400 with 1 Axes>"
      ]
     },
     "metadata": {
      "needs_background": "light"
     },
     "output_type": "display_data"
    }
   ],
   "source": [
    "weekly_crimes = crime_df2['DAY'].value_counts().sort_values()\n",
    "\n",
    "plt.figure(figsize=(8, 4), dpi=100)\n",
    "plt.barh(weekly_crimes.keys(),\n",
    "         weekly_crimes.values,\n",
    "         color=['yellow', 'orange', 'coral', 'orchid', 'skyblue', 'lightgreen', 'lightpink'])\n",
    "plt.xlabel('WeekDay', size=12)\n",
    "plt.ylabel('Offense Count', size=12)\n",
    "plt.title('Weekly Offense Count')\n",
    "plt.show()"
   ]
  },
  {
   "cell_type": "markdown",
   "id": "7f20d836",
   "metadata": {},
   "source": [
    "After checking out weekly offense count, for `Thursday`, `Friday` and `Saturday` the count is more as compared to other days which makes sense as most people tend to go out on weekends to socialize, travel to some other place, etc."
   ]
  },
  {
   "cell_type": "markdown",
   "id": "6f3741f7",
   "metadata": {},
   "source": [
    "I didn't considered 2021 as it had only one month(January) of data."
   ]
  },
  {
   "cell_type": "code",
   "execution_count": 29,
   "id": "83cf11ba",
   "metadata": {},
   "outputs": [
    {
     "data": {
      "application/vnd.plotly.v1+json": {
       "config": {
        "plotlyServerURL": "https://plot.ly"
       },
       "data": [
        {
         "hovertemplate": "Year=%{x}<br>Count=%{y}<extra></extra>",
         "legendgroup": "",
         "line": {
          "color": "#636efa",
          "dash": "solid"
         },
         "marker": {
          "symbol": "circle"
         },
         "mode": "markers+lines",
         "name": "",
         "orientation": "v",
         "showlegend": false,
         "type": "scatter",
         "x": [
          2011,
          2012,
          2013,
          2014,
          2015,
          2016,
          2017,
          2018,
          2019,
          2020
         ],
         "xaxis": "x",
         "y": [
          58842,
          52957,
          43863,
          40028,
          42297,
          41046,
          45277,
          42373,
          40011,
          35543
         ],
         "yaxis": "y"
        }
       ],
       "layout": {
        "height": 450,
        "legend": {
         "tracegroupgap": 0
        },
        "template": {
         "data": {
          "bar": [
           {
            "error_x": {
             "color": "#2a3f5f"
            },
            "error_y": {
             "color": "#2a3f5f"
            },
            "marker": {
             "line": {
              "color": "#E5ECF6",
              "width": 0.5
             },
             "pattern": {
              "fillmode": "overlay",
              "size": 10,
              "solidity": 0.2
             }
            },
            "type": "bar"
           }
          ],
          "barpolar": [
           {
            "marker": {
             "line": {
              "color": "#E5ECF6",
              "width": 0.5
             },
             "pattern": {
              "fillmode": "overlay",
              "size": 10,
              "solidity": 0.2
             }
            },
            "type": "barpolar"
           }
          ],
          "carpet": [
           {
            "aaxis": {
             "endlinecolor": "#2a3f5f",
             "gridcolor": "white",
             "linecolor": "white",
             "minorgridcolor": "white",
             "startlinecolor": "#2a3f5f"
            },
            "baxis": {
             "endlinecolor": "#2a3f5f",
             "gridcolor": "white",
             "linecolor": "white",
             "minorgridcolor": "white",
             "startlinecolor": "#2a3f5f"
            },
            "type": "carpet"
           }
          ],
          "choropleth": [
           {
            "colorbar": {
             "outlinewidth": 0,
             "ticks": ""
            },
            "type": "choropleth"
           }
          ],
          "contour": [
           {
            "colorbar": {
             "outlinewidth": 0,
             "ticks": ""
            },
            "colorscale": [
             [
              0,
              "#0d0887"
             ],
             [
              0.1111111111111111,
              "#46039f"
             ],
             [
              0.2222222222222222,
              "#7201a8"
             ],
             [
              0.3333333333333333,
              "#9c179e"
             ],
             [
              0.4444444444444444,
              "#bd3786"
             ],
             [
              0.5555555555555556,
              "#d8576b"
             ],
             [
              0.6666666666666666,
              "#ed7953"
             ],
             [
              0.7777777777777778,
              "#fb9f3a"
             ],
             [
              0.8888888888888888,
              "#fdca26"
             ],
             [
              1,
              "#f0f921"
             ]
            ],
            "type": "contour"
           }
          ],
          "contourcarpet": [
           {
            "colorbar": {
             "outlinewidth": 0,
             "ticks": ""
            },
            "type": "contourcarpet"
           }
          ],
          "heatmap": [
           {
            "colorbar": {
             "outlinewidth": 0,
             "ticks": ""
            },
            "colorscale": [
             [
              0,
              "#0d0887"
             ],
             [
              0.1111111111111111,
              "#46039f"
             ],
             [
              0.2222222222222222,
              "#7201a8"
             ],
             [
              0.3333333333333333,
              "#9c179e"
             ],
             [
              0.4444444444444444,
              "#bd3786"
             ],
             [
              0.5555555555555556,
              "#d8576b"
             ],
             [
              0.6666666666666666,
              "#ed7953"
             ],
             [
              0.7777777777777778,
              "#fb9f3a"
             ],
             [
              0.8888888888888888,
              "#fdca26"
             ],
             [
              1,
              "#f0f921"
             ]
            ],
            "type": "heatmap"
           }
          ],
          "heatmapgl": [
           {
            "colorbar": {
             "outlinewidth": 0,
             "ticks": ""
            },
            "colorscale": [
             [
              0,
              "#0d0887"
             ],
             [
              0.1111111111111111,
              "#46039f"
             ],
             [
              0.2222222222222222,
              "#7201a8"
             ],
             [
              0.3333333333333333,
              "#9c179e"
             ],
             [
              0.4444444444444444,
              "#bd3786"
             ],
             [
              0.5555555555555556,
              "#d8576b"
             ],
             [
              0.6666666666666666,
              "#ed7953"
             ],
             [
              0.7777777777777778,
              "#fb9f3a"
             ],
             [
              0.8888888888888888,
              "#fdca26"
             ],
             [
              1,
              "#f0f921"
             ]
            ],
            "type": "heatmapgl"
           }
          ],
          "histogram": [
           {
            "marker": {
             "pattern": {
              "fillmode": "overlay",
              "size": 10,
              "solidity": 0.2
             }
            },
            "type": "histogram"
           }
          ],
          "histogram2d": [
           {
            "colorbar": {
             "outlinewidth": 0,
             "ticks": ""
            },
            "colorscale": [
             [
              0,
              "#0d0887"
             ],
             [
              0.1111111111111111,
              "#46039f"
             ],
             [
              0.2222222222222222,
              "#7201a8"
             ],
             [
              0.3333333333333333,
              "#9c179e"
             ],
             [
              0.4444444444444444,
              "#bd3786"
             ],
             [
              0.5555555555555556,
              "#d8576b"
             ],
             [
              0.6666666666666666,
              "#ed7953"
             ],
             [
              0.7777777777777778,
              "#fb9f3a"
             ],
             [
              0.8888888888888888,
              "#fdca26"
             ],
             [
              1,
              "#f0f921"
             ]
            ],
            "type": "histogram2d"
           }
          ],
          "histogram2dcontour": [
           {
            "colorbar": {
             "outlinewidth": 0,
             "ticks": ""
            },
            "colorscale": [
             [
              0,
              "#0d0887"
             ],
             [
              0.1111111111111111,
              "#46039f"
             ],
             [
              0.2222222222222222,
              "#7201a8"
             ],
             [
              0.3333333333333333,
              "#9c179e"
             ],
             [
              0.4444444444444444,
              "#bd3786"
             ],
             [
              0.5555555555555556,
              "#d8576b"
             ],
             [
              0.6666666666666666,
              "#ed7953"
             ],
             [
              0.7777777777777778,
              "#fb9f3a"
             ],
             [
              0.8888888888888888,
              "#fdca26"
             ],
             [
              1,
              "#f0f921"
             ]
            ],
            "type": "histogram2dcontour"
           }
          ],
          "mesh3d": [
           {
            "colorbar": {
             "outlinewidth": 0,
             "ticks": ""
            },
            "type": "mesh3d"
           }
          ],
          "parcoords": [
           {
            "line": {
             "colorbar": {
              "outlinewidth": 0,
              "ticks": ""
             }
            },
            "type": "parcoords"
           }
          ],
          "pie": [
           {
            "automargin": true,
            "type": "pie"
           }
          ],
          "scatter": [
           {
            "fillpattern": {
             "fillmode": "overlay",
             "size": 10,
             "solidity": 0.2
            },
            "type": "scatter"
           }
          ],
          "scatter3d": [
           {
            "line": {
             "colorbar": {
              "outlinewidth": 0,
              "ticks": ""
             }
            },
            "marker": {
             "colorbar": {
              "outlinewidth": 0,
              "ticks": ""
             }
            },
            "type": "scatter3d"
           }
          ],
          "scattercarpet": [
           {
            "marker": {
             "colorbar": {
              "outlinewidth": 0,
              "ticks": ""
             }
            },
            "type": "scattercarpet"
           }
          ],
          "scattergeo": [
           {
            "marker": {
             "colorbar": {
              "outlinewidth": 0,
              "ticks": ""
             }
            },
            "type": "scattergeo"
           }
          ],
          "scattergl": [
           {
            "marker": {
             "colorbar": {
              "outlinewidth": 0,
              "ticks": ""
             }
            },
            "type": "scattergl"
           }
          ],
          "scattermapbox": [
           {
            "marker": {
             "colorbar": {
              "outlinewidth": 0,
              "ticks": ""
             }
            },
            "type": "scattermapbox"
           }
          ],
          "scatterpolar": [
           {
            "marker": {
             "colorbar": {
              "outlinewidth": 0,
              "ticks": ""
             }
            },
            "type": "scatterpolar"
           }
          ],
          "scatterpolargl": [
           {
            "marker": {
             "colorbar": {
              "outlinewidth": 0,
              "ticks": ""
             }
            },
            "type": "scatterpolargl"
           }
          ],
          "scatterternary": [
           {
            "marker": {
             "colorbar": {
              "outlinewidth": 0,
              "ticks": ""
             }
            },
            "type": "scatterternary"
           }
          ],
          "surface": [
           {
            "colorbar": {
             "outlinewidth": 0,
             "ticks": ""
            },
            "colorscale": [
             [
              0,
              "#0d0887"
             ],
             [
              0.1111111111111111,
              "#46039f"
             ],
             [
              0.2222222222222222,
              "#7201a8"
             ],
             [
              0.3333333333333333,
              "#9c179e"
             ],
             [
              0.4444444444444444,
              "#bd3786"
             ],
             [
              0.5555555555555556,
              "#d8576b"
             ],
             [
              0.6666666666666666,
              "#ed7953"
             ],
             [
              0.7777777777777778,
              "#fb9f3a"
             ],
             [
              0.8888888888888888,
              "#fdca26"
             ],
             [
              1,
              "#f0f921"
             ]
            ],
            "type": "surface"
           }
          ],
          "table": [
           {
            "cells": {
             "fill": {
              "color": "#EBF0F8"
             },
             "line": {
              "color": "white"
             }
            },
            "header": {
             "fill": {
              "color": "#C8D4E3"
             },
             "line": {
              "color": "white"
             }
            },
            "type": "table"
           }
          ]
         },
         "layout": {
          "annotationdefaults": {
           "arrowcolor": "#2a3f5f",
           "arrowhead": 0,
           "arrowwidth": 1
          },
          "autotypenumbers": "strict",
          "coloraxis": {
           "colorbar": {
            "outlinewidth": 0,
            "ticks": ""
           }
          },
          "colorscale": {
           "diverging": [
            [
             0,
             "#8e0152"
            ],
            [
             0.1,
             "#c51b7d"
            ],
            [
             0.2,
             "#de77ae"
            ],
            [
             0.3,
             "#f1b6da"
            ],
            [
             0.4,
             "#fde0ef"
            ],
            [
             0.5,
             "#f7f7f7"
            ],
            [
             0.6,
             "#e6f5d0"
            ],
            [
             0.7,
             "#b8e186"
            ],
            [
             0.8,
             "#7fbc41"
            ],
            [
             0.9,
             "#4d9221"
            ],
            [
             1,
             "#276419"
            ]
           ],
           "sequential": [
            [
             0,
             "#0d0887"
            ],
            [
             0.1111111111111111,
             "#46039f"
            ],
            [
             0.2222222222222222,
             "#7201a8"
            ],
            [
             0.3333333333333333,
             "#9c179e"
            ],
            [
             0.4444444444444444,
             "#bd3786"
            ],
            [
             0.5555555555555556,
             "#d8576b"
            ],
            [
             0.6666666666666666,
             "#ed7953"
            ],
            [
             0.7777777777777778,
             "#fb9f3a"
            ],
            [
             0.8888888888888888,
             "#fdca26"
            ],
            [
             1,
             "#f0f921"
            ]
           ],
           "sequentialminus": [
            [
             0,
             "#0d0887"
            ],
            [
             0.1111111111111111,
             "#46039f"
            ],
            [
             0.2222222222222222,
             "#7201a8"
            ],
            [
             0.3333333333333333,
             "#9c179e"
            ],
            [
             0.4444444444444444,
             "#bd3786"
            ],
            [
             0.5555555555555556,
             "#d8576b"
            ],
            [
             0.6666666666666666,
             "#ed7953"
            ],
            [
             0.7777777777777778,
             "#fb9f3a"
            ],
            [
             0.8888888888888888,
             "#fdca26"
            ],
            [
             1,
             "#f0f921"
            ]
           ]
          },
          "colorway": [
           "#636efa",
           "#EF553B",
           "#00cc96",
           "#ab63fa",
           "#FFA15A",
           "#19d3f3",
           "#FF6692",
           "#B6E880",
           "#FF97FF",
           "#FECB52"
          ],
          "font": {
           "color": "#2a3f5f"
          },
          "geo": {
           "bgcolor": "white",
           "lakecolor": "white",
           "landcolor": "#E5ECF6",
           "showlakes": true,
           "showland": true,
           "subunitcolor": "white"
          },
          "hoverlabel": {
           "align": "left"
          },
          "hovermode": "closest",
          "mapbox": {
           "style": "light"
          },
          "paper_bgcolor": "white",
          "plot_bgcolor": "#E5ECF6",
          "polar": {
           "angularaxis": {
            "gridcolor": "white",
            "linecolor": "white",
            "ticks": ""
           },
           "bgcolor": "#E5ECF6",
           "radialaxis": {
            "gridcolor": "white",
            "linecolor": "white",
            "ticks": ""
           }
          },
          "scene": {
           "xaxis": {
            "backgroundcolor": "#E5ECF6",
            "gridcolor": "white",
            "gridwidth": 2,
            "linecolor": "white",
            "showbackground": true,
            "ticks": "",
            "zerolinecolor": "white"
           },
           "yaxis": {
            "backgroundcolor": "#E5ECF6",
            "gridcolor": "white",
            "gridwidth": 2,
            "linecolor": "white",
            "showbackground": true,
            "ticks": "",
            "zerolinecolor": "white"
           },
           "zaxis": {
            "backgroundcolor": "#E5ECF6",
            "gridcolor": "white",
            "gridwidth": 2,
            "linecolor": "white",
            "showbackground": true,
            "ticks": "",
            "zerolinecolor": "white"
           }
          },
          "shapedefaults": {
           "line": {
            "color": "#2a3f5f"
           }
          },
          "ternary": {
           "aaxis": {
            "gridcolor": "white",
            "linecolor": "white",
            "ticks": ""
           },
           "baxis": {
            "gridcolor": "white",
            "linecolor": "white",
            "ticks": ""
           },
           "bgcolor": "#E5ECF6",
           "caxis": {
            "gridcolor": "white",
            "linecolor": "white",
            "ticks": ""
           }
          },
          "title": {
           "x": 0.05
          },
          "xaxis": {
           "automargin": true,
           "gridcolor": "white",
           "linecolor": "white",
           "ticks": "",
           "title": {
            "standoff": 15
           },
           "zerolinecolor": "white",
           "zerolinewidth": 2
          },
          "yaxis": {
           "automargin": true,
           "gridcolor": "white",
           "linecolor": "white",
           "ticks": "",
           "title": {
            "standoff": 15
           },
           "zerolinecolor": "white",
           "zerolinewidth": 2
          }
         }
        },
        "title": {
         "text": "Year Wise Trend"
        },
        "width": 800,
        "xaxis": {
         "anchor": "y",
         "domain": [
          0,
          1
         ],
         "title": {
          "text": "Year"
         }
        },
        "yaxis": {
         "anchor": "x",
         "domain": [
          0,
          1
         ],
         "title": {
          "text": "Count"
         }
        }
       }
      },
      "text/html": [
       "<div>                            <div id=\"f26b5157-e323-4346-9ce3-db980dcd8e29\" class=\"plotly-graph-div\" style=\"height:450px; width:800px;\"></div>            <script type=\"text/javascript\">                require([\"plotly\"], function(Plotly) {                    window.PLOTLYENV=window.PLOTLYENV || {};                                    if (document.getElementById(\"f26b5157-e323-4346-9ce3-db980dcd8e29\")) {                    Plotly.newPlot(                        \"f26b5157-e323-4346-9ce3-db980dcd8e29\",                        [{\"hovertemplate\":\"Year=%{x}<br>Count=%{y}<extra></extra>\",\"legendgroup\":\"\",\"line\":{\"color\":\"#636efa\",\"dash\":\"solid\"},\"marker\":{\"symbol\":\"circle\"},\"mode\":\"markers+lines\",\"name\":\"\",\"orientation\":\"v\",\"showlegend\":false,\"x\":[2011,2012,2013,2014,2015,2016,2017,2018,2019,2020],\"xaxis\":\"x\",\"y\":[58842,52957,43863,40028,42297,41046,45277,42373,40011,35543],\"yaxis\":\"y\",\"type\":\"scatter\"}],                        {\"template\":{\"data\":{\"histogram2dcontour\":[{\"type\":\"histogram2dcontour\",\"colorbar\":{\"outlinewidth\":0,\"ticks\":\"\"},\"colorscale\":[[0.0,\"#0d0887\"],[0.1111111111111111,\"#46039f\"],[0.2222222222222222,\"#7201a8\"],[0.3333333333333333,\"#9c179e\"],[0.4444444444444444,\"#bd3786\"],[0.5555555555555556,\"#d8576b\"],[0.6666666666666666,\"#ed7953\"],[0.7777777777777778,\"#fb9f3a\"],[0.8888888888888888,\"#fdca26\"],[1.0,\"#f0f921\"]]}],\"choropleth\":[{\"type\":\"choropleth\",\"colorbar\":{\"outlinewidth\":0,\"ticks\":\"\"}}],\"histogram2d\":[{\"type\":\"histogram2d\",\"colorbar\":{\"outlinewidth\":0,\"ticks\":\"\"},\"colorscale\":[[0.0,\"#0d0887\"],[0.1111111111111111,\"#46039f\"],[0.2222222222222222,\"#7201a8\"],[0.3333333333333333,\"#9c179e\"],[0.4444444444444444,\"#bd3786\"],[0.5555555555555556,\"#d8576b\"],[0.6666666666666666,\"#ed7953\"],[0.7777777777777778,\"#fb9f3a\"],[0.8888888888888888,\"#fdca26\"],[1.0,\"#f0f921\"]]}],\"heatmap\":[{\"type\":\"heatmap\",\"colorbar\":{\"outlinewidth\":0,\"ticks\":\"\"},\"colorscale\":[[0.0,\"#0d0887\"],[0.1111111111111111,\"#46039f\"],[0.2222222222222222,\"#7201a8\"],[0.3333333333333333,\"#9c179e\"],[0.4444444444444444,\"#bd3786\"],[0.5555555555555556,\"#d8576b\"],[0.6666666666666666,\"#ed7953\"],[0.7777777777777778,\"#fb9f3a\"],[0.8888888888888888,\"#fdca26\"],[1.0,\"#f0f921\"]]}],\"heatmapgl\":[{\"type\":\"heatmapgl\",\"colorbar\":{\"outlinewidth\":0,\"ticks\":\"\"},\"colorscale\":[[0.0,\"#0d0887\"],[0.1111111111111111,\"#46039f\"],[0.2222222222222222,\"#7201a8\"],[0.3333333333333333,\"#9c179e\"],[0.4444444444444444,\"#bd3786\"],[0.5555555555555556,\"#d8576b\"],[0.6666666666666666,\"#ed7953\"],[0.7777777777777778,\"#fb9f3a\"],[0.8888888888888888,\"#fdca26\"],[1.0,\"#f0f921\"]]}],\"contourcarpet\":[{\"type\":\"contourcarpet\",\"colorbar\":{\"outlinewidth\":0,\"ticks\":\"\"}}],\"contour\":[{\"type\":\"contour\",\"colorbar\":{\"outlinewidth\":0,\"ticks\":\"\"},\"colorscale\":[[0.0,\"#0d0887\"],[0.1111111111111111,\"#46039f\"],[0.2222222222222222,\"#7201a8\"],[0.3333333333333333,\"#9c179e\"],[0.4444444444444444,\"#bd3786\"],[0.5555555555555556,\"#d8576b\"],[0.6666666666666666,\"#ed7953\"],[0.7777777777777778,\"#fb9f3a\"],[0.8888888888888888,\"#fdca26\"],[1.0,\"#f0f921\"]]}],\"surface\":[{\"type\":\"surface\",\"colorbar\":{\"outlinewidth\":0,\"ticks\":\"\"},\"colorscale\":[[0.0,\"#0d0887\"],[0.1111111111111111,\"#46039f\"],[0.2222222222222222,\"#7201a8\"],[0.3333333333333333,\"#9c179e\"],[0.4444444444444444,\"#bd3786\"],[0.5555555555555556,\"#d8576b\"],[0.6666666666666666,\"#ed7953\"],[0.7777777777777778,\"#fb9f3a\"],[0.8888888888888888,\"#fdca26\"],[1.0,\"#f0f921\"]]}],\"mesh3d\":[{\"type\":\"mesh3d\",\"colorbar\":{\"outlinewidth\":0,\"ticks\":\"\"}}],\"scatter\":[{\"fillpattern\":{\"fillmode\":\"overlay\",\"size\":10,\"solidity\":0.2},\"type\":\"scatter\"}],\"parcoords\":[{\"type\":\"parcoords\",\"line\":{\"colorbar\":{\"outlinewidth\":0,\"ticks\":\"\"}}}],\"scatterpolargl\":[{\"type\":\"scatterpolargl\",\"marker\":{\"colorbar\":{\"outlinewidth\":0,\"ticks\":\"\"}}}],\"bar\":[{\"error_x\":{\"color\":\"#2a3f5f\"},\"error_y\":{\"color\":\"#2a3f5f\"},\"marker\":{\"line\":{\"color\":\"#E5ECF6\",\"width\":0.5},\"pattern\":{\"fillmode\":\"overlay\",\"size\":10,\"solidity\":0.2}},\"type\":\"bar\"}],\"scattergeo\":[{\"type\":\"scattergeo\",\"marker\":{\"colorbar\":{\"outlinewidth\":0,\"ticks\":\"\"}}}],\"scatterpolar\":[{\"type\":\"scatterpolar\",\"marker\":{\"colorbar\":{\"outlinewidth\":0,\"ticks\":\"\"}}}],\"histogram\":[{\"marker\":{\"pattern\":{\"fillmode\":\"overlay\",\"size\":10,\"solidity\":0.2}},\"type\":\"histogram\"}],\"scattergl\":[{\"type\":\"scattergl\",\"marker\":{\"colorbar\":{\"outlinewidth\":0,\"ticks\":\"\"}}}],\"scatter3d\":[{\"type\":\"scatter3d\",\"line\":{\"colorbar\":{\"outlinewidth\":0,\"ticks\":\"\"}},\"marker\":{\"colorbar\":{\"outlinewidth\":0,\"ticks\":\"\"}}}],\"scattermapbox\":[{\"type\":\"scattermapbox\",\"marker\":{\"colorbar\":{\"outlinewidth\":0,\"ticks\":\"\"}}}],\"scatterternary\":[{\"type\":\"scatterternary\",\"marker\":{\"colorbar\":{\"outlinewidth\":0,\"ticks\":\"\"}}}],\"scattercarpet\":[{\"type\":\"scattercarpet\",\"marker\":{\"colorbar\":{\"outlinewidth\":0,\"ticks\":\"\"}}}],\"carpet\":[{\"aaxis\":{\"endlinecolor\":\"#2a3f5f\",\"gridcolor\":\"white\",\"linecolor\":\"white\",\"minorgridcolor\":\"white\",\"startlinecolor\":\"#2a3f5f\"},\"baxis\":{\"endlinecolor\":\"#2a3f5f\",\"gridcolor\":\"white\",\"linecolor\":\"white\",\"minorgridcolor\":\"white\",\"startlinecolor\":\"#2a3f5f\"},\"type\":\"carpet\"}],\"table\":[{\"cells\":{\"fill\":{\"color\":\"#EBF0F8\"},\"line\":{\"color\":\"white\"}},\"header\":{\"fill\":{\"color\":\"#C8D4E3\"},\"line\":{\"color\":\"white\"}},\"type\":\"table\"}],\"barpolar\":[{\"marker\":{\"line\":{\"color\":\"#E5ECF6\",\"width\":0.5},\"pattern\":{\"fillmode\":\"overlay\",\"size\":10,\"solidity\":0.2}},\"type\":\"barpolar\"}],\"pie\":[{\"automargin\":true,\"type\":\"pie\"}]},\"layout\":{\"autotypenumbers\":\"strict\",\"colorway\":[\"#636efa\",\"#EF553B\",\"#00cc96\",\"#ab63fa\",\"#FFA15A\",\"#19d3f3\",\"#FF6692\",\"#B6E880\",\"#FF97FF\",\"#FECB52\"],\"font\":{\"color\":\"#2a3f5f\"},\"hovermode\":\"closest\",\"hoverlabel\":{\"align\":\"left\"},\"paper_bgcolor\":\"white\",\"plot_bgcolor\":\"#E5ECF6\",\"polar\":{\"bgcolor\":\"#E5ECF6\",\"angularaxis\":{\"gridcolor\":\"white\",\"linecolor\":\"white\",\"ticks\":\"\"},\"radialaxis\":{\"gridcolor\":\"white\",\"linecolor\":\"white\",\"ticks\":\"\"}},\"ternary\":{\"bgcolor\":\"#E5ECF6\",\"aaxis\":{\"gridcolor\":\"white\",\"linecolor\":\"white\",\"ticks\":\"\"},\"baxis\":{\"gridcolor\":\"white\",\"linecolor\":\"white\",\"ticks\":\"\"},\"caxis\":{\"gridcolor\":\"white\",\"linecolor\":\"white\",\"ticks\":\"\"}},\"coloraxis\":{\"colorbar\":{\"outlinewidth\":0,\"ticks\":\"\"}},\"colorscale\":{\"sequential\":[[0.0,\"#0d0887\"],[0.1111111111111111,\"#46039f\"],[0.2222222222222222,\"#7201a8\"],[0.3333333333333333,\"#9c179e\"],[0.4444444444444444,\"#bd3786\"],[0.5555555555555556,\"#d8576b\"],[0.6666666666666666,\"#ed7953\"],[0.7777777777777778,\"#fb9f3a\"],[0.8888888888888888,\"#fdca26\"],[1.0,\"#f0f921\"]],\"sequentialminus\":[[0.0,\"#0d0887\"],[0.1111111111111111,\"#46039f\"],[0.2222222222222222,\"#7201a8\"],[0.3333333333333333,\"#9c179e\"],[0.4444444444444444,\"#bd3786\"],[0.5555555555555556,\"#d8576b\"],[0.6666666666666666,\"#ed7953\"],[0.7777777777777778,\"#fb9f3a\"],[0.8888888888888888,\"#fdca26\"],[1.0,\"#f0f921\"]],\"diverging\":[[0,\"#8e0152\"],[0.1,\"#c51b7d\"],[0.2,\"#de77ae\"],[0.3,\"#f1b6da\"],[0.4,\"#fde0ef\"],[0.5,\"#f7f7f7\"],[0.6,\"#e6f5d0\"],[0.7,\"#b8e186\"],[0.8,\"#7fbc41\"],[0.9,\"#4d9221\"],[1,\"#276419\"]]},\"xaxis\":{\"gridcolor\":\"white\",\"linecolor\":\"white\",\"ticks\":\"\",\"title\":{\"standoff\":15},\"zerolinecolor\":\"white\",\"automargin\":true,\"zerolinewidth\":2},\"yaxis\":{\"gridcolor\":\"white\",\"linecolor\":\"white\",\"ticks\":\"\",\"title\":{\"standoff\":15},\"zerolinecolor\":\"white\",\"automargin\":true,\"zerolinewidth\":2},\"scene\":{\"xaxis\":{\"backgroundcolor\":\"#E5ECF6\",\"gridcolor\":\"white\",\"linecolor\":\"white\",\"showbackground\":true,\"ticks\":\"\",\"zerolinecolor\":\"white\",\"gridwidth\":2},\"yaxis\":{\"backgroundcolor\":\"#E5ECF6\",\"gridcolor\":\"white\",\"linecolor\":\"white\",\"showbackground\":true,\"ticks\":\"\",\"zerolinecolor\":\"white\",\"gridwidth\":2},\"zaxis\":{\"backgroundcolor\":\"#E5ECF6\",\"gridcolor\":\"white\",\"linecolor\":\"white\",\"showbackground\":true,\"ticks\":\"\",\"zerolinecolor\":\"white\",\"gridwidth\":2}},\"shapedefaults\":{\"line\":{\"color\":\"#2a3f5f\"}},\"annotationdefaults\":{\"arrowcolor\":\"#2a3f5f\",\"arrowhead\":0,\"arrowwidth\":1},\"geo\":{\"bgcolor\":\"white\",\"landcolor\":\"#E5ECF6\",\"subunitcolor\":\"white\",\"showland\":true,\"showlakes\":true,\"lakecolor\":\"white\"},\"title\":{\"x\":0.05},\"mapbox\":{\"style\":\"light\"}}},\"xaxis\":{\"anchor\":\"y\",\"domain\":[0.0,1.0],\"title\":{\"text\":\"Year\"}},\"yaxis\":{\"anchor\":\"x\",\"domain\":[0.0,1.0],\"title\":{\"text\":\"Count\"}},\"legend\":{\"tracegroupgap\":0},\"title\":{\"text\":\"Year Wise Trend\"},\"height\":450,\"width\":800},                        {\"responsive\": true}                    ).then(function(){\n",
       "                            \n",
       "var gd = document.getElementById('f26b5157-e323-4346-9ce3-db980dcd8e29');\n",
       "var x = new MutationObserver(function (mutations, observer) {{\n",
       "        var display = window.getComputedStyle(gd).display;\n",
       "        if (!display || display === 'none') {{\n",
       "            console.log([gd, 'removed!']);\n",
       "            Plotly.purge(gd);\n",
       "            observer.disconnect();\n",
       "        }}\n",
       "}});\n",
       "\n",
       "// Listen for the removal of the full notebook cells\n",
       "var notebookContainer = gd.closest('#notebook-container');\n",
       "if (notebookContainer) {{\n",
       "    x.observe(notebookContainer, {childList: true});\n",
       "}}\n",
       "\n",
       "// Listen for the clearing of the current output cell\n",
       "var outputEl = gd.closest('.output');\n",
       "if (outputEl) {{\n",
       "    x.observe(outputEl, {childList: true});\n",
       "}}\n",
       "\n",
       "                        })                };                });            </script>        </div>"
      ]
     },
     "metadata": {},
     "output_type": "display_data"
    }
   ],
   "source": [
    "yearly_count = crime_df2.groupby(by=['YEAR']).count()['MONTH']\n",
    "\n",
    "fig = px.line(data_frame=yearly_count,\n",
    "              x=yearly_count.keys()[:-1],\n",
    "              y=yearly_count.values[:-1],\n",
    "              height=450,\n",
    "              width=800,\n",
    "              labels={'x': 'Year',\n",
    "                      'y': 'Count'},\n",
    "              title='Year Wise Trend',\n",
    "              markers=True)\n",
    "fig.show()"
   ]
  },
  {
   "cell_type": "markdown",
   "id": "82207f1d",
   "metadata": {},
   "source": [
    "This line chart we plotted shows us a downward trend in overall number of crimes committed, let's see if this is the same case for individual category of crime.<br><br>\n",
    "For that we'll need to create a pivot table which will help us to visualize it more clearly."
   ]
  },
  {
   "cell_type": "code",
   "execution_count": 30,
   "id": "ff204fcd",
   "metadata": {},
   "outputs": [
    {
     "data": {
      "text/html": [
       "<div>\n",
       "<style scoped>\n",
       "    .dataframe tbody tr th:only-of-type {\n",
       "        vertical-align: middle;\n",
       "    }\n",
       "\n",
       "    .dataframe tbody tr th {\n",
       "        vertical-align: top;\n",
       "    }\n",
       "\n",
       "    .dataframe thead th {\n",
       "        text-align: right;\n",
       "    }\n",
       "</style>\n",
       "<table border=\"1\" class=\"dataframe\">\n",
       "  <thead>\n",
       "    <tr style=\"text-align: right;\">\n",
       "      <th>CRIME</th>\n",
       "      <th>ASSAULT</th>\n",
       "      <th>BATTERY</th>\n",
       "      <th>BUSINESS ROBBERY</th>\n",
       "      <th>CRIMINAL DAMAGE TO PROPERTY</th>\n",
       "      <th>FIREARM</th>\n",
       "      <th>HOMICIDE</th>\n",
       "      <th>INDIVIDUAL ROBBERY</th>\n",
       "      <th>NARCOTICS</th>\n",
       "      <th>NON-RESIDENTIAL BURGLARY</th>\n",
       "      <th>NUISANCE</th>\n",
       "      <th>OTHER</th>\n",
       "      <th>RESIDENTIAL BURGLARY</th>\n",
       "      <th>THEFT</th>\n",
       "      <th>VEHICLE BURGLARY</th>\n",
       "      <th>VICE</th>\n",
       "    </tr>\n",
       "    <tr>\n",
       "      <th>YEAR</th>\n",
       "      <th></th>\n",
       "      <th></th>\n",
       "      <th></th>\n",
       "      <th></th>\n",
       "      <th></th>\n",
       "      <th></th>\n",
       "      <th></th>\n",
       "      <th></th>\n",
       "      <th></th>\n",
       "      <th></th>\n",
       "      <th></th>\n",
       "      <th></th>\n",
       "      <th></th>\n",
       "      <th></th>\n",
       "      <th></th>\n",
       "    </tr>\n",
       "  </thead>\n",
       "  <tbody>\n",
       "    <tr>\n",
       "      <th>2011</th>\n",
       "      <td>2090</td>\n",
       "      <td>5317</td>\n",
       "      <td>98</td>\n",
       "      <td>4167</td>\n",
       "      <td>1343</td>\n",
       "      <td>400</td>\n",
       "      <td>864</td>\n",
       "      <td>5296</td>\n",
       "      <td>1274</td>\n",
       "      <td>2890</td>\n",
       "      <td>18721</td>\n",
       "      <td>3569</td>\n",
       "      <td>9888</td>\n",
       "      <td>2637</td>\n",
       "      <td>288</td>\n",
       "    </tr>\n",
       "    <tr>\n",
       "      <th>2012</th>\n",
       "      <td>1974</td>\n",
       "      <td>5087</td>\n",
       "      <td>116</td>\n",
       "      <td>4121</td>\n",
       "      <td>1297</td>\n",
       "      <td>359</td>\n",
       "      <td>957</td>\n",
       "      <td>5004</td>\n",
       "      <td>1365</td>\n",
       "      <td>1774</td>\n",
       "      <td>15690</td>\n",
       "      <td>2767</td>\n",
       "      <td>9688</td>\n",
       "      <td>2509</td>\n",
       "      <td>249</td>\n",
       "    </tr>\n",
       "    <tr>\n",
       "      <th>2013</th>\n",
       "      <td>1740</td>\n",
       "      <td>4124</td>\n",
       "      <td>116</td>\n",
       "      <td>3393</td>\n",
       "      <td>1069</td>\n",
       "      <td>278</td>\n",
       "      <td>736</td>\n",
       "      <td>3793</td>\n",
       "      <td>1215</td>\n",
       "      <td>1167</td>\n",
       "      <td>13195</td>\n",
       "      <td>1895</td>\n",
       "      <td>8555</td>\n",
       "      <td>2431</td>\n",
       "      <td>156</td>\n",
       "    </tr>\n",
       "    <tr>\n",
       "      <th>2014</th>\n",
       "      <td>1432</td>\n",
       "      <td>3667</td>\n",
       "      <td>112</td>\n",
       "      <td>2861</td>\n",
       "      <td>1078</td>\n",
       "      <td>308</td>\n",
       "      <td>660</td>\n",
       "      <td>3906</td>\n",
       "      <td>1188</td>\n",
       "      <td>902</td>\n",
       "      <td>11813</td>\n",
       "      <td>1380</td>\n",
       "      <td>8627</td>\n",
       "      <td>1947</td>\n",
       "      <td>147</td>\n",
       "    </tr>\n",
       "    <tr>\n",
       "      <th>2015</th>\n",
       "      <td>1623</td>\n",
       "      <td>3909</td>\n",
       "      <td>104</td>\n",
       "      <td>3240</td>\n",
       "      <td>1245</td>\n",
       "      <td>320</td>\n",
       "      <td>573</td>\n",
       "      <td>4209</td>\n",
       "      <td>1188</td>\n",
       "      <td>936</td>\n",
       "      <td>12172</td>\n",
       "      <td>1133</td>\n",
       "      <td>9020</td>\n",
       "      <td>2484</td>\n",
       "      <td>141</td>\n",
       "    </tr>\n",
       "    <tr>\n",
       "      <th>2016</th>\n",
       "      <td>1746</td>\n",
       "      <td>3727</td>\n",
       "      <td>107</td>\n",
       "      <td>3450</td>\n",
       "      <td>1598</td>\n",
       "      <td>361</td>\n",
       "      <td>561</td>\n",
       "      <td>3600</td>\n",
       "      <td>1294</td>\n",
       "      <td>809</td>\n",
       "      <td>11294</td>\n",
       "      <td>1060</td>\n",
       "      <td>8973</td>\n",
       "      <td>2317</td>\n",
       "      <td>149</td>\n",
       "    </tr>\n",
       "    <tr>\n",
       "      <th>2017</th>\n",
       "      <td>2092</td>\n",
       "      <td>3802</td>\n",
       "      <td>80</td>\n",
       "      <td>3443</td>\n",
       "      <td>2012</td>\n",
       "      <td>472</td>\n",
       "      <td>730</td>\n",
       "      <td>3630</td>\n",
       "      <td>1870</td>\n",
       "      <td>784</td>\n",
       "      <td>11480</td>\n",
       "      <td>1019</td>\n",
       "      <td>10912</td>\n",
       "      <td>2821</td>\n",
       "      <td>130</td>\n",
       "    </tr>\n",
       "    <tr>\n",
       "      <th>2018</th>\n",
       "      <td>2058</td>\n",
       "      <td>3624</td>\n",
       "      <td>57</td>\n",
       "      <td>3342</td>\n",
       "      <td>1820</td>\n",
       "      <td>353</td>\n",
       "      <td>614</td>\n",
       "      <td>3893</td>\n",
       "      <td>1995</td>\n",
       "      <td>618</td>\n",
       "      <td>10002</td>\n",
       "      <td>906</td>\n",
       "      <td>10239</td>\n",
       "      <td>2699</td>\n",
       "      <td>153</td>\n",
       "    </tr>\n",
       "    <tr>\n",
       "      <th>2019</th>\n",
       "      <td>2138</td>\n",
       "      <td>3487</td>\n",
       "      <td>48</td>\n",
       "      <td>3149</td>\n",
       "      <td>1762</td>\n",
       "      <td>401</td>\n",
       "      <td>544</td>\n",
       "      <td>3123</td>\n",
       "      <td>1781</td>\n",
       "      <td>610</td>\n",
       "      <td>9225</td>\n",
       "      <td>639</td>\n",
       "      <td>10483</td>\n",
       "      <td>2446</td>\n",
       "      <td>175</td>\n",
       "    </tr>\n",
       "    <tr>\n",
       "      <th>2020</th>\n",
       "      <td>2278</td>\n",
       "      <td>3159</td>\n",
       "      <td>47</td>\n",
       "      <td>3409</td>\n",
       "      <td>2069</td>\n",
       "      <td>551</td>\n",
       "      <td>412</td>\n",
       "      <td>2649</td>\n",
       "      <td>1786</td>\n",
       "      <td>556</td>\n",
       "      <td>6169</td>\n",
       "      <td>474</td>\n",
       "      <td>9765</td>\n",
       "      <td>2057</td>\n",
       "      <td>162</td>\n",
       "    </tr>\n",
       "  </tbody>\n",
       "</table>\n",
       "</div>"
      ],
      "text/plain": [
       "CRIME  ASSAULT  BATTERY  BUSINESS ROBBERY  CRIMINAL DAMAGE TO PROPERTY  \\\n",
       "YEAR                                                                     \n",
       "2011      2090     5317                98                         4167   \n",
       "2012      1974     5087               116                         4121   \n",
       "2013      1740     4124               116                         3393   \n",
       "2014      1432     3667               112                         2861   \n",
       "2015      1623     3909               104                         3240   \n",
       "2016      1746     3727               107                         3450   \n",
       "2017      2092     3802                80                         3443   \n",
       "2018      2058     3624                57                         3342   \n",
       "2019      2138     3487                48                         3149   \n",
       "2020      2278     3159                47                         3409   \n",
       "\n",
       "CRIME  FIREARM  HOMICIDE  INDIVIDUAL ROBBERY  NARCOTICS  \\\n",
       "YEAR                                                      \n",
       "2011      1343       400                 864       5296   \n",
       "2012      1297       359                 957       5004   \n",
       "2013      1069       278                 736       3793   \n",
       "2014      1078       308                 660       3906   \n",
       "2015      1245       320                 573       4209   \n",
       "2016      1598       361                 561       3600   \n",
       "2017      2012       472                 730       3630   \n",
       "2018      1820       353                 614       3893   \n",
       "2019      1762       401                 544       3123   \n",
       "2020      2069       551                 412       2649   \n",
       "\n",
       "CRIME  NON-RESIDENTIAL BURGLARY  NUISANCE  OTHER  RESIDENTIAL BURGLARY  THEFT  \\\n",
       "YEAR                                                                            \n",
       "2011                       1274      2890  18721                  3569   9888   \n",
       "2012                       1365      1774  15690                  2767   9688   \n",
       "2013                       1215      1167  13195                  1895   8555   \n",
       "2014                       1188       902  11813                  1380   8627   \n",
       "2015                       1188       936  12172                  1133   9020   \n",
       "2016                       1294       809  11294                  1060   8973   \n",
       "2017                       1870       784  11480                  1019  10912   \n",
       "2018                       1995       618  10002                   906  10239   \n",
       "2019                       1781       610   9225                   639  10483   \n",
       "2020                       1786       556   6169                   474   9765   \n",
       "\n",
       "CRIME  VEHICLE BURGLARY  VICE  \n",
       "YEAR                           \n",
       "2011               2637   288  \n",
       "2012               2509   249  \n",
       "2013               2431   156  \n",
       "2014               1947   147  \n",
       "2015               2484   141  \n",
       "2016               2317   149  \n",
       "2017               2821   130  \n",
       "2018               2699   153  \n",
       "2019               2446   175  \n",
       "2020               2057   162  "
      ]
     },
     "execution_count": 30,
     "metadata": {},
     "output_type": "execute_result"
    }
   ],
   "source": [
    "df = crime_df2[crime_df2['YEAR'] != 2021]\n",
    "pivot_table = pd.pivot_table(data=df,\n",
    "                             index='YEAR',\n",
    "                             values='MONTH',\n",
    "                             columns='CRIME',\n",
    "                             aggfunc=np.count_nonzero)\n",
    "pivot_table"
   ]
  },
  {
   "cell_type": "code",
   "execution_count": 31,
   "id": "450aa3c9",
   "metadata": {},
   "outputs": [
    {
     "data": {
      "application/vnd.plotly.v1+json": {
       "config": {
        "plotlyServerURL": "https://plot.ly"
       },
       "data": [
        {
         "hovertemplate": "CRIME=ASSAULT<br>Year=%{x}<br>Crime Count=%{y}<extra></extra>",
         "legendgroup": "ASSAULT",
         "line": {
          "color": "#636efa",
          "dash": "solid"
         },
         "marker": {
          "symbol": "circle"
         },
         "mode": "lines+markers",
         "name": "ASSAULT",
         "orientation": "v",
         "showlegend": true,
         "type": "scatter",
         "x": [
          2011,
          2012,
          2013,
          2014,
          2015,
          2016,
          2017,
          2018,
          2019,
          2020
         ],
         "xaxis": "x",
         "y": [
          2090,
          1974,
          1740,
          1432,
          1623,
          1746,
          2092,
          2058,
          2138,
          2278
         ],
         "yaxis": "y"
        },
        {
         "hovertemplate": "CRIME=BATTERY<br>Year=%{x}<br>Crime Count=%{y}<extra></extra>",
         "legendgroup": "BATTERY",
         "line": {
          "color": "#EF553B",
          "dash": "solid"
         },
         "marker": {
          "symbol": "circle"
         },
         "mode": "lines+markers",
         "name": "BATTERY",
         "orientation": "v",
         "showlegend": true,
         "type": "scatter",
         "x": [
          2011,
          2012,
          2013,
          2014,
          2015,
          2016,
          2017,
          2018,
          2019,
          2020
         ],
         "xaxis": "x",
         "y": [
          5317,
          5087,
          4124,
          3667,
          3909,
          3727,
          3802,
          3624,
          3487,
          3159
         ],
         "yaxis": "y"
        },
        {
         "hovertemplate": "CRIME=BUSINESS ROBBERY<br>Year=%{x}<br>Crime Count=%{y}<extra></extra>",
         "legendgroup": "BUSINESS ROBBERY",
         "line": {
          "color": "#00cc96",
          "dash": "solid"
         },
         "marker": {
          "symbol": "circle"
         },
         "mode": "lines+markers",
         "name": "BUSINESS ROBBERY",
         "orientation": "v",
         "showlegend": true,
         "type": "scatter",
         "x": [
          2011,
          2012,
          2013,
          2014,
          2015,
          2016,
          2017,
          2018,
          2019,
          2020
         ],
         "xaxis": "x",
         "y": [
          98,
          116,
          116,
          112,
          104,
          107,
          80,
          57,
          48,
          47
         ],
         "yaxis": "y"
        },
        {
         "hovertemplate": "CRIME=CRIMINAL DAMAGE TO PROPERTY<br>Year=%{x}<br>Crime Count=%{y}<extra></extra>",
         "legendgroup": "CRIMINAL DAMAGE TO PROPERTY",
         "line": {
          "color": "#ab63fa",
          "dash": "solid"
         },
         "marker": {
          "symbol": "circle"
         },
         "mode": "lines+markers",
         "name": "CRIMINAL DAMAGE TO PROPERTY",
         "orientation": "v",
         "showlegend": true,
         "type": "scatter",
         "x": [
          2011,
          2012,
          2013,
          2014,
          2015,
          2016,
          2017,
          2018,
          2019,
          2020
         ],
         "xaxis": "x",
         "y": [
          4167,
          4121,
          3393,
          2861,
          3240,
          3450,
          3443,
          3342,
          3149,
          3409
         ],
         "yaxis": "y"
        },
        {
         "hovertemplate": "CRIME=FIREARM<br>Year=%{x}<br>Crime Count=%{y}<extra></extra>",
         "legendgroup": "FIREARM",
         "line": {
          "color": "#FFA15A",
          "dash": "solid"
         },
         "marker": {
          "symbol": "circle"
         },
         "mode": "lines+markers",
         "name": "FIREARM",
         "orientation": "v",
         "showlegend": true,
         "type": "scatter",
         "x": [
          2011,
          2012,
          2013,
          2014,
          2015,
          2016,
          2017,
          2018,
          2019,
          2020
         ],
         "xaxis": "x",
         "y": [
          1343,
          1297,
          1069,
          1078,
          1245,
          1598,
          2012,
          1820,
          1762,
          2069
         ],
         "yaxis": "y"
        },
        {
         "hovertemplate": "CRIME=HOMICIDE<br>Year=%{x}<br>Crime Count=%{y}<extra></extra>",
         "legendgroup": "HOMICIDE",
         "line": {
          "color": "#19d3f3",
          "dash": "solid"
         },
         "marker": {
          "symbol": "circle"
         },
         "mode": "lines+markers",
         "name": "HOMICIDE",
         "orientation": "v",
         "showlegend": true,
         "type": "scatter",
         "x": [
          2011,
          2012,
          2013,
          2014,
          2015,
          2016,
          2017,
          2018,
          2019,
          2020
         ],
         "xaxis": "x",
         "y": [
          400,
          359,
          278,
          308,
          320,
          361,
          472,
          353,
          401,
          551
         ],
         "yaxis": "y"
        },
        {
         "hovertemplate": "CRIME=INDIVIDUAL ROBBERY<br>Year=%{x}<br>Crime Count=%{y}<extra></extra>",
         "legendgroup": "INDIVIDUAL ROBBERY",
         "line": {
          "color": "#FF6692",
          "dash": "solid"
         },
         "marker": {
          "symbol": "circle"
         },
         "mode": "lines+markers",
         "name": "INDIVIDUAL ROBBERY",
         "orientation": "v",
         "showlegend": true,
         "type": "scatter",
         "x": [
          2011,
          2012,
          2013,
          2014,
          2015,
          2016,
          2017,
          2018,
          2019,
          2020
         ],
         "xaxis": "x",
         "y": [
          864,
          957,
          736,
          660,
          573,
          561,
          730,
          614,
          544,
          412
         ],
         "yaxis": "y"
        },
        {
         "hovertemplate": "CRIME=NARCOTICS<br>Year=%{x}<br>Crime Count=%{y}<extra></extra>",
         "legendgroup": "NARCOTICS",
         "line": {
          "color": "#B6E880",
          "dash": "solid"
         },
         "marker": {
          "symbol": "circle"
         },
         "mode": "lines+markers",
         "name": "NARCOTICS",
         "orientation": "v",
         "showlegend": true,
         "type": "scatter",
         "x": [
          2011,
          2012,
          2013,
          2014,
          2015,
          2016,
          2017,
          2018,
          2019,
          2020
         ],
         "xaxis": "x",
         "y": [
          5296,
          5004,
          3793,
          3906,
          4209,
          3600,
          3630,
          3893,
          3123,
          2649
         ],
         "yaxis": "y"
        },
        {
         "hovertemplate": "CRIME=NON-RESIDENTIAL BURGLARY<br>Year=%{x}<br>Crime Count=%{y}<extra></extra>",
         "legendgroup": "NON-RESIDENTIAL BURGLARY",
         "line": {
          "color": "#FF97FF",
          "dash": "solid"
         },
         "marker": {
          "symbol": "circle"
         },
         "mode": "lines+markers",
         "name": "NON-RESIDENTIAL BURGLARY",
         "orientation": "v",
         "showlegend": true,
         "type": "scatter",
         "x": [
          2011,
          2012,
          2013,
          2014,
          2015,
          2016,
          2017,
          2018,
          2019,
          2020
         ],
         "xaxis": "x",
         "y": [
          1274,
          1365,
          1215,
          1188,
          1188,
          1294,
          1870,
          1995,
          1781,
          1786
         ],
         "yaxis": "y"
        },
        {
         "hovertemplate": "CRIME=NUISANCE<br>Year=%{x}<br>Crime Count=%{y}<extra></extra>",
         "legendgroup": "NUISANCE",
         "line": {
          "color": "#FECB52",
          "dash": "solid"
         },
         "marker": {
          "symbol": "circle"
         },
         "mode": "lines+markers",
         "name": "NUISANCE",
         "orientation": "v",
         "showlegend": true,
         "type": "scatter",
         "x": [
          2011,
          2012,
          2013,
          2014,
          2015,
          2016,
          2017,
          2018,
          2019,
          2020
         ],
         "xaxis": "x",
         "y": [
          2890,
          1774,
          1167,
          902,
          936,
          809,
          784,
          618,
          610,
          556
         ],
         "yaxis": "y"
        },
        {
         "hovertemplate": "CRIME=OTHER<br>Year=%{x}<br>Crime Count=%{y}<extra></extra>",
         "legendgroup": "OTHER",
         "line": {
          "color": "#636efa",
          "dash": "solid"
         },
         "marker": {
          "symbol": "circle"
         },
         "mode": "lines+markers",
         "name": "OTHER",
         "orientation": "v",
         "showlegend": true,
         "type": "scatter",
         "x": [
          2011,
          2012,
          2013,
          2014,
          2015,
          2016,
          2017,
          2018,
          2019,
          2020
         ],
         "xaxis": "x",
         "y": [
          18721,
          15690,
          13195,
          11813,
          12172,
          11294,
          11480,
          10002,
          9225,
          6169
         ],
         "yaxis": "y"
        },
        {
         "hovertemplate": "CRIME=RESIDENTIAL BURGLARY<br>Year=%{x}<br>Crime Count=%{y}<extra></extra>",
         "legendgroup": "RESIDENTIAL BURGLARY",
         "line": {
          "color": "#EF553B",
          "dash": "solid"
         },
         "marker": {
          "symbol": "circle"
         },
         "mode": "lines+markers",
         "name": "RESIDENTIAL BURGLARY",
         "orientation": "v",
         "showlegend": true,
         "type": "scatter",
         "x": [
          2011,
          2012,
          2013,
          2014,
          2015,
          2016,
          2017,
          2018,
          2019,
          2020
         ],
         "xaxis": "x",
         "y": [
          3569,
          2767,
          1895,
          1380,
          1133,
          1060,
          1019,
          906,
          639,
          474
         ],
         "yaxis": "y"
        },
        {
         "hovertemplate": "CRIME=THEFT<br>Year=%{x}<br>Crime Count=%{y}<extra></extra>",
         "legendgroup": "THEFT",
         "line": {
          "color": "#00cc96",
          "dash": "solid"
         },
         "marker": {
          "symbol": "circle"
         },
         "mode": "lines+markers",
         "name": "THEFT",
         "orientation": "v",
         "showlegend": true,
         "type": "scatter",
         "x": [
          2011,
          2012,
          2013,
          2014,
          2015,
          2016,
          2017,
          2018,
          2019,
          2020
         ],
         "xaxis": "x",
         "y": [
          9888,
          9688,
          8555,
          8627,
          9020,
          8973,
          10912,
          10239,
          10483,
          9765
         ],
         "yaxis": "y"
        },
        {
         "hovertemplate": "CRIME=VEHICLE BURGLARY<br>Year=%{x}<br>Crime Count=%{y}<extra></extra>",
         "legendgroup": "VEHICLE BURGLARY",
         "line": {
          "color": "#ab63fa",
          "dash": "solid"
         },
         "marker": {
          "symbol": "circle"
         },
         "mode": "lines+markers",
         "name": "VEHICLE BURGLARY",
         "orientation": "v",
         "showlegend": true,
         "type": "scatter",
         "x": [
          2011,
          2012,
          2013,
          2014,
          2015,
          2016,
          2017,
          2018,
          2019,
          2020
         ],
         "xaxis": "x",
         "y": [
          2637,
          2509,
          2431,
          1947,
          2484,
          2317,
          2821,
          2699,
          2446,
          2057
         ],
         "yaxis": "y"
        },
        {
         "hovertemplate": "CRIME=VICE<br>Year=%{x}<br>Crime Count=%{y}<extra></extra>",
         "legendgroup": "VICE",
         "line": {
          "color": "#FFA15A",
          "dash": "solid"
         },
         "marker": {
          "symbol": "circle"
         },
         "mode": "lines+markers",
         "name": "VICE",
         "orientation": "v",
         "showlegend": true,
         "type": "scatter",
         "x": [
          2011,
          2012,
          2013,
          2014,
          2015,
          2016,
          2017,
          2018,
          2019,
          2020
         ],
         "xaxis": "x",
         "y": [
          288,
          249,
          156,
          147,
          141,
          149,
          130,
          153,
          175,
          162
         ],
         "yaxis": "y"
        }
       ],
       "layout": {
        "height": 500,
        "legend": {
         "title": {
          "text": "CRIME"
         },
         "tracegroupgap": 0
        },
        "template": {
         "data": {
          "bar": [
           {
            "error_x": {
             "color": "#2a3f5f"
            },
            "error_y": {
             "color": "#2a3f5f"
            },
            "marker": {
             "line": {
              "color": "#E5ECF6",
              "width": 0.5
             },
             "pattern": {
              "fillmode": "overlay",
              "size": 10,
              "solidity": 0.2
             }
            },
            "type": "bar"
           }
          ],
          "barpolar": [
           {
            "marker": {
             "line": {
              "color": "#E5ECF6",
              "width": 0.5
             },
             "pattern": {
              "fillmode": "overlay",
              "size": 10,
              "solidity": 0.2
             }
            },
            "type": "barpolar"
           }
          ],
          "carpet": [
           {
            "aaxis": {
             "endlinecolor": "#2a3f5f",
             "gridcolor": "white",
             "linecolor": "white",
             "minorgridcolor": "white",
             "startlinecolor": "#2a3f5f"
            },
            "baxis": {
             "endlinecolor": "#2a3f5f",
             "gridcolor": "white",
             "linecolor": "white",
             "minorgridcolor": "white",
             "startlinecolor": "#2a3f5f"
            },
            "type": "carpet"
           }
          ],
          "choropleth": [
           {
            "colorbar": {
             "outlinewidth": 0,
             "ticks": ""
            },
            "type": "choropleth"
           }
          ],
          "contour": [
           {
            "colorbar": {
             "outlinewidth": 0,
             "ticks": ""
            },
            "colorscale": [
             [
              0,
              "#0d0887"
             ],
             [
              0.1111111111111111,
              "#46039f"
             ],
             [
              0.2222222222222222,
              "#7201a8"
             ],
             [
              0.3333333333333333,
              "#9c179e"
             ],
             [
              0.4444444444444444,
              "#bd3786"
             ],
             [
              0.5555555555555556,
              "#d8576b"
             ],
             [
              0.6666666666666666,
              "#ed7953"
             ],
             [
              0.7777777777777778,
              "#fb9f3a"
             ],
             [
              0.8888888888888888,
              "#fdca26"
             ],
             [
              1,
              "#f0f921"
             ]
            ],
            "type": "contour"
           }
          ],
          "contourcarpet": [
           {
            "colorbar": {
             "outlinewidth": 0,
             "ticks": ""
            },
            "type": "contourcarpet"
           }
          ],
          "heatmap": [
           {
            "colorbar": {
             "outlinewidth": 0,
             "ticks": ""
            },
            "colorscale": [
             [
              0,
              "#0d0887"
             ],
             [
              0.1111111111111111,
              "#46039f"
             ],
             [
              0.2222222222222222,
              "#7201a8"
             ],
             [
              0.3333333333333333,
              "#9c179e"
             ],
             [
              0.4444444444444444,
              "#bd3786"
             ],
             [
              0.5555555555555556,
              "#d8576b"
             ],
             [
              0.6666666666666666,
              "#ed7953"
             ],
             [
              0.7777777777777778,
              "#fb9f3a"
             ],
             [
              0.8888888888888888,
              "#fdca26"
             ],
             [
              1,
              "#f0f921"
             ]
            ],
            "type": "heatmap"
           }
          ],
          "heatmapgl": [
           {
            "colorbar": {
             "outlinewidth": 0,
             "ticks": ""
            },
            "colorscale": [
             [
              0,
              "#0d0887"
             ],
             [
              0.1111111111111111,
              "#46039f"
             ],
             [
              0.2222222222222222,
              "#7201a8"
             ],
             [
              0.3333333333333333,
              "#9c179e"
             ],
             [
              0.4444444444444444,
              "#bd3786"
             ],
             [
              0.5555555555555556,
              "#d8576b"
             ],
             [
              0.6666666666666666,
              "#ed7953"
             ],
             [
              0.7777777777777778,
              "#fb9f3a"
             ],
             [
              0.8888888888888888,
              "#fdca26"
             ],
             [
              1,
              "#f0f921"
             ]
            ],
            "type": "heatmapgl"
           }
          ],
          "histogram": [
           {
            "marker": {
             "pattern": {
              "fillmode": "overlay",
              "size": 10,
              "solidity": 0.2
             }
            },
            "type": "histogram"
           }
          ],
          "histogram2d": [
           {
            "colorbar": {
             "outlinewidth": 0,
             "ticks": ""
            },
            "colorscale": [
             [
              0,
              "#0d0887"
             ],
             [
              0.1111111111111111,
              "#46039f"
             ],
             [
              0.2222222222222222,
              "#7201a8"
             ],
             [
              0.3333333333333333,
              "#9c179e"
             ],
             [
              0.4444444444444444,
              "#bd3786"
             ],
             [
              0.5555555555555556,
              "#d8576b"
             ],
             [
              0.6666666666666666,
              "#ed7953"
             ],
             [
              0.7777777777777778,
              "#fb9f3a"
             ],
             [
              0.8888888888888888,
              "#fdca26"
             ],
             [
              1,
              "#f0f921"
             ]
            ],
            "type": "histogram2d"
           }
          ],
          "histogram2dcontour": [
           {
            "colorbar": {
             "outlinewidth": 0,
             "ticks": ""
            },
            "colorscale": [
             [
              0,
              "#0d0887"
             ],
             [
              0.1111111111111111,
              "#46039f"
             ],
             [
              0.2222222222222222,
              "#7201a8"
             ],
             [
              0.3333333333333333,
              "#9c179e"
             ],
             [
              0.4444444444444444,
              "#bd3786"
             ],
             [
              0.5555555555555556,
              "#d8576b"
             ],
             [
              0.6666666666666666,
              "#ed7953"
             ],
             [
              0.7777777777777778,
              "#fb9f3a"
             ],
             [
              0.8888888888888888,
              "#fdca26"
             ],
             [
              1,
              "#f0f921"
             ]
            ],
            "type": "histogram2dcontour"
           }
          ],
          "mesh3d": [
           {
            "colorbar": {
             "outlinewidth": 0,
             "ticks": ""
            },
            "type": "mesh3d"
           }
          ],
          "parcoords": [
           {
            "line": {
             "colorbar": {
              "outlinewidth": 0,
              "ticks": ""
             }
            },
            "type": "parcoords"
           }
          ],
          "pie": [
           {
            "automargin": true,
            "type": "pie"
           }
          ],
          "scatter": [
           {
            "fillpattern": {
             "fillmode": "overlay",
             "size": 10,
             "solidity": 0.2
            },
            "type": "scatter"
           }
          ],
          "scatter3d": [
           {
            "line": {
             "colorbar": {
              "outlinewidth": 0,
              "ticks": ""
             }
            },
            "marker": {
             "colorbar": {
              "outlinewidth": 0,
              "ticks": ""
             }
            },
            "type": "scatter3d"
           }
          ],
          "scattercarpet": [
           {
            "marker": {
             "colorbar": {
              "outlinewidth": 0,
              "ticks": ""
             }
            },
            "type": "scattercarpet"
           }
          ],
          "scattergeo": [
           {
            "marker": {
             "colorbar": {
              "outlinewidth": 0,
              "ticks": ""
             }
            },
            "type": "scattergeo"
           }
          ],
          "scattergl": [
           {
            "marker": {
             "colorbar": {
              "outlinewidth": 0,
              "ticks": ""
             }
            },
            "type": "scattergl"
           }
          ],
          "scattermapbox": [
           {
            "marker": {
             "colorbar": {
              "outlinewidth": 0,
              "ticks": ""
             }
            },
            "type": "scattermapbox"
           }
          ],
          "scatterpolar": [
           {
            "marker": {
             "colorbar": {
              "outlinewidth": 0,
              "ticks": ""
             }
            },
            "type": "scatterpolar"
           }
          ],
          "scatterpolargl": [
           {
            "marker": {
             "colorbar": {
              "outlinewidth": 0,
              "ticks": ""
             }
            },
            "type": "scatterpolargl"
           }
          ],
          "scatterternary": [
           {
            "marker": {
             "colorbar": {
              "outlinewidth": 0,
              "ticks": ""
             }
            },
            "type": "scatterternary"
           }
          ],
          "surface": [
           {
            "colorbar": {
             "outlinewidth": 0,
             "ticks": ""
            },
            "colorscale": [
             [
              0,
              "#0d0887"
             ],
             [
              0.1111111111111111,
              "#46039f"
             ],
             [
              0.2222222222222222,
              "#7201a8"
             ],
             [
              0.3333333333333333,
              "#9c179e"
             ],
             [
              0.4444444444444444,
              "#bd3786"
             ],
             [
              0.5555555555555556,
              "#d8576b"
             ],
             [
              0.6666666666666666,
              "#ed7953"
             ],
             [
              0.7777777777777778,
              "#fb9f3a"
             ],
             [
              0.8888888888888888,
              "#fdca26"
             ],
             [
              1,
              "#f0f921"
             ]
            ],
            "type": "surface"
           }
          ],
          "table": [
           {
            "cells": {
             "fill": {
              "color": "#EBF0F8"
             },
             "line": {
              "color": "white"
             }
            },
            "header": {
             "fill": {
              "color": "#C8D4E3"
             },
             "line": {
              "color": "white"
             }
            },
            "type": "table"
           }
          ]
         },
         "layout": {
          "annotationdefaults": {
           "arrowcolor": "#2a3f5f",
           "arrowhead": 0,
           "arrowwidth": 1
          },
          "autotypenumbers": "strict",
          "coloraxis": {
           "colorbar": {
            "outlinewidth": 0,
            "ticks": ""
           }
          },
          "colorscale": {
           "diverging": [
            [
             0,
             "#8e0152"
            ],
            [
             0.1,
             "#c51b7d"
            ],
            [
             0.2,
             "#de77ae"
            ],
            [
             0.3,
             "#f1b6da"
            ],
            [
             0.4,
             "#fde0ef"
            ],
            [
             0.5,
             "#f7f7f7"
            ],
            [
             0.6,
             "#e6f5d0"
            ],
            [
             0.7,
             "#b8e186"
            ],
            [
             0.8,
             "#7fbc41"
            ],
            [
             0.9,
             "#4d9221"
            ],
            [
             1,
             "#276419"
            ]
           ],
           "sequential": [
            [
             0,
             "#0d0887"
            ],
            [
             0.1111111111111111,
             "#46039f"
            ],
            [
             0.2222222222222222,
             "#7201a8"
            ],
            [
             0.3333333333333333,
             "#9c179e"
            ],
            [
             0.4444444444444444,
             "#bd3786"
            ],
            [
             0.5555555555555556,
             "#d8576b"
            ],
            [
             0.6666666666666666,
             "#ed7953"
            ],
            [
             0.7777777777777778,
             "#fb9f3a"
            ],
            [
             0.8888888888888888,
             "#fdca26"
            ],
            [
             1,
             "#f0f921"
            ]
           ],
           "sequentialminus": [
            [
             0,
             "#0d0887"
            ],
            [
             0.1111111111111111,
             "#46039f"
            ],
            [
             0.2222222222222222,
             "#7201a8"
            ],
            [
             0.3333333333333333,
             "#9c179e"
            ],
            [
             0.4444444444444444,
             "#bd3786"
            ],
            [
             0.5555555555555556,
             "#d8576b"
            ],
            [
             0.6666666666666666,
             "#ed7953"
            ],
            [
             0.7777777777777778,
             "#fb9f3a"
            ],
            [
             0.8888888888888888,
             "#fdca26"
            ],
            [
             1,
             "#f0f921"
            ]
           ]
          },
          "colorway": [
           "#636efa",
           "#EF553B",
           "#00cc96",
           "#ab63fa",
           "#FFA15A",
           "#19d3f3",
           "#FF6692",
           "#B6E880",
           "#FF97FF",
           "#FECB52"
          ],
          "font": {
           "color": "#2a3f5f"
          },
          "geo": {
           "bgcolor": "white",
           "lakecolor": "white",
           "landcolor": "#E5ECF6",
           "showlakes": true,
           "showland": true,
           "subunitcolor": "white"
          },
          "hoverlabel": {
           "align": "left"
          },
          "hovermode": "closest",
          "mapbox": {
           "style": "light"
          },
          "paper_bgcolor": "white",
          "plot_bgcolor": "#E5ECF6",
          "polar": {
           "angularaxis": {
            "gridcolor": "white",
            "linecolor": "white",
            "ticks": ""
           },
           "bgcolor": "#E5ECF6",
           "radialaxis": {
            "gridcolor": "white",
            "linecolor": "white",
            "ticks": ""
           }
          },
          "scene": {
           "xaxis": {
            "backgroundcolor": "#E5ECF6",
            "gridcolor": "white",
            "gridwidth": 2,
            "linecolor": "white",
            "showbackground": true,
            "ticks": "",
            "zerolinecolor": "white"
           },
           "yaxis": {
            "backgroundcolor": "#E5ECF6",
            "gridcolor": "white",
            "gridwidth": 2,
            "linecolor": "white",
            "showbackground": true,
            "ticks": "",
            "zerolinecolor": "white"
           },
           "zaxis": {
            "backgroundcolor": "#E5ECF6",
            "gridcolor": "white",
            "gridwidth": 2,
            "linecolor": "white",
            "showbackground": true,
            "ticks": "",
            "zerolinecolor": "white"
           }
          },
          "shapedefaults": {
           "line": {
            "color": "#2a3f5f"
           }
          },
          "ternary": {
           "aaxis": {
            "gridcolor": "white",
            "linecolor": "white",
            "ticks": ""
           },
           "baxis": {
            "gridcolor": "white",
            "linecolor": "white",
            "ticks": ""
           },
           "bgcolor": "#E5ECF6",
           "caxis": {
            "gridcolor": "white",
            "linecolor": "white",
            "ticks": ""
           }
          },
          "title": {
           "x": 0.05
          },
          "xaxis": {
           "automargin": true,
           "gridcolor": "white",
           "linecolor": "white",
           "ticks": "",
           "title": {
            "standoff": 15
           },
           "zerolinecolor": "white",
           "zerolinewidth": 2
          },
          "yaxis": {
           "automargin": true,
           "gridcolor": "white",
           "linecolor": "white",
           "ticks": "",
           "title": {
            "standoff": 15
           },
           "zerolinecolor": "white",
           "zerolinewidth": 2
          }
         }
        },
        "title": {
         "text": "Year & Category Wise Trend"
        },
        "width": 1000,
        "xaxis": {
         "anchor": "y",
         "domain": [
          0,
          1
         ],
         "title": {
          "text": "Year"
         }
        },
        "yaxis": {
         "anchor": "x",
         "domain": [
          0,
          1
         ],
         "title": {
          "text": "Crime Count"
         }
        }
       }
      },
      "text/html": [
       "<div>                            <div id=\"9480a171-3f03-45c2-84a7-3bb6b3158280\" class=\"plotly-graph-div\" style=\"height:500px; width:1000px;\"></div>            <script type=\"text/javascript\">                require([\"plotly\"], function(Plotly) {                    window.PLOTLYENV=window.PLOTLYENV || {};                                    if (document.getElementById(\"9480a171-3f03-45c2-84a7-3bb6b3158280\")) {                    Plotly.newPlot(                        \"9480a171-3f03-45c2-84a7-3bb6b3158280\",                        [{\"hovertemplate\":\"CRIME=ASSAULT<br>Year=%{x}<br>Crime Count=%{y}<extra></extra>\",\"legendgroup\":\"ASSAULT\",\"line\":{\"color\":\"#636efa\",\"dash\":\"solid\"},\"marker\":{\"symbol\":\"circle\"},\"mode\":\"lines+markers\",\"name\":\"ASSAULT\",\"orientation\":\"v\",\"showlegend\":true,\"x\":[2011,2012,2013,2014,2015,2016,2017,2018,2019,2020],\"xaxis\":\"x\",\"y\":[2090,1974,1740,1432,1623,1746,2092,2058,2138,2278],\"yaxis\":\"y\",\"type\":\"scatter\"},{\"hovertemplate\":\"CRIME=BATTERY<br>Year=%{x}<br>Crime Count=%{y}<extra></extra>\",\"legendgroup\":\"BATTERY\",\"line\":{\"color\":\"#EF553B\",\"dash\":\"solid\"},\"marker\":{\"symbol\":\"circle\"},\"mode\":\"lines+markers\",\"name\":\"BATTERY\",\"orientation\":\"v\",\"showlegend\":true,\"x\":[2011,2012,2013,2014,2015,2016,2017,2018,2019,2020],\"xaxis\":\"x\",\"y\":[5317,5087,4124,3667,3909,3727,3802,3624,3487,3159],\"yaxis\":\"y\",\"type\":\"scatter\"},{\"hovertemplate\":\"CRIME=BUSINESS ROBBERY<br>Year=%{x}<br>Crime Count=%{y}<extra></extra>\",\"legendgroup\":\"BUSINESS ROBBERY\",\"line\":{\"color\":\"#00cc96\",\"dash\":\"solid\"},\"marker\":{\"symbol\":\"circle\"},\"mode\":\"lines+markers\",\"name\":\"BUSINESS ROBBERY\",\"orientation\":\"v\",\"showlegend\":true,\"x\":[2011,2012,2013,2014,2015,2016,2017,2018,2019,2020],\"xaxis\":\"x\",\"y\":[98,116,116,112,104,107,80,57,48,47],\"yaxis\":\"y\",\"type\":\"scatter\"},{\"hovertemplate\":\"CRIME=CRIMINAL DAMAGE TO PROPERTY<br>Year=%{x}<br>Crime Count=%{y}<extra></extra>\",\"legendgroup\":\"CRIMINAL DAMAGE TO PROPERTY\",\"line\":{\"color\":\"#ab63fa\",\"dash\":\"solid\"},\"marker\":{\"symbol\":\"circle\"},\"mode\":\"lines+markers\",\"name\":\"CRIMINAL DAMAGE TO PROPERTY\",\"orientation\":\"v\",\"showlegend\":true,\"x\":[2011,2012,2013,2014,2015,2016,2017,2018,2019,2020],\"xaxis\":\"x\",\"y\":[4167,4121,3393,2861,3240,3450,3443,3342,3149,3409],\"yaxis\":\"y\",\"type\":\"scatter\"},{\"hovertemplate\":\"CRIME=FIREARM<br>Year=%{x}<br>Crime Count=%{y}<extra></extra>\",\"legendgroup\":\"FIREARM\",\"line\":{\"color\":\"#FFA15A\",\"dash\":\"solid\"},\"marker\":{\"symbol\":\"circle\"},\"mode\":\"lines+markers\",\"name\":\"FIREARM\",\"orientation\":\"v\",\"showlegend\":true,\"x\":[2011,2012,2013,2014,2015,2016,2017,2018,2019,2020],\"xaxis\":\"x\",\"y\":[1343,1297,1069,1078,1245,1598,2012,1820,1762,2069],\"yaxis\":\"y\",\"type\":\"scatter\"},{\"hovertemplate\":\"CRIME=HOMICIDE<br>Year=%{x}<br>Crime Count=%{y}<extra></extra>\",\"legendgroup\":\"HOMICIDE\",\"line\":{\"color\":\"#19d3f3\",\"dash\":\"solid\"},\"marker\":{\"symbol\":\"circle\"},\"mode\":\"lines+markers\",\"name\":\"HOMICIDE\",\"orientation\":\"v\",\"showlegend\":true,\"x\":[2011,2012,2013,2014,2015,2016,2017,2018,2019,2020],\"xaxis\":\"x\",\"y\":[400,359,278,308,320,361,472,353,401,551],\"yaxis\":\"y\",\"type\":\"scatter\"},{\"hovertemplate\":\"CRIME=INDIVIDUAL ROBBERY<br>Year=%{x}<br>Crime Count=%{y}<extra></extra>\",\"legendgroup\":\"INDIVIDUAL ROBBERY\",\"line\":{\"color\":\"#FF6692\",\"dash\":\"solid\"},\"marker\":{\"symbol\":\"circle\"},\"mode\":\"lines+markers\",\"name\":\"INDIVIDUAL ROBBERY\",\"orientation\":\"v\",\"showlegend\":true,\"x\":[2011,2012,2013,2014,2015,2016,2017,2018,2019,2020],\"xaxis\":\"x\",\"y\":[864,957,736,660,573,561,730,614,544,412],\"yaxis\":\"y\",\"type\":\"scatter\"},{\"hovertemplate\":\"CRIME=NARCOTICS<br>Year=%{x}<br>Crime Count=%{y}<extra></extra>\",\"legendgroup\":\"NARCOTICS\",\"line\":{\"color\":\"#B6E880\",\"dash\":\"solid\"},\"marker\":{\"symbol\":\"circle\"},\"mode\":\"lines+markers\",\"name\":\"NARCOTICS\",\"orientation\":\"v\",\"showlegend\":true,\"x\":[2011,2012,2013,2014,2015,2016,2017,2018,2019,2020],\"xaxis\":\"x\",\"y\":[5296,5004,3793,3906,4209,3600,3630,3893,3123,2649],\"yaxis\":\"y\",\"type\":\"scatter\"},{\"hovertemplate\":\"CRIME=NON-RESIDENTIAL BURGLARY<br>Year=%{x}<br>Crime Count=%{y}<extra></extra>\",\"legendgroup\":\"NON-RESIDENTIAL BURGLARY\",\"line\":{\"color\":\"#FF97FF\",\"dash\":\"solid\"},\"marker\":{\"symbol\":\"circle\"},\"mode\":\"lines+markers\",\"name\":\"NON-RESIDENTIAL BURGLARY\",\"orientation\":\"v\",\"showlegend\":true,\"x\":[2011,2012,2013,2014,2015,2016,2017,2018,2019,2020],\"xaxis\":\"x\",\"y\":[1274,1365,1215,1188,1188,1294,1870,1995,1781,1786],\"yaxis\":\"y\",\"type\":\"scatter\"},{\"hovertemplate\":\"CRIME=NUISANCE<br>Year=%{x}<br>Crime Count=%{y}<extra></extra>\",\"legendgroup\":\"NUISANCE\",\"line\":{\"color\":\"#FECB52\",\"dash\":\"solid\"},\"marker\":{\"symbol\":\"circle\"},\"mode\":\"lines+markers\",\"name\":\"NUISANCE\",\"orientation\":\"v\",\"showlegend\":true,\"x\":[2011,2012,2013,2014,2015,2016,2017,2018,2019,2020],\"xaxis\":\"x\",\"y\":[2890,1774,1167,902,936,809,784,618,610,556],\"yaxis\":\"y\",\"type\":\"scatter\"},{\"hovertemplate\":\"CRIME=OTHER<br>Year=%{x}<br>Crime Count=%{y}<extra></extra>\",\"legendgroup\":\"OTHER\",\"line\":{\"color\":\"#636efa\",\"dash\":\"solid\"},\"marker\":{\"symbol\":\"circle\"},\"mode\":\"lines+markers\",\"name\":\"OTHER\",\"orientation\":\"v\",\"showlegend\":true,\"x\":[2011,2012,2013,2014,2015,2016,2017,2018,2019,2020],\"xaxis\":\"x\",\"y\":[18721,15690,13195,11813,12172,11294,11480,10002,9225,6169],\"yaxis\":\"y\",\"type\":\"scatter\"},{\"hovertemplate\":\"CRIME=RESIDENTIAL BURGLARY<br>Year=%{x}<br>Crime Count=%{y}<extra></extra>\",\"legendgroup\":\"RESIDENTIAL BURGLARY\",\"line\":{\"color\":\"#EF553B\",\"dash\":\"solid\"},\"marker\":{\"symbol\":\"circle\"},\"mode\":\"lines+markers\",\"name\":\"RESIDENTIAL BURGLARY\",\"orientation\":\"v\",\"showlegend\":true,\"x\":[2011,2012,2013,2014,2015,2016,2017,2018,2019,2020],\"xaxis\":\"x\",\"y\":[3569,2767,1895,1380,1133,1060,1019,906,639,474],\"yaxis\":\"y\",\"type\":\"scatter\"},{\"hovertemplate\":\"CRIME=THEFT<br>Year=%{x}<br>Crime Count=%{y}<extra></extra>\",\"legendgroup\":\"THEFT\",\"line\":{\"color\":\"#00cc96\",\"dash\":\"solid\"},\"marker\":{\"symbol\":\"circle\"},\"mode\":\"lines+markers\",\"name\":\"THEFT\",\"orientation\":\"v\",\"showlegend\":true,\"x\":[2011,2012,2013,2014,2015,2016,2017,2018,2019,2020],\"xaxis\":\"x\",\"y\":[9888,9688,8555,8627,9020,8973,10912,10239,10483,9765],\"yaxis\":\"y\",\"type\":\"scatter\"},{\"hovertemplate\":\"CRIME=VEHICLE BURGLARY<br>Year=%{x}<br>Crime Count=%{y}<extra></extra>\",\"legendgroup\":\"VEHICLE BURGLARY\",\"line\":{\"color\":\"#ab63fa\",\"dash\":\"solid\"},\"marker\":{\"symbol\":\"circle\"},\"mode\":\"lines+markers\",\"name\":\"VEHICLE BURGLARY\",\"orientation\":\"v\",\"showlegend\":true,\"x\":[2011,2012,2013,2014,2015,2016,2017,2018,2019,2020],\"xaxis\":\"x\",\"y\":[2637,2509,2431,1947,2484,2317,2821,2699,2446,2057],\"yaxis\":\"y\",\"type\":\"scatter\"},{\"hovertemplate\":\"CRIME=VICE<br>Year=%{x}<br>Crime Count=%{y}<extra></extra>\",\"legendgroup\":\"VICE\",\"line\":{\"color\":\"#FFA15A\",\"dash\":\"solid\"},\"marker\":{\"symbol\":\"circle\"},\"mode\":\"lines+markers\",\"name\":\"VICE\",\"orientation\":\"v\",\"showlegend\":true,\"x\":[2011,2012,2013,2014,2015,2016,2017,2018,2019,2020],\"xaxis\":\"x\",\"y\":[288,249,156,147,141,149,130,153,175,162],\"yaxis\":\"y\",\"type\":\"scatter\"}],                        {\"template\":{\"data\":{\"histogram2dcontour\":[{\"type\":\"histogram2dcontour\",\"colorbar\":{\"outlinewidth\":0,\"ticks\":\"\"},\"colorscale\":[[0.0,\"#0d0887\"],[0.1111111111111111,\"#46039f\"],[0.2222222222222222,\"#7201a8\"],[0.3333333333333333,\"#9c179e\"],[0.4444444444444444,\"#bd3786\"],[0.5555555555555556,\"#d8576b\"],[0.6666666666666666,\"#ed7953\"],[0.7777777777777778,\"#fb9f3a\"],[0.8888888888888888,\"#fdca26\"],[1.0,\"#f0f921\"]]}],\"choropleth\":[{\"type\":\"choropleth\",\"colorbar\":{\"outlinewidth\":0,\"ticks\":\"\"}}],\"histogram2d\":[{\"type\":\"histogram2d\",\"colorbar\":{\"outlinewidth\":0,\"ticks\":\"\"},\"colorscale\":[[0.0,\"#0d0887\"],[0.1111111111111111,\"#46039f\"],[0.2222222222222222,\"#7201a8\"],[0.3333333333333333,\"#9c179e\"],[0.4444444444444444,\"#bd3786\"],[0.5555555555555556,\"#d8576b\"],[0.6666666666666666,\"#ed7953\"],[0.7777777777777778,\"#fb9f3a\"],[0.8888888888888888,\"#fdca26\"],[1.0,\"#f0f921\"]]}],\"heatmap\":[{\"type\":\"heatmap\",\"colorbar\":{\"outlinewidth\":0,\"ticks\":\"\"},\"colorscale\":[[0.0,\"#0d0887\"],[0.1111111111111111,\"#46039f\"],[0.2222222222222222,\"#7201a8\"],[0.3333333333333333,\"#9c179e\"],[0.4444444444444444,\"#bd3786\"],[0.5555555555555556,\"#d8576b\"],[0.6666666666666666,\"#ed7953\"],[0.7777777777777778,\"#fb9f3a\"],[0.8888888888888888,\"#fdca26\"],[1.0,\"#f0f921\"]]}],\"heatmapgl\":[{\"type\":\"heatmapgl\",\"colorbar\":{\"outlinewidth\":0,\"ticks\":\"\"},\"colorscale\":[[0.0,\"#0d0887\"],[0.1111111111111111,\"#46039f\"],[0.2222222222222222,\"#7201a8\"],[0.3333333333333333,\"#9c179e\"],[0.4444444444444444,\"#bd3786\"],[0.5555555555555556,\"#d8576b\"],[0.6666666666666666,\"#ed7953\"],[0.7777777777777778,\"#fb9f3a\"],[0.8888888888888888,\"#fdca26\"],[1.0,\"#f0f921\"]]}],\"contourcarpet\":[{\"type\":\"contourcarpet\",\"colorbar\":{\"outlinewidth\":0,\"ticks\":\"\"}}],\"contour\":[{\"type\":\"contour\",\"colorbar\":{\"outlinewidth\":0,\"ticks\":\"\"},\"colorscale\":[[0.0,\"#0d0887\"],[0.1111111111111111,\"#46039f\"],[0.2222222222222222,\"#7201a8\"],[0.3333333333333333,\"#9c179e\"],[0.4444444444444444,\"#bd3786\"],[0.5555555555555556,\"#d8576b\"],[0.6666666666666666,\"#ed7953\"],[0.7777777777777778,\"#fb9f3a\"],[0.8888888888888888,\"#fdca26\"],[1.0,\"#f0f921\"]]}],\"surface\":[{\"type\":\"surface\",\"colorbar\":{\"outlinewidth\":0,\"ticks\":\"\"},\"colorscale\":[[0.0,\"#0d0887\"],[0.1111111111111111,\"#46039f\"],[0.2222222222222222,\"#7201a8\"],[0.3333333333333333,\"#9c179e\"],[0.4444444444444444,\"#bd3786\"],[0.5555555555555556,\"#d8576b\"],[0.6666666666666666,\"#ed7953\"],[0.7777777777777778,\"#fb9f3a\"],[0.8888888888888888,\"#fdca26\"],[1.0,\"#f0f921\"]]}],\"mesh3d\":[{\"type\":\"mesh3d\",\"colorbar\":{\"outlinewidth\":0,\"ticks\":\"\"}}],\"scatter\":[{\"fillpattern\":{\"fillmode\":\"overlay\",\"size\":10,\"solidity\":0.2},\"type\":\"scatter\"}],\"parcoords\":[{\"type\":\"parcoords\",\"line\":{\"colorbar\":{\"outlinewidth\":0,\"ticks\":\"\"}}}],\"scatterpolargl\":[{\"type\":\"scatterpolargl\",\"marker\":{\"colorbar\":{\"outlinewidth\":0,\"ticks\":\"\"}}}],\"bar\":[{\"error_x\":{\"color\":\"#2a3f5f\"},\"error_y\":{\"color\":\"#2a3f5f\"},\"marker\":{\"line\":{\"color\":\"#E5ECF6\",\"width\":0.5},\"pattern\":{\"fillmode\":\"overlay\",\"size\":10,\"solidity\":0.2}},\"type\":\"bar\"}],\"scattergeo\":[{\"type\":\"scattergeo\",\"marker\":{\"colorbar\":{\"outlinewidth\":0,\"ticks\":\"\"}}}],\"scatterpolar\":[{\"type\":\"scatterpolar\",\"marker\":{\"colorbar\":{\"outlinewidth\":0,\"ticks\":\"\"}}}],\"histogram\":[{\"marker\":{\"pattern\":{\"fillmode\":\"overlay\",\"size\":10,\"solidity\":0.2}},\"type\":\"histogram\"}],\"scattergl\":[{\"type\":\"scattergl\",\"marker\":{\"colorbar\":{\"outlinewidth\":0,\"ticks\":\"\"}}}],\"scatter3d\":[{\"type\":\"scatter3d\",\"line\":{\"colorbar\":{\"outlinewidth\":0,\"ticks\":\"\"}},\"marker\":{\"colorbar\":{\"outlinewidth\":0,\"ticks\":\"\"}}}],\"scattermapbox\":[{\"type\":\"scattermapbox\",\"marker\":{\"colorbar\":{\"outlinewidth\":0,\"ticks\":\"\"}}}],\"scatterternary\":[{\"type\":\"scatterternary\",\"marker\":{\"colorbar\":{\"outlinewidth\":0,\"ticks\":\"\"}}}],\"scattercarpet\":[{\"type\":\"scattercarpet\",\"marker\":{\"colorbar\":{\"outlinewidth\":0,\"ticks\":\"\"}}}],\"carpet\":[{\"aaxis\":{\"endlinecolor\":\"#2a3f5f\",\"gridcolor\":\"white\",\"linecolor\":\"white\",\"minorgridcolor\":\"white\",\"startlinecolor\":\"#2a3f5f\"},\"baxis\":{\"endlinecolor\":\"#2a3f5f\",\"gridcolor\":\"white\",\"linecolor\":\"white\",\"minorgridcolor\":\"white\",\"startlinecolor\":\"#2a3f5f\"},\"type\":\"carpet\"}],\"table\":[{\"cells\":{\"fill\":{\"color\":\"#EBF0F8\"},\"line\":{\"color\":\"white\"}},\"header\":{\"fill\":{\"color\":\"#C8D4E3\"},\"line\":{\"color\":\"white\"}},\"type\":\"table\"}],\"barpolar\":[{\"marker\":{\"line\":{\"color\":\"#E5ECF6\",\"width\":0.5},\"pattern\":{\"fillmode\":\"overlay\",\"size\":10,\"solidity\":0.2}},\"type\":\"barpolar\"}],\"pie\":[{\"automargin\":true,\"type\":\"pie\"}]},\"layout\":{\"autotypenumbers\":\"strict\",\"colorway\":[\"#636efa\",\"#EF553B\",\"#00cc96\",\"#ab63fa\",\"#FFA15A\",\"#19d3f3\",\"#FF6692\",\"#B6E880\",\"#FF97FF\",\"#FECB52\"],\"font\":{\"color\":\"#2a3f5f\"},\"hovermode\":\"closest\",\"hoverlabel\":{\"align\":\"left\"},\"paper_bgcolor\":\"white\",\"plot_bgcolor\":\"#E5ECF6\",\"polar\":{\"bgcolor\":\"#E5ECF6\",\"angularaxis\":{\"gridcolor\":\"white\",\"linecolor\":\"white\",\"ticks\":\"\"},\"radialaxis\":{\"gridcolor\":\"white\",\"linecolor\":\"white\",\"ticks\":\"\"}},\"ternary\":{\"bgcolor\":\"#E5ECF6\",\"aaxis\":{\"gridcolor\":\"white\",\"linecolor\":\"white\",\"ticks\":\"\"},\"baxis\":{\"gridcolor\":\"white\",\"linecolor\":\"white\",\"ticks\":\"\"},\"caxis\":{\"gridcolor\":\"white\",\"linecolor\":\"white\",\"ticks\":\"\"}},\"coloraxis\":{\"colorbar\":{\"outlinewidth\":0,\"ticks\":\"\"}},\"colorscale\":{\"sequential\":[[0.0,\"#0d0887\"],[0.1111111111111111,\"#46039f\"],[0.2222222222222222,\"#7201a8\"],[0.3333333333333333,\"#9c179e\"],[0.4444444444444444,\"#bd3786\"],[0.5555555555555556,\"#d8576b\"],[0.6666666666666666,\"#ed7953\"],[0.7777777777777778,\"#fb9f3a\"],[0.8888888888888888,\"#fdca26\"],[1.0,\"#f0f921\"]],\"sequentialminus\":[[0.0,\"#0d0887\"],[0.1111111111111111,\"#46039f\"],[0.2222222222222222,\"#7201a8\"],[0.3333333333333333,\"#9c179e\"],[0.4444444444444444,\"#bd3786\"],[0.5555555555555556,\"#d8576b\"],[0.6666666666666666,\"#ed7953\"],[0.7777777777777778,\"#fb9f3a\"],[0.8888888888888888,\"#fdca26\"],[1.0,\"#f0f921\"]],\"diverging\":[[0,\"#8e0152\"],[0.1,\"#c51b7d\"],[0.2,\"#de77ae\"],[0.3,\"#f1b6da\"],[0.4,\"#fde0ef\"],[0.5,\"#f7f7f7\"],[0.6,\"#e6f5d0\"],[0.7,\"#b8e186\"],[0.8,\"#7fbc41\"],[0.9,\"#4d9221\"],[1,\"#276419\"]]},\"xaxis\":{\"gridcolor\":\"white\",\"linecolor\":\"white\",\"ticks\":\"\",\"title\":{\"standoff\":15},\"zerolinecolor\":\"white\",\"automargin\":true,\"zerolinewidth\":2},\"yaxis\":{\"gridcolor\":\"white\",\"linecolor\":\"white\",\"ticks\":\"\",\"title\":{\"standoff\":15},\"zerolinecolor\":\"white\",\"automargin\":true,\"zerolinewidth\":2},\"scene\":{\"xaxis\":{\"backgroundcolor\":\"#E5ECF6\",\"gridcolor\":\"white\",\"linecolor\":\"white\",\"showbackground\":true,\"ticks\":\"\",\"zerolinecolor\":\"white\",\"gridwidth\":2},\"yaxis\":{\"backgroundcolor\":\"#E5ECF6\",\"gridcolor\":\"white\",\"linecolor\":\"white\",\"showbackground\":true,\"ticks\":\"\",\"zerolinecolor\":\"white\",\"gridwidth\":2},\"zaxis\":{\"backgroundcolor\":\"#E5ECF6\",\"gridcolor\":\"white\",\"linecolor\":\"white\",\"showbackground\":true,\"ticks\":\"\",\"zerolinecolor\":\"white\",\"gridwidth\":2}},\"shapedefaults\":{\"line\":{\"color\":\"#2a3f5f\"}},\"annotationdefaults\":{\"arrowcolor\":\"#2a3f5f\",\"arrowhead\":0,\"arrowwidth\":1},\"geo\":{\"bgcolor\":\"white\",\"landcolor\":\"#E5ECF6\",\"subunitcolor\":\"white\",\"showland\":true,\"showlakes\":true,\"lakecolor\":\"white\"},\"title\":{\"x\":0.05},\"mapbox\":{\"style\":\"light\"}}},\"xaxis\":{\"anchor\":\"y\",\"domain\":[0.0,1.0],\"title\":{\"text\":\"Year\"}},\"yaxis\":{\"anchor\":\"x\",\"domain\":[0.0,1.0],\"title\":{\"text\":\"Crime Count\"}},\"legend\":{\"title\":{\"text\":\"CRIME\"},\"tracegroupgap\":0},\"title\":{\"text\":\"Year & Category Wise Trend\"},\"height\":500,\"width\":1000},                        {\"responsive\": true}                    ).then(function(){\n",
       "                            \n",
       "var gd = document.getElementById('9480a171-3f03-45c2-84a7-3bb6b3158280');\n",
       "var x = new MutationObserver(function (mutations, observer) {{\n",
       "        var display = window.getComputedStyle(gd).display;\n",
       "        if (!display || display === 'none') {{\n",
       "            console.log([gd, 'removed!']);\n",
       "            Plotly.purge(gd);\n",
       "            observer.disconnect();\n",
       "        }}\n",
       "}});\n",
       "\n",
       "// Listen for the removal of the full notebook cells\n",
       "var notebookContainer = gd.closest('#notebook-container');\n",
       "if (notebookContainer) {{\n",
       "    x.observe(notebookContainer, {childList: true});\n",
       "}}\n",
       "\n",
       "// Listen for the clearing of the current output cell\n",
       "var outputEl = gd.closest('.output');\n",
       "if (outputEl) {{\n",
       "    x.observe(outputEl, {childList: true});\n",
       "}}\n",
       "\n",
       "                        })                };                });            </script>        </div>"
      ]
     },
     "metadata": {},
     "output_type": "display_data"
    }
   ],
   "source": [
    "fig = px.line(data_frame=pivot_table,\n",
    "              x=pivot_table.index,\n",
    "              y=pivot_table.keys(),\n",
    "              height=500,\n",
    "              width=1000,\n",
    "              labels={'YEAR': 'Year',\n",
    "                      'value': 'Crime Count'},\n",
    "              title='Year & Category Wise Trend',\n",
    "              markers=True)\n",
    "fig.show()"
   ]
  },
  {
   "cell_type": "markdown",
   "id": "eb6716b9",
   "metadata": {},
   "source": [
    "**NOTE** - You can zoom in the plot for more clear visual.\n",
    "\n",
    "The above line chart shows the following patterns:\n",
    "* Number of crimes termed as `BATTERY`, `BUSINESS ROBBERY`, `CRIMINAL DAMAGE TO PROPERTY`, `INDIVIDUAL BATTERY`, `NARCOTICS`, `NUISANCE`, `RESIDIENCE BURGLARY` have decreased as compared to 5-10 years before.<br>\n",
    "\n",
    "* Whereas, crimes in `HOMICIDE` and `FIREARM` have increased.<br>\n",
    "\n",
    "* Irrespective of the category there was a sudden drop in crime rates in 2014."
   ]
  },
  {
   "cell_type": "markdown",
   "id": "ed7dbab4",
   "metadata": {},
   "source": [
    "# Financial Crime Analysis"
   ]
  },
  {
   "cell_type": "code",
   "execution_count": 57,
   "id": "b18df120",
   "metadata": {},
   "outputs": [],
   "source": [
    "df1 = df[df['OFFENSE DESCRIPTION'].str.contains(\"MONEY LAUNDERING\")]"
   ]
  },
  {
   "cell_type": "code",
   "execution_count": 58,
   "id": "b993795d",
   "metadata": {},
   "outputs": [],
   "source": [
    "df2 = df[df['OFFENSE DESCRIPTION'].str.contains(\"BRIBERY\")]"
   ]
  },
  {
   "cell_type": "code",
   "execution_count": 59,
   "id": "bbef56c8",
   "metadata": {},
   "outputs": [],
   "source": [
    "df3 = df[df['OFFENSE DESCRIPTION'].str.contains(\"EMBEZZLEMENT\")]"
   ]
  },
  {
   "cell_type": "code",
   "execution_count": 60,
   "id": "36809f4d",
   "metadata": {},
   "outputs": [],
   "source": [
    "df4 = df[df['OFFENSE DESCRIPTION'].str.contains(\"FRAUD\")]"
   ]
  },
  {
   "cell_type": "code",
   "execution_count": 61,
   "id": "3ecd32ea",
   "metadata": {},
   "outputs": [],
   "source": [
    "financial_crimes = pd.concat([df1, df2, df3, df4, ])"
   ]
  },
  {
   "cell_type": "code",
   "execution_count": 62,
   "id": "1f7e8a9e",
   "metadata": {},
   "outputs": [
    {
     "data": {
      "text/html": [
       "<div>\n",
       "<style scoped>\n",
       "    .dataframe tbody tr th:only-of-type {\n",
       "        vertical-align: middle;\n",
       "    }\n",
       "\n",
       "    .dataframe tbody tr th {\n",
       "        vertical-align: top;\n",
       "    }\n",
       "\n",
       "    .dataframe thead th {\n",
       "        text-align: right;\n",
       "    }\n",
       "</style>\n",
       "<table border=\"1\" class=\"dataframe\">\n",
       "  <thead>\n",
       "    <tr style=\"text-align: right;\">\n",
       "      <th></th>\n",
       "      <th>FILE NUMBER</th>\n",
       "      <th>OFFENSE DATE</th>\n",
       "      <th>OFFENSE TIME</th>\n",
       "      <th>CRIME</th>\n",
       "      <th>COMMITTED</th>\n",
       "      <th>OFFENSE</th>\n",
       "      <th>OFFENSE DESCRIPTION</th>\n",
       "      <th>FULL ADDRESS</th>\n",
       "      <th>ADDRESS NUMBER</th>\n",
       "      <th>STREET NAME</th>\n",
       "      <th>...</th>\n",
       "      <th>COMPLETE DISTRICT</th>\n",
       "      <th>COUNCIL DISTRICT</th>\n",
       "      <th>CRIME PREVENTION DISTRICT</th>\n",
       "      <th>GEOLOCATION</th>\n",
       "      <th>YEAR</th>\n",
       "      <th>MONTH</th>\n",
       "      <th>DATE</th>\n",
       "      <th>DAY</th>\n",
       "      <th>Weekend</th>\n",
       "      <th>Season</th>\n",
       "    </tr>\n",
       "  </thead>\n",
       "  <tbody>\n",
       "    <tr>\n",
       "      <th>75845</th>\n",
       "      <td>1.100051e+09</td>\n",
       "      <td>2011-05-17</td>\n",
       "      <td>0030</td>\n",
       "      <td>OTHER</td>\n",
       "      <td>COMMITTED</td>\n",
       "      <td>14:230</td>\n",
       "      <td>MONEY LAUNDERING</td>\n",
       "      <td>1115 BOB PETTIT DR</td>\n",
       "      <td>1115.0</td>\n",
       "      <td>BOB PETTIT</td>\n",
       "      <td>...</td>\n",
       "      <td>2C3</td>\n",
       "      <td>12.0</td>\n",
       "      <td>NONE</td>\n",
       "      <td>1115 BOB PETTIT DR\\nBATON ROUGE, LA 70820\\n(30...</td>\n",
       "      <td>2011</td>\n",
       "      <td>5</td>\n",
       "      <td>17</td>\n",
       "      <td>Tuesday</td>\n",
       "      <td>False</td>\n",
       "      <td>Summer</td>\n",
       "    </tr>\n",
       "    <tr>\n",
       "      <th>162966</th>\n",
       "      <td>1.200127e+09</td>\n",
       "      <td>2012-12-14</td>\n",
       "      <td>1500</td>\n",
       "      <td>OTHER</td>\n",
       "      <td>COMMITTED</td>\n",
       "      <td>14:230</td>\n",
       "      <td>MONEY LAUNDERING</td>\n",
       "      <td>524 MISTY CREEK DR</td>\n",
       "      <td>524.0</td>\n",
       "      <td>MISTY CREEK</td>\n",
       "      <td>...</td>\n",
       "      <td>2E4</td>\n",
       "      <td>12.0</td>\n",
       "      <td>NONE</td>\n",
       "      <td>524 MISTY CREEK DR\\nBATON ROUGE, LA\\n(30.36608...</td>\n",
       "      <td>2012</td>\n",
       "      <td>12</td>\n",
       "      <td>14</td>\n",
       "      <td>Friday</td>\n",
       "      <td>False</td>\n",
       "      <td>Fall</td>\n",
       "    </tr>\n",
       "    <tr>\n",
       "      <th>281734</th>\n",
       "      <td>1.200124e+09</td>\n",
       "      <td>2012-12-07</td>\n",
       "      <td>1500</td>\n",
       "      <td>OTHER</td>\n",
       "      <td>COMMITTED</td>\n",
       "      <td>14:230</td>\n",
       "      <td>MONEY LAUNDERING</td>\n",
       "      <td>4640 BLUEBELL DR</td>\n",
       "      <td>4640.0</td>\n",
       "      <td>BLUEBELL</td>\n",
       "      <td>...</td>\n",
       "      <td>2E1</td>\n",
       "      <td>12.0</td>\n",
       "      <td>NONE</td>\n",
       "      <td>4640 BLUEBELL DR\\nBATON ROUGE, LA\\n(30.405241,...</td>\n",
       "      <td>2012</td>\n",
       "      <td>12</td>\n",
       "      <td>7</td>\n",
       "      <td>Friday</td>\n",
       "      <td>False</td>\n",
       "      <td>Fall</td>\n",
       "    </tr>\n",
       "    <tr>\n",
       "      <th>370448</th>\n",
       "      <td>1.100103e+09</td>\n",
       "      <td>2011-09-30</td>\n",
       "      <td>0130</td>\n",
       "      <td>OTHER</td>\n",
       "      <td>COMMITTED</td>\n",
       "      <td>14:230</td>\n",
       "      <td>MONEY LAUNDERING</td>\n",
       "      <td>500 WEST I12 HW</td>\n",
       "      <td>500.0</td>\n",
       "      <td>WEST I-12</td>\n",
       "      <td>...</td>\n",
       "      <td>3C3</td>\n",
       "      <td>9.0</td>\n",
       "      <td>NONE</td>\n",
       "      <td>500 WEST I12 HW\\nBATON ROUGE, LA 708017</td>\n",
       "      <td>2011</td>\n",
       "      <td>9</td>\n",
       "      <td>30</td>\n",
       "      <td>Friday</td>\n",
       "      <td>False</td>\n",
       "      <td>Fall</td>\n",
       "    </tr>\n",
       "    <tr>\n",
       "      <th>390211</th>\n",
       "      <td>1.200124e+09</td>\n",
       "      <td>2013-04-16</td>\n",
       "      <td>1245</td>\n",
       "      <td>OTHER</td>\n",
       "      <td>COMMITTED</td>\n",
       "      <td>14:230</td>\n",
       "      <td>MONEY LAUNDERING</td>\n",
       "      <td>2237 S ACADIAN TH</td>\n",
       "      <td>2237.0</td>\n",
       "      <td>ACADIAN</td>\n",
       "      <td>...</td>\n",
       "      <td>2B2</td>\n",
       "      <td>7.0</td>\n",
       "      <td>NONE</td>\n",
       "      <td>2237 S ACADIAN TH\\nBATON ROUGE, LA 70808\\n(30....</td>\n",
       "      <td>2013</td>\n",
       "      <td>4</td>\n",
       "      <td>16</td>\n",
       "      <td>Tuesday</td>\n",
       "      <td>False</td>\n",
       "      <td>Spring</td>\n",
       "    </tr>\n",
       "  </tbody>\n",
       "</table>\n",
       "<p>5 rows × 27 columns</p>\n",
       "</div>"
      ],
      "text/plain": [
       "         FILE NUMBER OFFENSE DATE OFFENSE TIME  CRIME  COMMITTED OFFENSE  \\\n",
       "75845   1.100051e+09   2011-05-17         0030  OTHER  COMMITTED  14:230   \n",
       "162966  1.200127e+09   2012-12-14         1500  OTHER  COMMITTED  14:230   \n",
       "281734  1.200124e+09   2012-12-07         1500  OTHER  COMMITTED  14:230   \n",
       "370448  1.100103e+09   2011-09-30         0130  OTHER  COMMITTED  14:230   \n",
       "390211  1.200124e+09   2013-04-16         1245  OTHER  COMMITTED  14:230   \n",
       "\n",
       "       OFFENSE DESCRIPTION        FULL ADDRESS  ADDRESS NUMBER  STREET NAME  \\\n",
       "75845     MONEY LAUNDERING  1115 BOB PETTIT DR          1115.0   BOB PETTIT   \n",
       "162966    MONEY LAUNDERING  524 MISTY CREEK DR           524.0  MISTY CREEK   \n",
       "281734    MONEY LAUNDERING    4640 BLUEBELL DR          4640.0     BLUEBELL   \n",
       "370448    MONEY LAUNDERING     500 WEST I12 HW           500.0    WEST I-12   \n",
       "390211    MONEY LAUNDERING   2237 S ACADIAN TH          2237.0      ACADIAN   \n",
       "\n",
       "        ... COMPLETE DISTRICT COUNCIL DISTRICT CRIME PREVENTION DISTRICT  \\\n",
       "75845   ...               2C3             12.0                      NONE   \n",
       "162966  ...               2E4             12.0                      NONE   \n",
       "281734  ...               2E1             12.0                      NONE   \n",
       "370448  ...               3C3              9.0                      NONE   \n",
       "390211  ...               2B2              7.0                      NONE   \n",
       "\n",
       "                                              GEOLOCATION  YEAR MONTH DATE  \\\n",
       "75845   1115 BOB PETTIT DR\\nBATON ROUGE, LA 70820\\n(30...  2011     5   17   \n",
       "162966  524 MISTY CREEK DR\\nBATON ROUGE, LA\\n(30.36608...  2012    12   14   \n",
       "281734  4640 BLUEBELL DR\\nBATON ROUGE, LA\\n(30.405241,...  2012    12    7   \n",
       "370448            500 WEST I12 HW\\nBATON ROUGE, LA 708017  2011     9   30   \n",
       "390211  2237 S ACADIAN TH\\nBATON ROUGE, LA 70808\\n(30....  2013     4   16   \n",
       "\n",
       "            DAY  Weekend  Season  \n",
       "75845   Tuesday    False  Summer  \n",
       "162966   Friday    False    Fall  \n",
       "281734   Friday    False    Fall  \n",
       "370448   Friday    False    Fall  \n",
       "390211  Tuesday    False  Spring  \n",
       "\n",
       "[5 rows x 27 columns]"
      ]
     },
     "execution_count": 62,
     "metadata": {},
     "output_type": "execute_result"
    }
   ],
   "source": [
    "financial_crimes.head()"
   ]
  },
  {
   "cell_type": "code",
   "execution_count": 63,
   "id": "e15853ad",
   "metadata": {},
   "outputs": [
    {
     "data": {
      "text/plain": [
       "[Text(0, 0, 'ACCESS DEVICE FRAUD'),\n",
       " Text(1, 0, 'BANK FRAUD'),\n",
       " Text(2, 0, 'FRAUD, HOME IMPROVEMENT'),\n",
       " Text(3, 0, 'OBTAINING CDS BY FRAUD/FORGERY'),\n",
       " Text(4, 0, 'CREDIT CARD FRAUD'),\n",
       " Text(5, 0, 'COMPUTER FRAUD'),\n",
       " Text(6, 0, 'FRAUDULENT ACQUISITION OF  A CREDIT CARD'),\n",
       " Text(7, 0, 'FRAUD'),\n",
       " Text(8, 0, 'REFUND FRAUD'),\n",
       " Text(9, 0, 'OBTAINING LEGEND DRUG BY FRAUD'),\n",
       " Text(10, 0, 'UNLAWFUL PROD,MAN,DIST,POSS, OF FRAUD DOCS, IDENT'),\n",
       " Text(11, 0, 'PUBLIC PAYROLL FRAUD'),\n",
       " Text(12, 0, 'INSURANCE FRAUD - HEALTH CARE'),\n",
       " Text(13, 0, 'THEFT BY EMBEZZLEMENT'),\n",
       " Text(14, 0, 'PUBLIC BRIBERY'),\n",
       " Text(15, 0, 'PUBLIC CONTRACT FRAUD'),\n",
       " Text(16, 0, 'INSURANCE FRAUD - AUTOMOBILE/FELONY'),\n",
       " Text(17, 0, 'OBTAINING LEGEND DRUGS BY MISREP OR FRAUD'),\n",
       " Text(18, 0, 'MONEY LAUNDERING'),\n",
       " Text(19, 0, 'THEFT FRAUD ACQU RENTAL AUTO'),\n",
       " Text(20, 0, 'MEDICAID FRAUD'),\n",
       " Text(21, 0, 'ARSON W/INTENT TO DEFRAUD'),\n",
       " Text(22, 0, 'FRAUD IN OBT ACCOM'),\n",
       " Text(23, 0, 'INSURANCE FRAUD'),\n",
       " Text(24, 0, 'DAM PROP TO DEFRAUD')]"
      ]
     },
     "execution_count": 63,
     "metadata": {},
     "output_type": "execute_result"
    },
    {
     "data": {
      "image/png": "[encoded data removed]",
      "text/plain": [
       "<Figure size 1440x1080 with 1 Axes>"
      ]
     },
     "metadata": {
      "needs_background": "light"
     },
     "output_type": "display_data"
    }
   ],
   "source": [
    "plt.figure(figsize = (20,15))\n",
    "ax=sns.countplot(financial_crimes['OFFENSE DESCRIPTION'], order = financial_crimes['OFFENSE DESCRIPTION'].value_counts().index)\n",
    "ax.set_xticklabels(ax.get_xticklabels(),rotation = 90)"
   ]
  }
 ],
 "metadata": {
  "kernelspec": {
   "display_name": "Python 3 (ipykernel)",
   "language": "python",
   "name": "python3"
  },
  "language_info": {
   "codemirror_mode": {
    "name": "ipython",
    "version": 3
   },
   "file_extension": ".py",
   "mimetype": "text/x-python",
   "name": "python",
   "nbconvert_exporter": "python",
   "pygments_lexer": "ipython3",
   "version": "3.9.7"
  }
 },
 "nbformat": 4,
 "nbformat_minor": 5
}
